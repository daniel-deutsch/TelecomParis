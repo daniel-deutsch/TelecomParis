{
 "metadata": {
  "language_info": {
   "codemirror_mode": {
    "name": "ipython",
    "version": 3
   },
   "file_extension": ".py",
   "mimetype": "text/x-python",
   "name": "python",
   "nbconvert_exporter": "python",
   "pygments_lexer": "ipython3",
   "version": "3.8.5-final"
  },
  "orig_nbformat": 2,
  "kernelspec": {
   "name": "python38564bitvenvf5e9d0eb35aa462ebf80aee9a8493d47",
   "display_name": "Python 3.8.5 64-bit ('venv')",
   "language": "python"
  }
 },
 "nbformat": 4,
 "nbformat_minor": 2,
 "cells": [
  {
   "source": [
    "# TP2: Support Vector Machines\n",
    "\n",
    "*By Daniel Deutsch and Kevin Kühl*"
   ],
   "cell_type": "markdown",
   "metadata": {}
  },
  {
   "cell_type": "code",
   "execution_count": 1,
   "metadata": {},
   "outputs": [],
   "source": [
    "import numpy as np\n",
    "import pandas as pd\n",
    "import matplotlib.pyplot as plt"
   ]
  },
  {
   "source": [
    "# Exercise 1"
   ],
   "cell_type": "markdown",
   "metadata": {}
  },
  {
   "cell_type": "code",
   "execution_count": 2,
   "metadata": {},
   "outputs": [],
   "source": [
    "def load_breastcancer(filename):\n",
    "    data = np.loadtxt(filename, delimiter=',')\n",
    "\n",
    "    # The column 0 isn't important for us here\n",
    "    y = data[:, 1]*2 - 1\n",
    "    X = data[:, 2:]\n",
    "\n",
    "    # Standardisation of the matrix\n",
    "    X = X - np.mean(X, axis=0)\n",
    "    X = X / np.std(X, axis=0)\n",
    "\n",
    "    return X, y"
   ]
  },
  {
   "cell_type": "code",
   "execution_count": 3,
   "metadata": {},
   "outputs": [],
   "source": [
    "X, y = load_breastcancer(\"./datasets/wdbc_M1_B0.data\")"
   ]
  },
  {
   "source": [
    "# Exercise 2.1"
   ],
   "cell_type": "markdown",
   "metadata": {}
  },
  {
   "source": [
    "From the proposed initial problem, we have (considering c = 1)\n",
    "\n",
    "<br>\n",
    "\n",
    "\\begin{aligned}\n",
    "f(v, a, \\xi) = \\frac{1}{2} \\sum_j v_j^2 + \\sum_i \\xi_i\n",
    "\\end{aligned}\n",
    "\n",
    "<br>\n",
    "\n",
    "Observing the above function, we see that it is a increasing with $\\xi_i$, $\\forall i$ and $v_j$, $\\forall j$.\n",
    "\n",
    "Looking at the constraints of the original problem, we see that $\\forall i$, $\\xi_i$ must be greater or equal to zero and also greater or equal to $1 - y_i(x_i^Tv + a)$.\n",
    "\n",
    "Therefore, we define a new $\\xi_min \\in \\mathbb{R}^n$ as \n",
    "\n",
    "<br>\n",
    "\n",
    "\\begin{aligned}\n",
    "\\xi_{min_i} = max(0, 1 - y_i(x_i^Tv + a))\n",
    "\\end{aligned}\n",
    "\n",
    "<br>\n",
    "\n",
    "It stores the minimum value of $\\xi_i, \\forall i$.\n",
    "\n",
    "Therefore, upon the considerations of a increasing function made above\n",
    "\n",
    "<br>\n",
    "\n",
    "\\begin{aligned}\n",
    "f(v, a, \\xi) \\ge f(v, a, \\xi_{min}).\n",
    "\\end{aligned}\n",
    "\n",
    "<br>\n",
    "\n",
    "And, therefore\n",
    "\n",
    "<br>\n",
    "\n",
    "\\begin{aligned}\n",
    "min_{v,a,\\xi} f(v,a,\\xi) \\ge min_{v,a,\\xi} f(v, a, \\xi_{min}) = min_{v,a} f(v, a, \\xi_{min})\n",
    "\\end{aligned}\n",
    "\n",
    "<br>\n",
    "\n",
    "Besides, if we consider a function $g(x,y)$ which accepts a minimum, $\\forall y_0 \\in Y$ we have\n",
    "\n",
    "<br>\n",
    "\n",
    "\\begin{aligned}\n",
    "min_{x\\in X, y \\in Y} g(x,y) \\le min_{x \\in X} g(x,y_0)\n",
    "\\end{aligned}\n",
    "\n",
    "Analogally,\n",
    "\n",
    "<br>\n",
    "\n",
    "\\begin{aligned}\n",
    "min_{v,a,\\xi} f(v,a,\\xi) \\le min_{v,a} f(v, a, \\xi_{min})\n",
    "\\end{aligned}\n",
    "\n",
    "<br>\n",
    "\n",
    "Using both inequalities, we can finally write\n",
    "\n",
    "<br>\n",
    "\n",
    "\\begin{aligned}\n",
    "min_{v,a,\\xi} f(v,a,\\xi) = min_{v,a} f(v, a, \\xi_{min})\n",
    "\\end{aligned}\n",
    "\n",
    "<br>\n",
    "\n",
    "Which proves the equivalence."
   ],
   "cell_type": "markdown",
   "metadata": {}
  },
  {
   "source": [
    "# Exercise 2.2"
   ],
   "cell_type": "markdown",
   "metadata": {}
  },
  {
   "source": [
    "Let's plot the function and the straight lines in between both existing gradients."
   ],
   "cell_type": "markdown",
   "metadata": {}
  },
  {
   "cell_type": "code",
   "execution_count": 4,
   "metadata": {},
   "outputs": [
    {
     "output_type": "display_data",
     "data": {
      "text/plain": "<Figure size 432x288 with 1 Axes>",
      "image/svg+xml": "<?xml version=\"1.0\" encoding=\"utf-8\" standalone=\"no\"?>\r\n<!DOCTYPE svg PUBLIC \"-//W3C//DTD SVG 1.1//EN\"\r\n  \"http://www.w3.org/Graphics/SVG/1.1/DTD/svg11.dtd\">\r\n<!-- Created with matplotlib (https://matplotlib.org/) -->\r\n<svg height=\"248.518125pt\" version=\"1.1\" viewBox=\"0 0 380.482812 248.518125\" width=\"380.482812pt\" xmlns=\"http://www.w3.org/2000/svg\" xmlns:xlink=\"http://www.w3.org/1999/xlink\">\r\n <metadata>\r\n  <rdf:RDF xmlns:cc=\"http://creativecommons.org/ns#\" xmlns:dc=\"http://purl.org/dc/elements/1.1/\" xmlns:rdf=\"http://www.w3.org/1999/02/22-rdf-syntax-ns#\">\r\n   <cc:Work>\r\n    <dc:type rdf:resource=\"http://purl.org/dc/dcmitype/StillImage\"/>\r\n    <dc:date>2021-02-04T01:05:31.004171</dc:date>\r\n    <dc:format>image/svg+xml</dc:format>\r\n    <dc:creator>\r\n     <cc:Agent>\r\n      <dc:title>Matplotlib v3.3.4, https://matplotlib.org/</dc:title>\r\n     </cc:Agent>\r\n    </dc:creator>\r\n   </cc:Work>\r\n  </rdf:RDF>\r\n </metadata>\r\n <defs>\r\n  <style type=\"text/css\">*{stroke-linecap:butt;stroke-linejoin:round;}</style>\r\n </defs>\r\n <g id=\"figure_1\">\r\n  <g id=\"patch_1\">\r\n   <path d=\"M -0 248.518125 \r\nL 380.482812 248.518125 \r\nL 380.482812 0 \r\nL -0 0 \r\nz\r\n\" style=\"fill:none;\"/>\r\n  </g>\r\n  <g id=\"axes_1\">\r\n   <g id=\"patch_2\">\r\n    <path d=\"M 38.482813 224.64 \r\nL 373.282813 224.64 \r\nL 373.282813 7.2 \r\nL 38.482813 7.2 \r\nz\r\n\" style=\"fill:#ffffff;\"/>\r\n   </g>\r\n   <g id=\"matplotlib.axis_1\">\r\n    <g id=\"xtick_1\">\r\n     <g id=\"line2d_1\">\r\n      <defs>\r\n       <path d=\"M 0 0 \r\nL 0 3.5 \r\n\" id=\"m2fdb328da7\" style=\"stroke:#000000;stroke-width:0.8;\"/>\r\n      </defs>\r\n      <g>\r\n       <use style=\"stroke:#000000;stroke-width:0.8;\" x=\"53.700994\" xlink:href=\"#m2fdb328da7\" y=\"224.64\"/>\r\n      </g>\r\n     </g>\r\n     <g id=\"text_1\">\r\n      <!-- −10.0 -->\r\n      <g transform=\"translate(38.378338 239.238437)scale(0.1 -0.1)\">\r\n       <defs>\r\n        <path d=\"M 10.59375 35.5 \r\nL 73.1875 35.5 \r\nL 73.1875 27.203125 \r\nL 10.59375 27.203125 \r\nz\r\n\" id=\"DejaVuSans-8722\"/>\r\n        <path d=\"M 12.40625 8.296875 \r\nL 28.515625 8.296875 \r\nL 28.515625 63.921875 \r\nL 10.984375 60.40625 \r\nL 10.984375 69.390625 \r\nL 28.421875 72.90625 \r\nL 38.28125 72.90625 \r\nL 38.28125 8.296875 \r\nL 54.390625 8.296875 \r\nL 54.390625 0 \r\nL 12.40625 0 \r\nz\r\n\" id=\"DejaVuSans-49\"/>\r\n        <path d=\"M 31.78125 66.40625 \r\nQ 24.171875 66.40625 20.328125 58.90625 \r\nQ 16.5 51.421875 16.5 36.375 \r\nQ 16.5 21.390625 20.328125 13.890625 \r\nQ 24.171875 6.390625 31.78125 6.390625 \r\nQ 39.453125 6.390625 43.28125 13.890625 \r\nQ 47.125 21.390625 47.125 36.375 \r\nQ 47.125 51.421875 43.28125 58.90625 \r\nQ 39.453125 66.40625 31.78125 66.40625 \r\nz\r\nM 31.78125 74.21875 \r\nQ 44.046875 74.21875 50.515625 64.515625 \r\nQ 56.984375 54.828125 56.984375 36.375 \r\nQ 56.984375 17.96875 50.515625 8.265625 \r\nQ 44.046875 -1.421875 31.78125 -1.421875 \r\nQ 19.53125 -1.421875 13.0625 8.265625 \r\nQ 6.59375 17.96875 6.59375 36.375 \r\nQ 6.59375 54.828125 13.0625 64.515625 \r\nQ 19.53125 74.21875 31.78125 74.21875 \r\nz\r\n\" id=\"DejaVuSans-48\"/>\r\n        <path d=\"M 10.6875 12.40625 \r\nL 21 12.40625 \r\nL 21 0 \r\nL 10.6875 0 \r\nz\r\n\" id=\"DejaVuSans-46\"/>\r\n       </defs>\r\n       <use xlink:href=\"#DejaVuSans-8722\"/>\r\n       <use x=\"83.789062\" xlink:href=\"#DejaVuSans-49\"/>\r\n       <use x=\"147.412109\" xlink:href=\"#DejaVuSans-48\"/>\r\n       <use x=\"211.035156\" xlink:href=\"#DejaVuSans-46\"/>\r\n       <use x=\"242.822266\" xlink:href=\"#DejaVuSans-48\"/>\r\n      </g>\r\n     </g>\r\n    </g>\r\n    <g id=\"xtick_2\">\r\n     <g id=\"line2d_2\">\r\n      <g>\r\n       <use style=\"stroke:#000000;stroke-width:0.8;\" x=\"91.765481\" xlink:href=\"#m2fdb328da7\" y=\"224.64\"/>\r\n      </g>\r\n     </g>\r\n     <g id=\"text_2\">\r\n      <!-- −7.5 -->\r\n      <g transform=\"translate(79.624075 239.238437)scale(0.1 -0.1)\">\r\n       <defs>\r\n        <path d=\"M 8.203125 72.90625 \r\nL 55.078125 72.90625 \r\nL 55.078125 68.703125 \r\nL 28.609375 0 \r\nL 18.3125 0 \r\nL 43.21875 64.59375 \r\nL 8.203125 64.59375 \r\nz\r\n\" id=\"DejaVuSans-55\"/>\r\n        <path d=\"M 10.796875 72.90625 \r\nL 49.515625 72.90625 \r\nL 49.515625 64.59375 \r\nL 19.828125 64.59375 \r\nL 19.828125 46.734375 \r\nQ 21.96875 47.46875 24.109375 47.828125 \r\nQ 26.265625 48.1875 28.421875 48.1875 \r\nQ 40.625 48.1875 47.75 41.5 \r\nQ 54.890625 34.8125 54.890625 23.390625 \r\nQ 54.890625 11.625 47.5625 5.09375 \r\nQ 40.234375 -1.421875 26.90625 -1.421875 \r\nQ 22.3125 -1.421875 17.546875 -0.640625 \r\nQ 12.796875 0.140625 7.71875 1.703125 \r\nL 7.71875 11.625 \r\nQ 12.109375 9.234375 16.796875 8.0625 \r\nQ 21.484375 6.890625 26.703125 6.890625 \r\nQ 35.15625 6.890625 40.078125 11.328125 \r\nQ 45.015625 15.765625 45.015625 23.390625 \r\nQ 45.015625 31 40.078125 35.4375 \r\nQ 35.15625 39.890625 26.703125 39.890625 \r\nQ 22.75 39.890625 18.8125 39.015625 \r\nQ 14.890625 38.140625 10.796875 36.28125 \r\nz\r\n\" id=\"DejaVuSans-53\"/>\r\n       </defs>\r\n       <use xlink:href=\"#DejaVuSans-8722\"/>\r\n       <use x=\"83.789062\" xlink:href=\"#DejaVuSans-55\"/>\r\n       <use x=\"147.412109\" xlink:href=\"#DejaVuSans-46\"/>\r\n       <use x=\"179.199219\" xlink:href=\"#DejaVuSans-53\"/>\r\n      </g>\r\n     </g>\r\n    </g>\r\n    <g id=\"xtick_3\">\r\n     <g id=\"line2d_3\">\r\n      <g>\r\n       <use style=\"stroke:#000000;stroke-width:0.8;\" x=\"129.829968\" xlink:href=\"#m2fdb328da7\" y=\"224.64\"/>\r\n      </g>\r\n     </g>\r\n     <g id=\"text_3\">\r\n      <!-- −5.0 -->\r\n      <g transform=\"translate(117.688562 239.238437)scale(0.1 -0.1)\">\r\n       <use xlink:href=\"#DejaVuSans-8722\"/>\r\n       <use x=\"83.789062\" xlink:href=\"#DejaVuSans-53\"/>\r\n       <use x=\"147.412109\" xlink:href=\"#DejaVuSans-46\"/>\r\n       <use x=\"179.199219\" xlink:href=\"#DejaVuSans-48\"/>\r\n      </g>\r\n     </g>\r\n    </g>\r\n    <g id=\"xtick_4\">\r\n     <g id=\"line2d_4\">\r\n      <g>\r\n       <use style=\"stroke:#000000;stroke-width:0.8;\" x=\"167.894455\" xlink:href=\"#m2fdb328da7\" y=\"224.64\"/>\r\n      </g>\r\n     </g>\r\n     <g id=\"text_4\">\r\n      <!-- −2.5 -->\r\n      <g transform=\"translate(155.753048 239.238437)scale(0.1 -0.1)\">\r\n       <defs>\r\n        <path d=\"M 19.1875 8.296875 \r\nL 53.609375 8.296875 \r\nL 53.609375 0 \r\nL 7.328125 0 \r\nL 7.328125 8.296875 \r\nQ 12.9375 14.109375 22.625 23.890625 \r\nQ 32.328125 33.6875 34.8125 36.53125 \r\nQ 39.546875 41.84375 41.421875 45.53125 \r\nQ 43.3125 49.21875 43.3125 52.78125 \r\nQ 43.3125 58.59375 39.234375 62.25 \r\nQ 35.15625 65.921875 28.609375 65.921875 \r\nQ 23.96875 65.921875 18.8125 64.3125 \r\nQ 13.671875 62.703125 7.8125 59.421875 \r\nL 7.8125 69.390625 \r\nQ 13.765625 71.78125 18.9375 73 \r\nQ 24.125 74.21875 28.421875 74.21875 \r\nQ 39.75 74.21875 46.484375 68.546875 \r\nQ 53.21875 62.890625 53.21875 53.421875 \r\nQ 53.21875 48.921875 51.53125 44.890625 \r\nQ 49.859375 40.875 45.40625 35.40625 \r\nQ 44.1875 33.984375 37.640625 27.21875 \r\nQ 31.109375 20.453125 19.1875 8.296875 \r\nz\r\n\" id=\"DejaVuSans-50\"/>\r\n       </defs>\r\n       <use xlink:href=\"#DejaVuSans-8722\"/>\r\n       <use x=\"83.789062\" xlink:href=\"#DejaVuSans-50\"/>\r\n       <use x=\"147.412109\" xlink:href=\"#DejaVuSans-46\"/>\r\n       <use x=\"179.199219\" xlink:href=\"#DejaVuSans-53\"/>\r\n      </g>\r\n     </g>\r\n    </g>\r\n    <g id=\"xtick_5\">\r\n     <g id=\"line2d_5\">\r\n      <g>\r\n       <use style=\"stroke:#000000;stroke-width:0.8;\" x=\"205.958941\" xlink:href=\"#m2fdb328da7\" y=\"224.64\"/>\r\n      </g>\r\n     </g>\r\n     <g id=\"text_5\">\r\n      <!-- 0.0 -->\r\n      <g transform=\"translate(198.007379 239.238437)scale(0.1 -0.1)\">\r\n       <use xlink:href=\"#DejaVuSans-48\"/>\r\n       <use x=\"63.623047\" xlink:href=\"#DejaVuSans-46\"/>\r\n       <use x=\"95.410156\" xlink:href=\"#DejaVuSans-48\"/>\r\n      </g>\r\n     </g>\r\n    </g>\r\n    <g id=\"xtick_6\">\r\n     <g id=\"line2d_6\">\r\n      <g>\r\n       <use style=\"stroke:#000000;stroke-width:0.8;\" x=\"244.023428\" xlink:href=\"#m2fdb328da7\" y=\"224.64\"/>\r\n      </g>\r\n     </g>\r\n     <g id=\"text_6\">\r\n      <!-- 2.5 -->\r\n      <g transform=\"translate(236.071866 239.238437)scale(0.1 -0.1)\">\r\n       <use xlink:href=\"#DejaVuSans-50\"/>\r\n       <use x=\"63.623047\" xlink:href=\"#DejaVuSans-46\"/>\r\n       <use x=\"95.410156\" xlink:href=\"#DejaVuSans-53\"/>\r\n      </g>\r\n     </g>\r\n    </g>\r\n    <g id=\"xtick_7\">\r\n     <g id=\"line2d_7\">\r\n      <g>\r\n       <use style=\"stroke:#000000;stroke-width:0.8;\" x=\"282.087915\" xlink:href=\"#m2fdb328da7\" y=\"224.64\"/>\r\n      </g>\r\n     </g>\r\n     <g id=\"text_7\">\r\n      <!-- 5.0 -->\r\n      <g transform=\"translate(274.136353 239.238437)scale(0.1 -0.1)\">\r\n       <use xlink:href=\"#DejaVuSans-53\"/>\r\n       <use x=\"63.623047\" xlink:href=\"#DejaVuSans-46\"/>\r\n       <use x=\"95.410156\" xlink:href=\"#DejaVuSans-48\"/>\r\n      </g>\r\n     </g>\r\n    </g>\r\n    <g id=\"xtick_8\">\r\n     <g id=\"line2d_8\">\r\n      <g>\r\n       <use style=\"stroke:#000000;stroke-width:0.8;\" x=\"320.152402\" xlink:href=\"#m2fdb328da7\" y=\"224.64\"/>\r\n      </g>\r\n     </g>\r\n     <g id=\"text_8\">\r\n      <!-- 7.5 -->\r\n      <g transform=\"translate(312.200839 239.238437)scale(0.1 -0.1)\">\r\n       <use xlink:href=\"#DejaVuSans-55\"/>\r\n       <use x=\"63.623047\" xlink:href=\"#DejaVuSans-46\"/>\r\n       <use x=\"95.410156\" xlink:href=\"#DejaVuSans-53\"/>\r\n      </g>\r\n     </g>\r\n    </g>\r\n    <g id=\"xtick_9\">\r\n     <g id=\"line2d_9\">\r\n      <g>\r\n       <use style=\"stroke:#000000;stroke-width:0.8;\" x=\"358.216889\" xlink:href=\"#m2fdb328da7\" y=\"224.64\"/>\r\n      </g>\r\n     </g>\r\n     <g id=\"text_9\">\r\n      <!-- 10.0 -->\r\n      <g transform=\"translate(347.084076 239.238437)scale(0.1 -0.1)\">\r\n       <use xlink:href=\"#DejaVuSans-49\"/>\r\n       <use x=\"63.623047\" xlink:href=\"#DejaVuSans-48\"/>\r\n       <use x=\"127.246094\" xlink:href=\"#DejaVuSans-46\"/>\r\n       <use x=\"159.033203\" xlink:href=\"#DejaVuSans-48\"/>\r\n      </g>\r\n     </g>\r\n    </g>\r\n   </g>\r\n   <g id=\"matplotlib.axis_2\">\r\n    <g id=\"ytick_1\">\r\n     <g id=\"line2d_10\">\r\n      <defs>\r\n       <path d=\"M 0 0 \r\nL -3.5 0 \r\n\" id=\"m166545ae94\" style=\"stroke:#000000;stroke-width:0.8;\"/>\r\n      </defs>\r\n      <g>\r\n       <use style=\"stroke:#000000;stroke-width:0.8;\" x=\"38.482813\" xlink:href=\"#m166545ae94\" y=\"200.022378\"/>\r\n      </g>\r\n     </g>\r\n     <g id=\"text_10\">\r\n      <!-- −7.5 -->\r\n      <g transform=\"translate(7.2 203.821597)scale(0.1 -0.1)\">\r\n       <use xlink:href=\"#DejaVuSans-8722\"/>\r\n       <use x=\"83.789062\" xlink:href=\"#DejaVuSans-55\"/>\r\n       <use x=\"147.412109\" xlink:href=\"#DejaVuSans-46\"/>\r\n       <use x=\"179.199219\" xlink:href=\"#DejaVuSans-53\"/>\r\n      </g>\r\n     </g>\r\n    </g>\r\n    <g id=\"ytick_2\">\r\n     <g id=\"line2d_11\">\r\n      <g>\r\n       <use style=\"stroke:#000000;stroke-width:0.8;\" x=\"38.482813\" xlink:href=\"#m166545ae94\" y=\"175.300927\"/>\r\n      </g>\r\n     </g>\r\n     <g id=\"text_11\">\r\n      <!-- −5.0 -->\r\n      <g transform=\"translate(7.2 179.100146)scale(0.1 -0.1)\">\r\n       <use xlink:href=\"#DejaVuSans-8722\"/>\r\n       <use x=\"83.789062\" xlink:href=\"#DejaVuSans-53\"/>\r\n       <use x=\"147.412109\" xlink:href=\"#DejaVuSans-46\"/>\r\n       <use x=\"179.199219\" xlink:href=\"#DejaVuSans-48\"/>\r\n      </g>\r\n     </g>\r\n    </g>\r\n    <g id=\"ytick_3\">\r\n     <g id=\"line2d_12\">\r\n      <g>\r\n       <use style=\"stroke:#000000;stroke-width:0.8;\" x=\"38.482813\" xlink:href=\"#m166545ae94\" y=\"150.579475\"/>\r\n      </g>\r\n     </g>\r\n     <g id=\"text_12\">\r\n      <!-- −2.5 -->\r\n      <g transform=\"translate(7.2 154.378694)scale(0.1 -0.1)\">\r\n       <use xlink:href=\"#DejaVuSans-8722\"/>\r\n       <use x=\"83.789062\" xlink:href=\"#DejaVuSans-50\"/>\r\n       <use x=\"147.412109\" xlink:href=\"#DejaVuSans-46\"/>\r\n       <use x=\"179.199219\" xlink:href=\"#DejaVuSans-53\"/>\r\n      </g>\r\n     </g>\r\n    </g>\r\n    <g id=\"ytick_4\">\r\n     <g id=\"line2d_13\">\r\n      <g>\r\n       <use style=\"stroke:#000000;stroke-width:0.8;\" x=\"38.482813\" xlink:href=\"#m166545ae94\" y=\"125.858024\"/>\r\n      </g>\r\n     </g>\r\n     <g id=\"text_13\">\r\n      <!-- 0.0 -->\r\n      <g transform=\"translate(15.579688 129.657242)scale(0.1 -0.1)\">\r\n       <use xlink:href=\"#DejaVuSans-48\"/>\r\n       <use x=\"63.623047\" xlink:href=\"#DejaVuSans-46\"/>\r\n       <use x=\"95.410156\" xlink:href=\"#DejaVuSans-48\"/>\r\n      </g>\r\n     </g>\r\n    </g>\r\n    <g id=\"ytick_5\">\r\n     <g id=\"line2d_14\">\r\n      <g>\r\n       <use style=\"stroke:#000000;stroke-width:0.8;\" x=\"38.482813\" xlink:href=\"#m166545ae94\" y=\"101.136572\"/>\r\n      </g>\r\n     </g>\r\n     <g id=\"text_14\">\r\n      <!-- 2.5 -->\r\n      <g transform=\"translate(15.579688 104.935791)scale(0.1 -0.1)\">\r\n       <use xlink:href=\"#DejaVuSans-50\"/>\r\n       <use x=\"63.623047\" xlink:href=\"#DejaVuSans-46\"/>\r\n       <use x=\"95.410156\" xlink:href=\"#DejaVuSans-53\"/>\r\n      </g>\r\n     </g>\r\n    </g>\r\n    <g id=\"ytick_6\">\r\n     <g id=\"line2d_15\">\r\n      <g>\r\n       <use style=\"stroke:#000000;stroke-width:0.8;\" x=\"38.482813\" xlink:href=\"#m166545ae94\" y=\"76.41512\"/>\r\n      </g>\r\n     </g>\r\n     <g id=\"text_15\">\r\n      <!-- 5.0 -->\r\n      <g transform=\"translate(15.579688 80.214339)scale(0.1 -0.1)\">\r\n       <use xlink:href=\"#DejaVuSans-53\"/>\r\n       <use x=\"63.623047\" xlink:href=\"#DejaVuSans-46\"/>\r\n       <use x=\"95.410156\" xlink:href=\"#DejaVuSans-48\"/>\r\n      </g>\r\n     </g>\r\n    </g>\r\n    <g id=\"ytick_7\">\r\n     <g id=\"line2d_16\">\r\n      <g>\r\n       <use style=\"stroke:#000000;stroke-width:0.8;\" x=\"38.482813\" xlink:href=\"#m166545ae94\" y=\"51.693669\"/>\r\n      </g>\r\n     </g>\r\n     <g id=\"text_16\">\r\n      <!-- 7.5 -->\r\n      <g transform=\"translate(15.579688 55.492887)scale(0.1 -0.1)\">\r\n       <use xlink:href=\"#DejaVuSans-55\"/>\r\n       <use x=\"63.623047\" xlink:href=\"#DejaVuSans-46\"/>\r\n       <use x=\"95.410156\" xlink:href=\"#DejaVuSans-53\"/>\r\n      </g>\r\n     </g>\r\n    </g>\r\n    <g id=\"ytick_8\">\r\n     <g id=\"line2d_17\">\r\n      <g>\r\n       <use style=\"stroke:#000000;stroke-width:0.8;\" x=\"38.482813\" xlink:href=\"#m166545ae94\" y=\"26.972217\"/>\r\n      </g>\r\n     </g>\r\n     <g id=\"text_17\">\r\n      <!-- 10.0 -->\r\n      <g transform=\"translate(9.217188 30.771436)scale(0.1 -0.1)\">\r\n       <use xlink:href=\"#DejaVuSans-49\"/>\r\n       <use x=\"63.623047\" xlink:href=\"#DejaVuSans-48\"/>\r\n       <use x=\"127.246094\" xlink:href=\"#DejaVuSans-46\"/>\r\n       <use x=\"159.033203\" xlink:href=\"#DejaVuSans-48\"/>\r\n      </g>\r\n     </g>\r\n    </g>\r\n   </g>\r\n   <g id=\"line2d_18\">\r\n    <path clip-path=\"url(#p8094dc02c3)\" d=\"M 53.700994 17.083636 \r\nL 221.336994 125.858024 \r\nL 358.064631 125.858024 \r\nL 358.064631 125.858024 \r\n\" style=\"fill:none;stroke:#0000ff;stroke-linecap:square;stroke-width:3;\"/>\r\n   </g>\r\n   <g id=\"line2d_19\">\r\n    <path clip-path=\"url(#p8094dc02c3)\" d=\"M 53.700994 125.858024 \r\nL 358.064631 125.858024 \r\nL 358.064631 125.858024 \r\n\" style=\"fill:none;stroke:#008000;stroke-linecap:square;stroke-width:0.3;\"/>\r\n   </g>\r\n   <g id=\"line2d_20\">\r\n    <path clip-path=\"url(#p8094dc02c3)\" d=\"M 53.700994 120.419304 \r\nL 358.064631 130.302941 \r\nL 358.064631 130.302941 \r\n\" style=\"fill:none;stroke:#008000;stroke-linecap:square;stroke-width:0.3;\"/>\r\n   </g>\r\n   <g id=\"line2d_21\">\r\n    <path clip-path=\"url(#p8094dc02c3)\" d=\"M 53.700994 114.980585 \r\nL 358.064631 134.747858 \r\nL 358.064631 134.747858 \r\n\" style=\"fill:none;stroke:#008000;stroke-linecap:square;stroke-width:0.3;\"/>\r\n   </g>\r\n   <g id=\"line2d_22\">\r\n    <path clip-path=\"url(#p8094dc02c3)\" d=\"M 53.700994 109.541865 \r\nL 358.064631 139.192775 \r\nL 358.064631 139.192775 \r\n\" style=\"fill:none;stroke:#008000;stroke-linecap:square;stroke-width:0.3;\"/>\r\n   </g>\r\n   <g id=\"line2d_23\">\r\n    <path clip-path=\"url(#p8094dc02c3)\" d=\"M 53.700994 104.103146 \r\nL 358.064631 143.637692 \r\nL 358.064631 143.637692 \r\n\" style=\"fill:none;stroke:#008000;stroke-linecap:square;stroke-width:0.3;\"/>\r\n   </g>\r\n   <g id=\"line2d_24\">\r\n    <path clip-path=\"url(#p8094dc02c3)\" d=\"M 53.700994 98.664427 \r\nL 358.064631 148.082609 \r\nL 358.064631 148.082609 \r\n\" style=\"fill:none;stroke:#008000;stroke-linecap:square;stroke-width:0.3;\"/>\r\n   </g>\r\n   <g id=\"line2d_25\">\r\n    <path clip-path=\"url(#p8094dc02c3)\" d=\"M 53.700994 93.225707 \r\nL 358.064631 152.527526 \r\nL 358.064631 152.527526 \r\n\" style=\"fill:none;stroke:#008000;stroke-linecap:square;stroke-width:0.3;\"/>\r\n   </g>\r\n   <g id=\"line2d_26\">\r\n    <path clip-path=\"url(#p8094dc02c3)\" d=\"M 53.700994 87.786988 \r\nL 358.064631 156.972443 \r\nL 358.064631 156.972443 \r\n\" style=\"fill:none;stroke:#008000;stroke-linecap:square;stroke-width:0.3;\"/>\r\n   </g>\r\n   <g id=\"line2d_27\">\r\n    <path clip-path=\"url(#p8094dc02c3)\" d=\"M 53.700994 82.348269 \r\nL 358.064631 161.41736 \r\nL 358.064631 161.41736 \r\n\" style=\"fill:none;stroke:#008000;stroke-linecap:square;stroke-width:0.3;\"/>\r\n   </g>\r\n   <g id=\"line2d_28\">\r\n    <path clip-path=\"url(#p8094dc02c3)\" d=\"M 53.700994 76.909549 \r\nL 358.064631 165.862277 \r\nL 358.064631 165.862277 \r\n\" style=\"fill:none;stroke:#008000;stroke-linecap:square;stroke-width:0.3;\"/>\r\n   </g>\r\n   <g id=\"line2d_29\">\r\n    <path clip-path=\"url(#p8094dc02c3)\" d=\"M 53.700994 71.47083 \r\nL 358.064631 170.307194 \r\nL 358.064631 170.307194 \r\n\" style=\"fill:none;stroke:#008000;stroke-linecap:square;stroke-width:0.3;\"/>\r\n   </g>\r\n   <g id=\"line2d_30\">\r\n    <path clip-path=\"url(#p8094dc02c3)\" d=\"M 53.700994 66.032111 \r\nL 358.064631 174.752111 \r\nL 358.064631 174.752111 \r\n\" style=\"fill:none;stroke:#008000;stroke-linecap:square;stroke-width:0.3;\"/>\r\n   </g>\r\n   <g id=\"line2d_31\">\r\n    <path clip-path=\"url(#p8094dc02c3)\" d=\"M 53.700994 60.593391 \r\nL 358.064631 179.197028 \r\nL 358.064631 179.197028 \r\n\" style=\"fill:none;stroke:#008000;stroke-linecap:square;stroke-width:0.3;\"/>\r\n   </g>\r\n   <g id=\"line2d_32\">\r\n    <path clip-path=\"url(#p8094dc02c3)\" d=\"M 53.700994 55.154672 \r\nL 358.064631 183.641945 \r\nL 358.064631 183.641945 \r\n\" style=\"fill:none;stroke:#008000;stroke-linecap:square;stroke-width:0.3;\"/>\r\n   </g>\r\n   <g id=\"line2d_33\">\r\n    <path clip-path=\"url(#p8094dc02c3)\" d=\"M 53.700994 49.715953 \r\nL 358.064631 188.086862 \r\nL 358.064631 188.086862 \r\n\" style=\"fill:none;stroke:#008000;stroke-linecap:square;stroke-width:0.3;\"/>\r\n   </g>\r\n   <g id=\"line2d_34\">\r\n    <path clip-path=\"url(#p8094dc02c3)\" d=\"M 53.700994 44.277233 \r\nL 358.064631 192.531779 \r\nL 358.064631 192.531779 \r\n\" style=\"fill:none;stroke:#008000;stroke-linecap:square;stroke-width:0.3;\"/>\r\n   </g>\r\n   <g id=\"line2d_35\">\r\n    <path clip-path=\"url(#p8094dc02c3)\" d=\"M 53.700994 38.838514 \r\nL 358.064631 196.976696 \r\nL 358.064631 196.976696 \r\n\" style=\"fill:none;stroke:#008000;stroke-linecap:square;stroke-width:0.3;\"/>\r\n   </g>\r\n   <g id=\"line2d_36\">\r\n    <path clip-path=\"url(#p8094dc02c3)\" d=\"M 53.700994 33.399794 \r\nL 358.064631 201.421613 \r\nL 358.064631 201.421613 \r\n\" style=\"fill:none;stroke:#008000;stroke-linecap:square;stroke-width:0.3;\"/>\r\n   </g>\r\n   <g id=\"line2d_37\">\r\n    <path clip-path=\"url(#p8094dc02c3)\" d=\"M 53.700994 27.961075 \r\nL 358.064631 205.86653 \r\nL 358.064631 205.86653 \r\n\" style=\"fill:none;stroke:#008000;stroke-linecap:square;stroke-width:0.3;\"/>\r\n   </g>\r\n   <g id=\"line2d_38\">\r\n    <path clip-path=\"url(#p8094dc02c3)\" d=\"M 53.700994 22.522356 \r\nL 358.064631 210.311447 \r\nL 358.064631 210.311447 \r\n\" style=\"fill:none;stroke:#008000;stroke-linecap:square;stroke-width:0.3;\"/>\r\n   </g>\r\n   <g id=\"line2d_39\">\r\n    <path clip-path=\"url(#p8094dc02c3)\" d=\"M 53.700994 17.083636 \r\nL 358.064631 214.756364 \r\nL 358.064631 214.756364 \r\n\" style=\"fill:none;stroke:#008000;stroke-linecap:square;stroke-width:0.3;\"/>\r\n   </g>\r\n   <g id=\"patch_3\">\r\n    <path d=\"M 38.482813 224.64 \r\nL 38.482813 7.2 \r\n\" style=\"fill:none;stroke:#000000;stroke-linecap:square;stroke-linejoin:miter;stroke-width:0.8;\"/>\r\n   </g>\r\n   <g id=\"patch_4\">\r\n    <path d=\"M 373.282813 224.64 \r\nL 373.282813 7.2 \r\n\" style=\"fill:none;stroke:#000000;stroke-linecap:square;stroke-linejoin:miter;stroke-width:0.8;\"/>\r\n   </g>\r\n   <g id=\"patch_5\">\r\n    <path d=\"M 38.482812 224.64 \r\nL 373.282812 224.64 \r\n\" style=\"fill:none;stroke:#000000;stroke-linecap:square;stroke-linejoin:miter;stroke-width:0.8;\"/>\r\n   </g>\r\n   <g id=\"patch_6\">\r\n    <path d=\"M 38.482812 7.2 \r\nL 373.282812 7.2 \r\n\" style=\"fill:none;stroke:#000000;stroke-linecap:square;stroke-linejoin:miter;stroke-width:0.8;\"/>\r\n   </g>\r\n   <g id=\"legend_1\">\r\n    <g id=\"patch_7\">\r\n     <path d=\"M 251.696875 44.55625 \r\nL 366.282812 44.55625 \r\nQ 368.282812 44.55625 368.282812 42.55625 \r\nL 368.282812 14.2 \r\nQ 368.282812 12.2 366.282812 12.2 \r\nL 251.696875 12.2 \r\nQ 249.696875 12.2 249.696875 14.2 \r\nL 249.696875 42.55625 \r\nQ 249.696875 44.55625 251.696875 44.55625 \r\nz\r\n\" style=\"fill:#ffffff;opacity:0.8;stroke:#cccccc;stroke-linejoin:miter;\"/>\r\n    </g>\r\n    <g id=\"line2d_40\">\r\n     <path d=\"M 253.696875 20.298437 \r\nL 273.696875 20.298437 \r\n\" style=\"fill:none;stroke:#0000ff;stroke-linecap:square;stroke-width:3;\"/>\r\n    </g>\r\n    <g id=\"line2d_41\"/>\r\n    <g id=\"text_18\">\r\n     <!-- h(z) -->\r\n     <g transform=\"translate(281.696875 23.798437)scale(0.1 -0.1)\">\r\n      <defs>\r\n       <path d=\"M 54.890625 33.015625 \r\nL 54.890625 0 \r\nL 45.90625 0 \r\nL 45.90625 32.71875 \r\nQ 45.90625 40.484375 42.875 44.328125 \r\nQ 39.84375 48.1875 33.796875 48.1875 \r\nQ 26.515625 48.1875 22.3125 43.546875 \r\nQ 18.109375 38.921875 18.109375 30.90625 \r\nL 18.109375 0 \r\nL 9.078125 0 \r\nL 9.078125 75.984375 \r\nL 18.109375 75.984375 \r\nL 18.109375 46.1875 \r\nQ 21.34375 51.125 25.703125 53.5625 \r\nQ 30.078125 56 35.796875 56 \r\nQ 45.21875 56 50.046875 50.171875 \r\nQ 54.890625 44.34375 54.890625 33.015625 \r\nz\r\n\" id=\"DejaVuSans-104\"/>\r\n       <path d=\"M 31 75.875 \r\nQ 24.46875 64.65625 21.28125 53.65625 \r\nQ 18.109375 42.671875 18.109375 31.390625 \r\nQ 18.109375 20.125 21.3125 9.0625 \r\nQ 24.515625 -2 31 -13.1875 \r\nL 23.1875 -13.1875 \r\nQ 15.875 -1.703125 12.234375 9.375 \r\nQ 8.59375 20.453125 8.59375 31.390625 \r\nQ 8.59375 42.28125 12.203125 53.3125 \r\nQ 15.828125 64.359375 23.1875 75.875 \r\nz\r\n\" id=\"DejaVuSans-40\"/>\r\n       <path d=\"M 5.515625 54.6875 \r\nL 48.1875 54.6875 \r\nL 48.1875 46.484375 \r\nL 14.40625 7.171875 \r\nL 48.1875 7.171875 \r\nL 48.1875 0 \r\nL 4.296875 0 \r\nL 4.296875 8.203125 \r\nL 38.09375 47.515625 \r\nL 5.515625 47.515625 \r\nz\r\n\" id=\"DejaVuSans-122\"/>\r\n       <path d=\"M 8.015625 75.875 \r\nL 15.828125 75.875 \r\nQ 23.140625 64.359375 26.78125 53.3125 \r\nQ 30.421875 42.28125 30.421875 31.390625 \r\nQ 30.421875 20.453125 26.78125 9.375 \r\nQ 23.140625 -1.703125 15.828125 -13.1875 \r\nL 8.015625 -13.1875 \r\nQ 14.5 -2 17.703125 9.0625 \r\nQ 20.90625 20.125 20.90625 31.390625 \r\nQ 20.90625 42.671875 17.703125 53.65625 \r\nQ 14.5 64.65625 8.015625 75.875 \r\nz\r\n\" id=\"DejaVuSans-41\"/>\r\n      </defs>\r\n      <use xlink:href=\"#DejaVuSans-104\"/>\r\n      <use x=\"63.378906\" xlink:href=\"#DejaVuSans-40\"/>\r\n      <use x=\"102.392578\" xlink:href=\"#DejaVuSans-122\"/>\r\n      <use x=\"154.882812\" xlink:href=\"#DejaVuSans-41\"/>\r\n     </g>\r\n    </g>\r\n    <g id=\"line2d_42\">\r\n     <path d=\"M 253.696875 34.976562 \r\nL 273.696875 34.976562 \r\n\" style=\"fill:none;stroke:#008000;stroke-linecap:square;stroke-width:0.3;\"/>\r\n    </g>\r\n    <g id=\"line2d_43\"/>\r\n    <g id=\"text_19\">\r\n     <!-- Possible tangent -->\r\n     <g transform=\"translate(281.696875 38.476562)scale(0.1 -0.1)\">\r\n      <defs>\r\n       <path d=\"M 19.671875 64.796875 \r\nL 19.671875 37.40625 \r\nL 32.078125 37.40625 \r\nQ 38.96875 37.40625 42.71875 40.96875 \r\nQ 46.484375 44.53125 46.484375 51.125 \r\nQ 46.484375 57.671875 42.71875 61.234375 \r\nQ 38.96875 64.796875 32.078125 64.796875 \r\nz\r\nM 9.8125 72.90625 \r\nL 32.078125 72.90625 \r\nQ 44.34375 72.90625 50.609375 67.359375 \r\nQ 56.890625 61.8125 56.890625 51.125 \r\nQ 56.890625 40.328125 50.609375 34.8125 \r\nQ 44.34375 29.296875 32.078125 29.296875 \r\nL 19.671875 29.296875 \r\nL 19.671875 0 \r\nL 9.8125 0 \r\nz\r\n\" id=\"DejaVuSans-80\"/>\r\n       <path d=\"M 30.609375 48.390625 \r\nQ 23.390625 48.390625 19.1875 42.75 \r\nQ 14.984375 37.109375 14.984375 27.296875 \r\nQ 14.984375 17.484375 19.15625 11.84375 \r\nQ 23.34375 6.203125 30.609375 6.203125 \r\nQ 37.796875 6.203125 41.984375 11.859375 \r\nQ 46.1875 17.53125 46.1875 27.296875 \r\nQ 46.1875 37.015625 41.984375 42.703125 \r\nQ 37.796875 48.390625 30.609375 48.390625 \r\nz\r\nM 30.609375 56 \r\nQ 42.328125 56 49.015625 48.375 \r\nQ 55.71875 40.765625 55.71875 27.296875 \r\nQ 55.71875 13.875 49.015625 6.21875 \r\nQ 42.328125 -1.421875 30.609375 -1.421875 \r\nQ 18.84375 -1.421875 12.171875 6.21875 \r\nQ 5.515625 13.875 5.515625 27.296875 \r\nQ 5.515625 40.765625 12.171875 48.375 \r\nQ 18.84375 56 30.609375 56 \r\nz\r\n\" id=\"DejaVuSans-111\"/>\r\n       <path d=\"M 44.28125 53.078125 \r\nL 44.28125 44.578125 \r\nQ 40.484375 46.53125 36.375 47.5 \r\nQ 32.28125 48.484375 27.875 48.484375 \r\nQ 21.1875 48.484375 17.84375 46.4375 \r\nQ 14.5 44.390625 14.5 40.28125 \r\nQ 14.5 37.15625 16.890625 35.375 \r\nQ 19.28125 33.59375 26.515625 31.984375 \r\nL 29.59375 31.296875 \r\nQ 39.15625 29.25 43.1875 25.515625 \r\nQ 47.21875 21.78125 47.21875 15.09375 \r\nQ 47.21875 7.46875 41.1875 3.015625 \r\nQ 35.15625 -1.421875 24.609375 -1.421875 \r\nQ 20.21875 -1.421875 15.453125 -0.5625 \r\nQ 10.6875 0.296875 5.421875 2 \r\nL 5.421875 11.28125 \r\nQ 10.40625 8.6875 15.234375 7.390625 \r\nQ 20.0625 6.109375 24.8125 6.109375 \r\nQ 31.15625 6.109375 34.5625 8.28125 \r\nQ 37.984375 10.453125 37.984375 14.40625 \r\nQ 37.984375 18.0625 35.515625 20.015625 \r\nQ 33.0625 21.96875 24.703125 23.78125 \r\nL 21.578125 24.515625 \r\nQ 13.234375 26.265625 9.515625 29.90625 \r\nQ 5.8125 33.546875 5.8125 39.890625 \r\nQ 5.8125 47.609375 11.28125 51.796875 \r\nQ 16.75 56 26.8125 56 \r\nQ 31.78125 56 36.171875 55.265625 \r\nQ 40.578125 54.546875 44.28125 53.078125 \r\nz\r\n\" id=\"DejaVuSans-115\"/>\r\n       <path d=\"M 9.421875 54.6875 \r\nL 18.40625 54.6875 \r\nL 18.40625 0 \r\nL 9.421875 0 \r\nz\r\nM 9.421875 75.984375 \r\nL 18.40625 75.984375 \r\nL 18.40625 64.59375 \r\nL 9.421875 64.59375 \r\nz\r\n\" id=\"DejaVuSans-105\"/>\r\n       <path d=\"M 48.6875 27.296875 \r\nQ 48.6875 37.203125 44.609375 42.84375 \r\nQ 40.53125 48.484375 33.40625 48.484375 \r\nQ 26.265625 48.484375 22.1875 42.84375 \r\nQ 18.109375 37.203125 18.109375 27.296875 \r\nQ 18.109375 17.390625 22.1875 11.75 \r\nQ 26.265625 6.109375 33.40625 6.109375 \r\nQ 40.53125 6.109375 44.609375 11.75 \r\nQ 48.6875 17.390625 48.6875 27.296875 \r\nz\r\nM 18.109375 46.390625 \r\nQ 20.953125 51.265625 25.265625 53.625 \r\nQ 29.59375 56 35.59375 56 \r\nQ 45.5625 56 51.78125 48.09375 \r\nQ 58.015625 40.1875 58.015625 27.296875 \r\nQ 58.015625 14.40625 51.78125 6.484375 \r\nQ 45.5625 -1.421875 35.59375 -1.421875 \r\nQ 29.59375 -1.421875 25.265625 0.953125 \r\nQ 20.953125 3.328125 18.109375 8.203125 \r\nL 18.109375 0 \r\nL 9.078125 0 \r\nL 9.078125 75.984375 \r\nL 18.109375 75.984375 \r\nz\r\n\" id=\"DejaVuSans-98\"/>\r\n       <path d=\"M 9.421875 75.984375 \r\nL 18.40625 75.984375 \r\nL 18.40625 0 \r\nL 9.421875 0 \r\nz\r\n\" id=\"DejaVuSans-108\"/>\r\n       <path d=\"M 56.203125 29.59375 \r\nL 56.203125 25.203125 \r\nL 14.890625 25.203125 \r\nQ 15.484375 15.921875 20.484375 11.0625 \r\nQ 25.484375 6.203125 34.421875 6.203125 \r\nQ 39.59375 6.203125 44.453125 7.46875 \r\nQ 49.3125 8.734375 54.109375 11.28125 \r\nL 54.109375 2.78125 \r\nQ 49.265625 0.734375 44.1875 -0.34375 \r\nQ 39.109375 -1.421875 33.890625 -1.421875 \r\nQ 20.796875 -1.421875 13.15625 6.1875 \r\nQ 5.515625 13.8125 5.515625 26.8125 \r\nQ 5.515625 40.234375 12.765625 48.109375 \r\nQ 20.015625 56 32.328125 56 \r\nQ 43.359375 56 49.78125 48.890625 \r\nQ 56.203125 41.796875 56.203125 29.59375 \r\nz\r\nM 47.21875 32.234375 \r\nQ 47.125 39.59375 43.09375 43.984375 \r\nQ 39.0625 48.390625 32.421875 48.390625 \r\nQ 24.90625 48.390625 20.390625 44.140625 \r\nQ 15.875 39.890625 15.1875 32.171875 \r\nz\r\n\" id=\"DejaVuSans-101\"/>\r\n       <path id=\"DejaVuSans-32\"/>\r\n       <path d=\"M 18.3125 70.21875 \r\nL 18.3125 54.6875 \r\nL 36.8125 54.6875 \r\nL 36.8125 47.703125 \r\nL 18.3125 47.703125 \r\nL 18.3125 18.015625 \r\nQ 18.3125 11.328125 20.140625 9.421875 \r\nQ 21.96875 7.515625 27.59375 7.515625 \r\nL 36.8125 7.515625 \r\nL 36.8125 0 \r\nL 27.59375 0 \r\nQ 17.1875 0 13.234375 3.875 \r\nQ 9.28125 7.765625 9.28125 18.015625 \r\nL 9.28125 47.703125 \r\nL 2.6875 47.703125 \r\nL 2.6875 54.6875 \r\nL 9.28125 54.6875 \r\nL 9.28125 70.21875 \r\nz\r\n\" id=\"DejaVuSans-116\"/>\r\n       <path d=\"M 34.28125 27.484375 \r\nQ 23.390625 27.484375 19.1875 25 \r\nQ 14.984375 22.515625 14.984375 16.5 \r\nQ 14.984375 11.71875 18.140625 8.90625 \r\nQ 21.296875 6.109375 26.703125 6.109375 \r\nQ 34.1875 6.109375 38.703125 11.40625 \r\nQ 43.21875 16.703125 43.21875 25.484375 \r\nL 43.21875 27.484375 \r\nz\r\nM 52.203125 31.203125 \r\nL 52.203125 0 \r\nL 43.21875 0 \r\nL 43.21875 8.296875 \r\nQ 40.140625 3.328125 35.546875 0.953125 \r\nQ 30.953125 -1.421875 24.3125 -1.421875 \r\nQ 15.921875 -1.421875 10.953125 3.296875 \r\nQ 6 8.015625 6 15.921875 \r\nQ 6 25.140625 12.171875 29.828125 \r\nQ 18.359375 34.515625 30.609375 34.515625 \r\nL 43.21875 34.515625 \r\nL 43.21875 35.40625 \r\nQ 43.21875 41.609375 39.140625 45 \r\nQ 35.0625 48.390625 27.6875 48.390625 \r\nQ 23 48.390625 18.546875 47.265625 \r\nQ 14.109375 46.140625 10.015625 43.890625 \r\nL 10.015625 52.203125 \r\nQ 14.9375 54.109375 19.578125 55.046875 \r\nQ 24.21875 56 28.609375 56 \r\nQ 40.484375 56 46.34375 49.84375 \r\nQ 52.203125 43.703125 52.203125 31.203125 \r\nz\r\n\" id=\"DejaVuSans-97\"/>\r\n       <path d=\"M 54.890625 33.015625 \r\nL 54.890625 0 \r\nL 45.90625 0 \r\nL 45.90625 32.71875 \r\nQ 45.90625 40.484375 42.875 44.328125 \r\nQ 39.84375 48.1875 33.796875 48.1875 \r\nQ 26.515625 48.1875 22.3125 43.546875 \r\nQ 18.109375 38.921875 18.109375 30.90625 \r\nL 18.109375 0 \r\nL 9.078125 0 \r\nL 9.078125 54.6875 \r\nL 18.109375 54.6875 \r\nL 18.109375 46.1875 \r\nQ 21.34375 51.125 25.703125 53.5625 \r\nQ 30.078125 56 35.796875 56 \r\nQ 45.21875 56 50.046875 50.171875 \r\nQ 54.890625 44.34375 54.890625 33.015625 \r\nz\r\n\" id=\"DejaVuSans-110\"/>\r\n       <path d=\"M 45.40625 27.984375 \r\nQ 45.40625 37.75 41.375 43.109375 \r\nQ 37.359375 48.484375 30.078125 48.484375 \r\nQ 22.859375 48.484375 18.828125 43.109375 \r\nQ 14.796875 37.75 14.796875 27.984375 \r\nQ 14.796875 18.265625 18.828125 12.890625 \r\nQ 22.859375 7.515625 30.078125 7.515625 \r\nQ 37.359375 7.515625 41.375 12.890625 \r\nQ 45.40625 18.265625 45.40625 27.984375 \r\nz\r\nM 54.390625 6.78125 \r\nQ 54.390625 -7.171875 48.1875 -13.984375 \r\nQ 42 -20.796875 29.203125 -20.796875 \r\nQ 24.46875 -20.796875 20.265625 -20.09375 \r\nQ 16.0625 -19.390625 12.109375 -17.921875 \r\nL 12.109375 -9.1875 \r\nQ 16.0625 -11.328125 19.921875 -12.34375 \r\nQ 23.78125 -13.375 27.78125 -13.375 \r\nQ 36.625 -13.375 41.015625 -8.765625 \r\nQ 45.40625 -4.15625 45.40625 5.171875 \r\nL 45.40625 9.625 \r\nQ 42.625 4.78125 38.28125 2.390625 \r\nQ 33.9375 0 27.875 0 \r\nQ 17.828125 0 11.671875 7.65625 \r\nQ 5.515625 15.328125 5.515625 27.984375 \r\nQ 5.515625 40.671875 11.671875 48.328125 \r\nQ 17.828125 56 27.875 56 \r\nQ 33.9375 56 38.28125 53.609375 \r\nQ 42.625 51.21875 45.40625 46.390625 \r\nL 45.40625 54.6875 \r\nL 54.390625 54.6875 \r\nz\r\n\" id=\"DejaVuSans-103\"/>\r\n      </defs>\r\n      <use xlink:href=\"#DejaVuSans-80\"/>\r\n      <use x=\"56.677734\" xlink:href=\"#DejaVuSans-111\"/>\r\n      <use x=\"117.859375\" xlink:href=\"#DejaVuSans-115\"/>\r\n      <use x=\"169.958984\" xlink:href=\"#DejaVuSans-115\"/>\r\n      <use x=\"222.058594\" xlink:href=\"#DejaVuSans-105\"/>\r\n      <use x=\"249.841797\" xlink:href=\"#DejaVuSans-98\"/>\r\n      <use x=\"313.318359\" xlink:href=\"#DejaVuSans-108\"/>\r\n      <use x=\"341.101562\" xlink:href=\"#DejaVuSans-101\"/>\r\n      <use x=\"402.625\" xlink:href=\"#DejaVuSans-32\"/>\r\n      <use x=\"434.412109\" xlink:href=\"#DejaVuSans-116\"/>\r\n      <use x=\"473.621094\" xlink:href=\"#DejaVuSans-97\"/>\r\n      <use x=\"534.900391\" xlink:href=\"#DejaVuSans-110\"/>\r\n      <use x=\"598.279297\" xlink:href=\"#DejaVuSans-103\"/>\r\n      <use x=\"661.755859\" xlink:href=\"#DejaVuSans-101\"/>\r\n      <use x=\"723.279297\" xlink:href=\"#DejaVuSans-110\"/>\r\n      <use x=\"786.658203\" xlink:href=\"#DejaVuSans-116\"/>\r\n     </g>\r\n    </g>\r\n   </g>\r\n  </g>\r\n </g>\r\n <defs>\r\n  <clipPath id=\"p8094dc02c3\">\r\n   <rect height=\"217.44\" width=\"334.8\" x=\"38.482813\" y=\"7.2\"/>\r\n  </clipPath>\r\n </defs>\r\n</svg>\r\n",
      "image/png": "[encoded data removed]"
     },
     "metadata": {
      "needs_background": "light"
     }
    }
   ],
   "source": [
    "def h(z):\n",
    "    return np.maximum(np.zeros(z.shape), 1-z)\n",
    "\n",
    "z = np.arange(-10, 10, 0.01)\n",
    "\n",
    "plt.plot(z, h(z), color='blue', linewidth=3.0)\n",
    "for j in range(21):\n",
    "    slope = -j/20\n",
    "    ords = (z-1)*slope\n",
    "    plt.plot(z, ords, color='green', linewidth=0.3)\n",
    "    \n",
    "plt.legend([\"h(z)\", \"Possible tangent\"])\n",
    "plt.show()"
   ]
  },
  {
   "source": [
    "We see that h(z) is derivable for all z different from 1. Therefore, if $z \\neq$ 1\n",
    "\n",
    "<br>\n",
    "\n",
    "\\begin{aligned}\n",
    "    \\partial h(z) = \\frac{dh(z)}{dz}\n",
    "\\end{aligned}\n",
    "\n",
    "For z = 1, we have (by looking at the above plot) that all the slopes are in between -1 and 0, therefore \n",
    "\n",
    "\n",
    "\\begin{aligned}\n",
    "    \\partial h(z) = \n",
    "    \\begin{cases}\n",
    "        \\{-1\\} & if \\ z \\lt 1 \\\\\n",
    "        [-1;0] & if \\ z = 1 \\\\\n",
    "        \\{0\\} & if \\ z \\gt 1 \\\\\n",
    "    \\end{cases}\n",
    "\\end{aligned}"
   ],
   "cell_type": "markdown",
   "metadata": {}
  },
  {
   "source": [
    "# Exercise 2.3"
   ],
   "cell_type": "markdown",
   "metadata": {}
  },
  {
   "source": [
    "We first rewrite $f(v,a)$:\n",
    "\n",
    "<br>\n",
    "\n",
    "\\begin{aligned}\n",
    "    f(v, a) = \\frac{1}{2}\\cdotp\\sum_{j=1}^{m} v^2_j + c\\cdotp\\sum_{i=1}^{n}max(0,1-y_i(x_i^Tv+a))\n",
    "\\end{aligned}\n",
    "\n",
    "<br>\n",
    "\n",
    "Our goal is to find N and H separable such that we can write:\n",
    "\n",
    "<br>\n",
    "\n",
    "\\begin{aligned}\n",
    "    f(v, a) = N(v, a) + c\\cdotp H(M(v, a))\n",
    "\\end{aligned}\n",
    "\n",
    "$N(v,a)$ is relatively easy to find, as we can write : \n",
    "\n",
    "<br>\n",
    "\n",
    "\\begin{aligned}\n",
    "    N(v, a) = \\sum_{j=1}^{m} h_j $ with $ h_j(v) = \\frac{1}{2}v_j^2\n",
    "\\end{aligned}\n",
    "\n",
    "<br>\n",
    "\n",
    "Noting that it is, by construction, a separable function.\n",
    "\n",
    "Now, when searching for $H(v, a)$ and $M(v, a)$, we know that\n",
    "\n",
    "<br>\n",
    "\\begin{aligned}\n",
    "    H(v, a)\\cdotp M(v, a) = \\sum_{i=1}^{n}max(0, 1-y_i(x_i^Tv+a))\n",
    "\\end{aligned}\n",
    "<br>\n",
    "\n",
    "To build M, we take a diagonal matrix D with all the elements $y_i$\n",
    "\n",
    "<br>\n",
    "\n",
    "\\begin{aligned}\n",
    "    D = \\begin{pmatrix}\n",
    "    y_1 & ... & 0 \\\\\n",
    "    ... & ... & ...\\\\\n",
    "    0 & ... & y_n\n",
    "    \\end{pmatrix}\n",
    "\\end{aligned}\n",
    "\n",
    "<br>\n",
    "\n",
    "Then, we create another matrix L, composed by the observations $x_i^T$ and complemented with a column of ones.\n",
    "\n",
    "<br>\n",
    "\n",
    "\\begin{aligned}\n",
    "    L= \\begin{pmatrix}\n",
    "    x_1^T & 1 \\\\\n",
    "    ... & ...\\\\\n",
    "    x_n^T & 1\n",
    "    \\end{pmatrix}\n",
    "\\end{aligned}\n",
    "\n",
    "<br>\n",
    "\n",
    "Finally, we can write M as $M = D\\cdotp L$, and\n",
    "\n",
    "<br>\n",
    "\n",
    "\\begin{aligned}\n",
    "M(v, a) = M \\cdotp \\begin{pmatrix} v\\\\a\\end{pmatrix}\n",
    "\\end{aligned}\n",
    "\n",
    "<br>\n",
    "\n",
    "Also we write H as $H = \\sum_{i=1}^{n}h_i $, where $ h_i(W) = max(0, 1-w_i)$  for vector a $W$. Note that H is, also by construction, separable and W is the product of $M$ and $\\begin{pmatrix}v\\\\a\\end{pmatrix}$, yielding $M(v, a)$."
   ],
   "cell_type": "markdown",
   "metadata": {}
  },
  {
   "source": [
    "# Exercise 2.4"
   ],
   "cell_type": "markdown",
   "metadata": {}
  },
  {
   "cell_type": "code",
   "execution_count": 5,
   "metadata": {},
   "outputs": [],
   "source": [
    "X = np.insert(X, X.shape[1], 1, axis=1)"
   ]
  },
  {
   "cell_type": "code",
   "execution_count": 6,
   "metadata": {},
   "outputs": [],
   "source": [
    "# Function to return randomly the subgradient of h taken at a given point\n",
    "def H_subgradient(z):\n",
    "    return (z<1)*(-1) + (np.random.rand(1)[0]-1)*(z==1)\n",
    "\n",
    "# Defining function f from the matrices and transformations found above\n",
    "def f(v, a): \n",
    "    v_sum = 1/2*sum([v[j]**2 for j in range(len(v))])\n",
    "    \n",
    "    # Matrix D\n",
    "    D = np.diag(y)\n",
    "\n",
    "    # Matrix M\n",
    "    M = np.dot(X.transpose(), D)\n",
    "    \n",
    "    # Matrix M(v,a)\n",
    "    M_v_a = np.dot(M.transpose(), np.concatenate((v, [a]), axis=0))\n",
    "    \n",
    "    # Finally computing the second term\n",
    "    c_sum = sum([max(0, 1-M_v_a[i]) for i in range(len(M_v_a))])\n",
    "    \n",
    "    # Adding with the first term and returning\n",
    "    return v_sum + c_sum\n",
    "\n",
    "# Finally computing the gradient of f(v,a)\n",
    "def subgradient(v, a):\n",
    "    # Compute the subgradient of the first part of the function\n",
    "    N_subgrad = np.concatenate((v, [0]), axis=0)\n",
    "    \n",
    "    # Defining matrices like in previous function \n",
    "    D = np.diag(y)\n",
    "    M = np.dot(D, X)\n",
    "    M_v_a = np.dot(M,np.concatenate((v, [a]), axis=0))\n",
    "    \n",
    "    # Use previous defined function to find the subgradient of the second part of the function f\n",
    "    H_subgrad = np.array([H_subgradient(z) for z in M_v_a])\n",
    "    \n",
    "    # Multiplying it by the matrix M (transpose)\n",
    "    multiplied_H_subgrad = np.dot(M.T, H_subgrad)\n",
    "    \n",
    "    # Returning the final result for the subgradient of f(v, a)\n",
    "    return N_subgrad + multiplied_H_subgrad"
   ]
  },
  {
   "cell_type": "code",
   "execution_count": 7,
   "metadata": {},
   "outputs": [
    {
     "output_type": "execute_result",
     "data": {
      "text/plain": [
       "603.8252882581148"
      ]
     },
     "metadata": {},
     "execution_count": 7
    }
   ],
   "source": [
    "v = np.ones(30)\n",
    "f(v, 1)"
   ]
  },
  {
   "cell_type": "code",
   "execution_count": 8,
   "metadata": {},
   "outputs": [
    {
     "output_type": "execute_result",
     "data": {
      "text/plain": [
       "array([-38.73829648, -20.70475549, -34.49379607, -34.9876155 ,\n",
       "        38.59618269,  45.35166232,  23.55585667,   1.95675574,\n",
       "        36.5927392 ,  89.42902745,  -6.13062046,  28.6170554 ,\n",
       "         0.18689247, -13.53182243,  59.92957203,  84.51089819,\n",
       "        72.68924277,  60.05022852,  41.47511889,  99.88454603,\n",
       "       -39.4982886 , -27.61455329, -34.31830559, -34.37001474,\n",
       "        18.65124737,  28.15298039,  20.26382933,  -2.07793185,\n",
       "        -2.28514378,  55.68259705,  26.        ])"
      ]
     },
     "metadata": {},
     "execution_count": 8
    }
   ],
   "source": [
    "subgradient(v, 1)"
   ]
  },
  {
   "source": [
    "# Exercise 2.5"
   ],
   "cell_type": "markdown",
   "metadata": {}
  },
  {
   "cell_type": "code",
   "execution_count": 9,
   "metadata": {},
   "outputs": [],
   "source": [
    "def subgradient_method(v0, a0, epsilon=1, itmax=10000):\n",
    "    gk = subgradient(v0, a0)\n",
    "    xk = np.zeros(31)\n",
    "    itr = 0\n",
    "    while(np.linalg.norm(gk) > epsilon and itr <= itmax): \n",
    "        xk -= 1/(itr+1)*gk\n",
    "        gk = subgradient(xk[:-1], xk[-1])\n",
    "        print(f\"\\rCurrent iteration: {itr}/{itmax}\", end=\"\")\n",
    "        itr += 1\n",
    "    return xk"
   ]
  },
  {
   "cell_type": "code",
   "execution_count": 10,
   "metadata": {},
   "outputs": [
    {
     "output_type": "stream",
     "name": "stdout",
     "text": [
      "The subgradient method gives a mininumum of: 26.5638, given the initial conditions (v0, a0) = 0\n"
     ]
    }
   ],
   "source": [
    "v0 = np.zeros(30)\n",
    "x_min = subgradient_method(v0, 0)\n",
    "print(f\"\\rThe subgradient method gives a mininumum of: {f(x_min[:-1], x_min[-1]):.4f}, given the initial conditions (v0, a0) = 0\")"
   ]
  },
  {
   "source": [
    "# Exercise 3.1"
   ],
   "cell_type": "markdown",
   "metadata": {}
  },
  {
   "source": [
    "We have that:\n",
    "\n",
    "<br>\n",
    "\n",
    "\\begin{aligned}\n",
    "    E[f_I (v, a)] \\quad & = \\quad \\sum_{i = 1}^n P(I = i) \\ f_i (v, a) \\\\\n",
    "    & = \\quad \\frac{1}{n} \\sum_{i = 1}^n f_i (v, a) \\\\\n",
    "    & = \\quad \\frac{1}{n} \\sum_{i = 1}^n \\left(c \\ n \\ max(0, \\ 1-y_i(x_i^T v + a)) + \\frac{1}{2} \\sum_{j = 1}^m v_j^2 \\right) \\\\\n",
    "    & = \\quad \\frac{1}{n} \\sum_{i = 1}^n (c \\ n \\ max(0, \\ 1-y_i(x_i^T v + a))) + \\frac{1}{n} \\sum_{i = 1}^n \\frac{1}{2} \\sum_{j = 1}^m v_j^2 \\\\\n",
    "    & = \\quad \\sum_{i = 1}^n (c \\ max(0, \\ 1-y_i(x_i^T v + a))) + \\frac{1}{2} \\sum_{j = 1}^m v_j^2 \\\\\n",
    "    & = \\quad f(v, a)\n",
    "\\end{aligned}"
   ],
   "cell_type": "markdown",
   "metadata": {}
  },
  {
   "source": [
    "# Exercise 3.2"
   ],
   "cell_type": "markdown",
   "metadata": {}
  },
  {
   "source": [
    "Let $M_i$ be the $i_th$ row of $M$, i.e. $M_i = y_i(x_i^T, 1)$. This way, we have:\n",
    "\n",
    "<br>\n",
    "\n",
    "\\begin{aligned}\n",
    "    M_i\\begin{pmatrix} v \\\\ a \\end{pmatrix} \\quad = \\quad y_i(x_i^Tv + a)\n",
    "\\end{aligned}\n",
    "\n",
    "<br>\n",
    "\n",
    "Therefore, we can write $f_i(v, a) = N(v, a) + c \\ n \\ h(M_i(v,a))$, which implies $\\partial f_i(v, a) = (v, 0) + c \\ n \\ M_i^T \\ \\partial h(M_i(v, a))$. Thus, we have:\n",
    "\n",
    "<br>\n",
    "\n",
    "\\begin{aligned}\n",
    "    \\partial f_i(v, a) =\n",
    "    \\begin{cases}\n",
    "        (v, 0) - n \\ c \\ M_i^T & if \\ M_i(v, a) \\lt 1 \\\\\n",
    "        (v, 0) + t \\ n \\ c \\ M_i^t, \\quad t \\in [-1; 0] & if \\ M_i(v, a) = 1 \\\\\n",
    "        (v, 0) & if \\ M_i(v, a) \\gt 1\n",
    "    \\end{cases}\n",
    "\\end{aligned}"
   ],
   "cell_type": "markdown",
   "metadata": {}
  },
  {
   "source": [
    "# Exercise 3.3"
   ],
   "cell_type": "markdown",
   "metadata": {}
  },
  {
   "cell_type": "code",
   "execution_count": 11,
   "metadata": {},
   "outputs": [],
   "source": [
    "def delta_h_M_i(va, i):\n",
    "    return ((np.dot(M[i,:], va)>=1)- 1) * M[i,:]\n",
    "\n",
    "def delta_f_i(va, i):\n",
    "    return np.concatenate([va[:-1], [0]]) + c * M.shape[0] * delta_h_M_i(va,i)\n",
    "\n",
    "def stochastic_subgradient_method(va0, N):\n",
    "    n = M.shape[0]\n",
    "    va_mean = np.zeros(va0.shape)\n",
    "    gamma_sum = 0\n",
    "    \n",
    "    for i in range(N):\n",
    "        I = np.random.randint(n)\n",
    "        gamma = 0.001/np.sqrt(i+1)\n",
    "        gamma_sum += gamma\n",
    "        va_mean += va0 * gamma\n",
    "        \n",
    "        va0 = va0 - gamma * delta_f_i(va0,I)\n",
    "    \n",
    "    #return va0\n",
    "    return va_mean/gamma_sum"
   ]
  },
  {
   "cell_type": "code",
   "execution_count": 14,
   "metadata": {},
   "outputs": [
    {
     "output_type": "stream",
     "name": "stdout",
     "text": [
      "The subgradient method gives a mininumum of: 30.5703, given the initial conditions (v0, a0) = 0\n"
     ]
    }
   ],
   "source": [
    "c = 1\n",
    "M = np.dot(np.diag(y), np.concatenate([X, np.ones((569,1))], axis = 1))\n",
    "va0 = np.zeros((32,))\n",
    "va_1 = stochastic_subgradient_method(va0, 100000)\n",
    "\n",
    "def N(va):\n",
    "    return 0.5 * np.sum(va[:-1]**2)\n",
    "\n",
    "def H_M(va):\n",
    "    return np.sum(h(np.dot(M,va)))\n",
    "\n",
    "# Creates an f2 function that allows us to use va instead of v and a\n",
    "def f2(va):\n",
    "    return N(va) + c * H_M(va)\n",
    "\n",
    "print(f\"\\rThe subgradient method gives a mininumum of: {f2(va_1):.4f}, given the initial conditions (v0, a0) = 0\")"
   ]
  },
  {
   "source": [
    "# Exercise 4.1"
   ],
   "cell_type": "markdown",
   "metadata": {}
  },
  {
   "source": [
    "The Lagrangian function $L(v, a, \\phi, \\psi)$ associated to Problem (1) is:\n",
    "\n",
    "<br>\n",
    "\n",
    "\\begin{aligned}\n",
    "    L(v, a, \\phi, \\psi) \\quad = \\quad \\frac{1}{2} \\sum_{j=1}^{m} v_j^2 +c\\sum_{i=1}^{n}\\xi_i-\\sum_{i=1}^{n}\\langle \\phi_i, \\xi_i\\rangle - \\sum_{i=1}^{n}\\langle \\psi_i, 1 - \\xi_i - y_i(x_i^Tv+a)\\rangle + \\tau_{\\mathbb{R_{+}^{n}}}(\\psi) + \\tau_{\\mathbb{R_{+}^{n}}}(\\phi)\n",
    "\\end{aligned}"
   ],
   "cell_type": "markdown",
   "metadata": {}
  },
  {
   "source": [
    "# Exercise 4.2"
   ],
   "cell_type": "markdown",
   "metadata": {}
  },
  {
   "source": [
    "We have $g(x, \\phi) = - \\frac{1}{2\\rho} \\phi^2 + \\frac{\\rho}{2} (max(0, \\ x + \\rho^{-1} \\phi))^2$ with $\\rho > 0$. Firstly, to find $\\nabla_x g(x, \\phi)$, we do:\n",
    "\n",
    "<br>\n",
    "\n",
    "\\begin{aligned}\n",
    "    \\nabla_x g(x, \\phi) \\quad = \\quad \\frac{\\partial g(x, \\phi)}{\\partial x} \\quad & = \\quad \\frac{\\partial \\left(-\\frac{1}{2\\rho} \\phi^2\\right)}{\\partial x} + \\frac{\\partial \\left(\\frac{\\rho}{2} (max(0, \\ x + \\rho^{-1} \\phi))^2\\right)}{\\partial x} \\\\\n",
    "    & = \\quad 0 + \\frac{2 \\rho}{2} (max(0, \\ x + \\rho^{-1} \\phi)) \\\\\n",
    "    & = \\quad \\rho \\ max(0, \\ x + \\rho^{-1} \\phi)\n",
    "\\end{aligned}\n",
    "\n",
    "<br>\n",
    "\n",
    "Now, to find $\\nabla_\\phi g(x, \\phi)$:\n",
    "\n",
    "<br>\n",
    "\n",
    "\\begin{aligned}\n",
    "    \\nabla_\\phi g(x, \\phi) \\quad = \\quad \\frac{\\partial g(x, \\phi)}{\\partial \\phi} \\quad & = \\quad \\frac{\\partial \\left(-\\frac{1}{2\\rho} \\phi^2\\right)}{\\partial \\phi} + \\frac{\\partial \\left(\\frac{\\rho}{2} (max(0, \\ x + \\rho^{-1} \\phi))^2\\right)}{\\partial \\phi} \\\\\n",
    "    & = \\quad -\\frac{2}{2\\rho} \\phi + \\frac{2 \\rho}{2 \\rho} (max(0, \\ x +\\rho^{-1} \\phi)) \\\\\n",
    "    & = \\quad -\\frac{\\phi}{\\rho} + max(0, \\ x + \\rho^{-1} \\phi) \\\\\n",
    "    & = \\quad max(-\\rho^{-1} \\phi, \\ x)\n",
    "\\end{aligned}\n"
   ],
   "cell_type": "markdown",
   "metadata": {}
  },
  {
   "source": [
    "# Exercise 4.3"
   ],
   "cell_type": "markdown",
   "metadata": {}
  },
  {
   "source": [
    "From *Exercise 4.2* we know that $\\frac{\\partial g(x, \\phi)}{\\partial x} = \\rho \\ max(0, \\ x + \\rho^{-1} \\phi)$ and that $\\frac{\\partial g(x, \\phi)}{\\partial \\phi} = max(-\\rho^{-1} \\phi, \\ x)$. \n",
    "\n",
    "To categorize the function $x \\rightarrow g(x, \\phi)$ as concave or convexe, all we need to do is verify the signal of $\\frac{\\partial^2 g(x, \\phi)}{\\partial x^2}$:\n",
    "\n",
    "<br>\n",
    "\n",
    "\\begin{aligned}\n",
    "    \\frac{\\partial^2 g(x, \\phi)}{\\partial x^2} \\quad & = \\quad \\frac{\\partial (\\rho \\ max(0, \\ x + \\rho^{-1} \\phi))}{\\partial x} \\\\\n",
    "    & = \\quad \\rho \\ max(0, 1) \\\\\n",
    "    & = \\quad \\rho\n",
    "\\end{aligned}\n",
    "\n",
    "<br>\n",
    "\n",
    "Since by definition we have that $\\rho > 0$, we confirm that the function $x \\rightarrow g(x, \\phi)$ is convex.\n",
    "\n",
    "Similarly, for the function $\\phi \\rightarrow g(x, \\phi)$, we analyse the signal of $\\frac{\\partial^2 g(x, \\phi)}{\\partial \\phi^2}$:\n",
    "\n",
    "<br>\n",
    "\n",
    "\\begin{aligned}\n",
    "    \\frac{\\partial^2 g(x, \\phi)}{\\partial \\phi^2} \\quad & = \\quad \\frac{\\partial (max(-\\rho^{-1} \\phi, \\ x))}{\\partial \\phi} \\\\\n",
    "    & = \\quad \\ max(-\\rho^{-1}, 0) \\\\\n",
    "    & = \\quad 0\n",
    "\\end{aligned}\n",
    "\n",
    "<br>\n",
    "\n",
    "Since the Hessian of $\\phi \\rightarrow g(x, \\phi)$ is $\\leq 0$, the function is concave."
   ],
   "cell_type": "markdown",
   "metadata": {}
  },
  {
   "source": [
    "# Exercise 4.4"
   ],
   "cell_type": "markdown",
   "metadata": {}
  },
  {
   "cell_type": "code",
   "execution_count": 15,
   "metadata": {},
   "outputs": [],
   "source": [
    "rho = 2\n",
    "def g(x,phi):\n",
    "    return (-1/(2*rho))*(phi**2) + (rho/2)*(max(0,x + rho**-1*phi))**2\n",
    "\n",
    "def nabla_x_g(x, phi):\n",
    "    return rho * np.maximum(np.zeros(x.shape), x + phi/rho)\n",
    "\n",
    "def nabla_phi_g(x, phi):\n",
    "    return np.maximum(-phi/rho, x)\n",
    "\n",
    "\n",
    "def lagrangian_minimizer(phi, psi):\n",
    "    # Initial conditions\n",
    "    \n",
    "    v = np.zeros((31,))\n",
    "    a = 0\n",
    "    xi = np.zeros((569,))\n",
    "    \n",
    "    dv = np.zeros((31,))\n",
    "    da = 1.5\n",
    "    dxi = np.zeros((569,))\n",
    "    \n",
    "    while np.sum(dv**2)+da**2+np.sum(dxi**2)>1:\n",
    "        x = 1-xi-np.dot(np.diag(y), np.dot(X, v) + a)\n",
    "        \n",
    "        # Calculating the gradients\n",
    "        dv = v - np.dot(np.dot(np.diag(y), X).T, nabla_x_g(x, psi))\n",
    "        da = -np.sum(y * nabla_x_g(x,psi))\n",
    "        dxi = c - nabla_x_g(-xi, phi) - nabla_x_g(x, psi)\n",
    "        \n",
    "        # We fixed we gamma instead of line search\n",
    "        gamma = 1E-3\n",
    "        v -= gamma * dv\n",
    "        a -= gamma * da\n",
    "        xi -= gamma * dxi\n",
    "        \n",
    "    return v, a, xi"
   ]
  },
  {
   "source": [
    "# Exercise 4.5"
   ],
   "cell_type": "markdown",
   "metadata": {}
  },
  {
   "cell_type": "code",
   "execution_count": 16,
   "metadata": {},
   "outputs": [],
   "source": [
    "# Computing the gradient of the lagragian with respect to phi and psi\n",
    "def nabla_phi_L(v,a,xi,phi,psi):\n",
    "    return nabla_phi_g(-xi, phi)\n",
    "\n",
    "def nabla_psi_L(v,a,xi,phi,psi):\n",
    "    x = 1-xi-np.dot(np.diag(y), np.dot(X, v) + a)\n",
    "    return nabla_phi_g(x, psi)"
   ]
  },
  {
   "source": [
    "# Exercise 4.6"
   ],
   "cell_type": "markdown",
   "metadata": {}
  },
  {
   "cell_type": "code",
   "execution_count": 17,
   "metadata": {},
   "outputs": [],
   "source": [
    "# Finally writing the lagrangian augmented problem\n",
    "def lagr_aug_method(N):\n",
    "    phi = 0\n",
    "    psi = 0\n",
    "    \n",
    "    for i in range(N):\n",
    "        v,a,xi = lagrangian_minimizer(phi,psi)\n",
    "        phi += rho * nabla_phi_g(-xi, phi)\n",
    "        x = 1-xi-np.dot(np.diag(y), np.dot(X, v) + a)\n",
    "        psi += rho * nabla_phi_g(x, psi)\n",
    "    return v,a,xi"
   ]
  },
  {
   "cell_type": "code",
   "execution_count": 20,
   "metadata": {},
   "outputs": [],
   "source": [
    "c = 1\n",
    "v,a,xi = lagr_aug_method(2000)"
   ]
  },
  {
   "cell_type": "code",
   "execution_count": 21,
   "metadata": {},
   "outputs": [
    {
     "output_type": "execute_result",
     "data": {
      "text/plain": [
       "26.968494717664893"
      ]
     },
     "metadata": {},
     "execution_count": 21
    }
   ],
   "source": [
    "third_term = 0\n",
    "for i in range(569):\n",
    "    third_term += g(-xi[i],0)\n",
    "\n",
    "fourth_term = 0\n",
    "for i in range(569):\n",
    "    fourth_term += g(-xi[i] + 1 - y[i]*(X[i].dot(v) + a), 0)\n",
    "    \n",
    "def f(v,xi):\n",
    "    return 1/2 * np.sum(v**2) + c * np.sum(xi) + third_term + fourth_term\n",
    "f(v,xi)"
   ]
  },
  {
   "source": [
    "# Exercise 5.1"
   ],
   "cell_type": "markdown",
   "metadata": {}
  },
  {
   "source": [
    "Regarding the three worked out algorithms we can see that each one offers some benefits at the same time as some drawbacks. For the simple gradient descent algorithm, it is precise and can be adapted to small error tolerances, but it requires the computation of gradients (or sub-gradients in the case of non-differentiable functions) a significant amount of times. If one can accept slightly more imprecise results, the stochastic gradient descent offers reasonably fast computations (which can be performed multiple times to improve precision). Finally, the most precise method is the Augmented Lagrangian Method, but to profit from its precision one have to trade in computation performance, as the method demands a lot of computational time and resources."
   ],
   "cell_type": "markdown",
   "metadata": {}
  }
 ]
}