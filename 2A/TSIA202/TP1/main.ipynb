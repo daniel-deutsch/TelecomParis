{
 "metadata": {
  "language_info": {
   "codemirror_mode": {
    "name": "ipython",
    "version": 3
   },
   "file_extension": ".py",
   "mimetype": "text/x-python",
   "name": "python",
   "nbconvert_exporter": "python",
   "pygments_lexer": "ipython3",
   "version": 3
  },
  "orig_nbformat": 2
 },
 "nbformat": 4,
 "nbformat_minor": 2,
 "cells": [
  {
   "source": [
    "# TP TSIA201\n",
    "\n",
    "*By Daniel Jorge Deutsch*"
   ],
   "cell_type": "markdown",
   "metadata": {}
  },
  {
   "cell_type": "code",
   "execution_count": null,
   "metadata": {},
   "outputs": [],
   "source": [
    "import time\n",
    "import wave\n",
    "\n",
    "import matplotlib.pyplot as plt\n",
    "import matplotlib.widgets as wid\n",
    "import numpy as np\n",
    "from scipy import linalg as la\n",
    "from scipy import signal as sig\n",
    "\n",
    "import randproc as rp"
   ]
  },
  {
   "cell_type": "code",
   "execution_count": null,
   "metadata": {},
   "outputs": [],
   "source": [
    "def plot()"
   ]
  },
  {
   "source": [
    "## Exercise 1: Computing averages and covariances"
   ],
   "cell_type": "markdown",
   "metadata": {}
  },
  {
   "cell_type": "code",
   "execution_count": null,
   "metadata": {},
   "outputs": [],
   "source": [
    "# Sets the initial parameters\n",
    "Nit = 500         # number of paths\n",
    "H = 20            # number of points for covariance\n",
    "n = 2*H - 1       # number of process' samples\n",
    "displayRatio = 4  # 1/displayRatio graphs are displayed increase displayRatio to speed up, in particular if Nit/displayRatio>100\n",
    "\n",
    "# \n",
    "EX = np.zeros(n)           # Expectations are stored here\n",
    "gamma = np.zeros(n)        # ACF's are stored here\n",
    "tc = np.arange(-(H-1), H)  # temporal axis for ACF\n",
    "t = np.arange(0,n)         # temporal axis for the signal"
   ]
  },
  {
   "cell_type": "code",
   "execution_count": null,
   "metadata": {},
   "outputs": [],
   "source": [
    "# Create a figure for interactive display of results\n",
    "class btnAction(object):\n",
    "    stopnow=0;\n",
    "    def stop(self,event):      \n",
    "        self.stopnow = 1        \n",
    "        if k==Nit:\n",
    "            plt.close(1)\n",
    "             \n",
    "# Choose different signals here\n",
    "signal = 'AR' # 'AR' 'WN' 'SIN'\n",
    "\n",
    "# Create the figure where the results will be shown        \n",
    "plt.figure(1, [H, 8])\n",
    "plt.subplot(211, label='mean')\n",
    "plt.grid()\n",
    "plt.title('Sample averages')\n",
    "plt.subplot(212, label='ACF')\n",
    "plt.grid()\n",
    "plt.title('Sample covariance')\n",
    "axstop = plt.axes([0.81, 0.01, 0.08, 0.05])\n",
    "btn = wid.Button(axstop, 'Stop')\n",
    "callback = btnAction()\n",
    "btn.on_clicked(callback.stop)"
   ]
  },
  {
   "cell_type": "code",
   "execution_count": null,
   "metadata": {},
   "outputs": [],
   "source": [
    "# Iterations\n",
    "for k in range(Nit+1):\n",
    "    # k-th realization of the process\n",
    "    \n",
    "    if signal=='AR':\n",
    "    \n",
    "        # Generate an AR(1) signal\n",
    "        Z = np.random.normal(0,1,n) # White noise\n",
    "        # Build the rational function P/Q\n",
    "        phi1  = 0.6\n",
    "        Pcoeffs = np.array([1.])                 \n",
    "        Qcoeffs = np.poly((phi1,))\n",
    "        # Use P/Q for filtering\n",
    "        X = sig.lfilter(Pcoeffs, Qcoeffs,Z)\n",
    "        \n",
    "    elif signal=='SIN':\n",
    "    #  Armonic signal\n",
    "        #A=2.;\n",
    "        #A_0= -A+2*A*np.random.random_sample();\n",
    "        A_0 = 1.\n",
    "        omega = np.pi/3.\n",
    "        phi =   np.pi +2*np.pi*np.random.random_sample();\n",
    "        X = A_0 * np.cos(omega*tc+phi) +  np.random.normal(0,1,n)\n",
    "    \n",
    "    else: #  white noise\n",
    "        sigma = 1.\n",
    "        X = np.random.normal(0,sigma,n)\n",
    "    \n",
    "    # Compute empirical means\n",
    "    EX = EX + X\n",
    "    \n",
    "    # Compute exmpirical covariances\n",
    "    for h in range(H):\n",
    "        # compiute cov for lag = h\n",
    "        XX  = X[0:n-H] * X[h:h+n-H]\n",
    "        EXX =  XX.sum() / float(n-H)      # computation of the unbiased ACF estim\n",
    "        gamma[h+H-1] = gamma[h+H-1] + EXX # gamma[H-1] = cov(X_n, X_n)\n",
    "        gamma[H-h-1] = gamma[h+H-1].conj()     \n",
    "    \n",
    "    # Displaying results (only once every \"displayRatio\" iterations)\n",
    "    if np.mod(k,displayRatio)==0:\n",
    "        plt.figure(1)\n",
    "        \n",
    "        # Dislpay sample averages\n",
    "        plt.subplot(211,label='mean')\n",
    "        if k == 0: # Create the line at iteration 0\n",
    "            line1, = plt.plot(t, EX, '-o' )\n",
    "        else:    #update the average EX/(k+1)\n",
    "            line1.set_ydata( EX/(k+1))\n",
    "            plt.ylim([-1.5, 1.5])\n",
    "            plt.xticks(t)\n",
    "        \n",
    "        #Display the unbiased sample covariance\n",
    "        plt.subplot(212,label='ACF')\n",
    "        if k == 0:# Create the line at iteration 0\n",
    "            line2, = plt.plot(tc, gamma, '-o' )\n",
    "        else: # Update the sample covariance plot\n",
    "            line2.set_ydata( gamma/(k+1))\n",
    "\n",
    "        plt.pause(0.001) \n",
    "        plt.ylim([-1.2, 2])\n",
    "        plt.show()\n",
    "        plt.xticks(tc)   \n",
    "        plt.text(4,-1, 'Iteration %5d'%k, bbox=dict(facecolor='white', alpha=1))\n",
    "    \n",
    "    if callback.stopnow == 1:\n",
    "        plt.close(1)\n",
    "        break   "
   ]
  },
  {
   "source": [
    "## Exercise 2: Spectral density estimation and periodogram"
   ],
   "cell_type": "markdown",
   "metadata": {}
  },
  {
   "cell_type": "code",
   "execution_count": null,
   "metadata": {},
   "outputs": [],
   "source": []
  },
  {
   "source": [
    "\n",
    "## Exercise 3: Filtering random process"
   ],
   "cell_type": "markdown",
   "metadata": {}
  },
  {
   "cell_type": "code",
   "execution_count": null,
   "metadata": {},
   "outputs": [],
   "source": []
  }
 ]
}