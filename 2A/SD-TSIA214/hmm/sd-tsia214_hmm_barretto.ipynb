{
 "cells": [
  {
   "cell_type": "markdown",
   "id": "708e34df",
   "metadata": {},
   "source": [
    "# SD-TSIA 214 - Text segmentation using Hidden Markov Models\n",
    "\n",
    "**Author: José Lucas Barretto**"
   ]
  },
  {
   "cell_type": "markdown",
   "id": "ead722b0",
   "metadata": {},
   "source": [
    "### Loading E-Mail Data"
   ]
  },
  {
   "cell_type": "code",
   "execution_count": 1,
   "id": "3b945eab",
   "metadata": {},
   "outputs": [],
   "source": [
    "import numpy as np\n",
    "import matplotlib.pyplot as plt\n",
    "from visualize_segmentation import visualize_segmentation"
   ]
  },
  {
   "cell_type": "code",
   "execution_count": 2,
   "id": "5b5394fd",
   "metadata": {},
   "outputs": [],
   "source": [
    "# load file list\n",
    "file_list = np.loadtxt('dat/mail.lst', dtype='str')\n",
    "\n",
    "# load dataset\n",
    "data = {}\n",
    "for file in file_list:\n",
    "    data[file[:-4]] = list(np.loadtxt(f'dat/{file}', dtype='int'))"
   ]
  },
  {
   "cell_type": "markdown",
   "id": "fdac0528",
   "metadata": {},
   "source": [
    "### Loading and Visualizing Distributions"
   ]
  },
  {
   "cell_type": "markdown",
   "id": "a5c50802",
   "metadata": {},
   "source": [
    "#### Q1) Give the value of the $\\pi$ vector of the initial probabilities.\n",
    "\n",
    "Since our sequence of observations consists of sequential characters of an email, then the initial state is always, necessarily the header. For this reason, $\\pi = [1, 0]$, indicating that there is a 100% probability that the initial hidden state is the header."
   ]
  },
  {
   "cell_type": "markdown",
   "id": "b1d3744e",
   "metadata": {},
   "source": [
    "#### Q2) What is the probability to move from state 1 to state 2? What is the probability to remain in state 2? What is the lower/higher probability?\n",
    "\n",
    "The probability to move from state 1 to state 2 (moving from the header to the body) is the entry $a_{12}$ of matrix $A$, which is $0.00078$. The probability to remain in state 2 is the entry $a_{22}$ which equals 1, because if we consider the sequential order of an email, it is impossible to go back to the header once you've reached the body. The lowest probability is the probability of moving from state 2 to state 1, which is equivalent to moving from the body to the header. As stated, this is impossible considering the sequential order of an email, and thus this probability is 0."
   ]
  },
  {
   "cell_type": "markdown",
   "id": "27d77aa3",
   "metadata": {},
   "source": [
    "#### Q3) What is the size of B ?\n",
    "B is called the emission probability matrix, and it stores the probability of observing each possible character in the two possible states. For this reason, it has size (number of characters) x (number of states), which in our case is 252 x 2."
   ]
  },
  {
   "cell_type": "code",
   "execution_count": 3,
   "id": "df7f2a2a",
   "metadata": {},
   "outputs": [],
   "source": [
    "A = np.array([[0.999218078035812, 0.00078192964187974], [0,1]])\n",
    "B = np.loadtxt('PerlScriptAndModel/P.text')\n",
    "pi = np.array([1, 0])"
   ]
  },
  {
   "cell_type": "code",
   "execution_count": 4,
   "id": "e34b0818",
   "metadata": {},
   "outputs": [
    {
     "data": {
      "image/png": "[encoded data removed]",
      "text/plain": [
       "<Figure size 720x288 with 2 Axes>"
      ]
     },
     "metadata": {
      "needs_background": "light"
     },
     "output_type": "display_data"
    }
   ],
   "source": [
    "fig, (ax1, ax2) = plt.subplots(1, 2, sharey=True, figsize=(10,4))\n",
    "\n",
    "ax1.set_ylabel('Probability', labelpad=10)\n",
    "ax1.set_title('State 1: Header')\n",
    "ax1.plot(B[:,0])\n",
    "ax1.grid(alpha=0.6)\n",
    "\n",
    "ax2.set_title('State 2: Body')\n",
    "ax2.plot(B[:,1])\n",
    "ax2.grid(alpha=0.6)\n",
    "\n",
    "fig.suptitle('Character Distribution in Each State')\n",
    "plt.tight_layout()\n",
    "plt.show()"
   ]
  },
  {
   "cell_type": "markdown",
   "id": "9d63d5c0",
   "metadata": {},
   "source": [
    "### Coding the Viterbi Algorithm"
   ]
  },
  {
   "cell_type": "code",
   "execution_count": 5,
   "id": "f1381e5d",
   "metadata": {},
   "outputs": [],
   "source": [
    "def viterbi(obs, A, B, pi):\n",
    "    \n",
    "    # get model params\n",
    "    Q = A.shape[0]\n",
    "    T = len(obs)\n",
    "    \n",
    "    # apply log to all params\n",
    "    with np.errstate(divide='ignore'):\n",
    "        A = np.log(A)\n",
    "        B = np.log(B)\n",
    "        pi = np.log(pi)\n",
    "\n",
    "    # initialize empty delta matrix\n",
    "    delta = np.zeros((Q, T))\n",
    "    phi = np.zeros((Q, T), dtype='int')\n",
    "    q = np.zeros(T, dtype='int')\n",
    "    \n",
    "    # initialize first column of delta matrix\n",
    "    for i in range(Q):\n",
    "        delta[i,0] = B[obs[0], i] + pi[i]\n",
    "    \n",
    "    # recursively calculate delta and save best path\n",
    "    for t in range(T-1):\n",
    "        for j in range(Q):\n",
    "\n",
    "            delta[j, t+1] = B[obs[t+1],j] + np.max(A[:,j] + delta[:, t])\n",
    "            phi[j, t+1] = np.argmax(A[:,j] + delta[:, t])\n",
    "    \n",
    "    # obtain best probability\n",
    "    prob = np.max(delta[:,-1])\n",
    "    \n",
    "    # backtrack to find best sequence\n",
    "    q[-1] = np.argmax(delta[:,-1])\n",
    "    for t in range(T-2, -1, -1):\n",
    "        q[t] = phi[q[t+1], t+1]\n",
    "    \n",
    "    return q"
   ]
  },
  {
   "cell_type": "markdown",
   "id": "e06587b8",
   "metadata": {},
   "source": [
    "### Visualizing Segmentations"
   ]
  },
  {
   "cell_type": "markdown",
   "id": "893e5f76",
   "metadata": {},
   "source": [
    "#### Q4) Print the track and present and discuss the results obtained on mail11.txt to mail30.txt."
   ]
  },
  {
   "cell_type": "code",
   "execution_count": 11,
   "id": "60cb4820",
   "metadata": {
    "scrolled": true
   },
   "outputs": [
    {
     "name": "stdout",
     "output_type": "stream",
     "text": [
      "From spamassassin-devel-admin@lists.sourceforge.net  Thu Aug 22 15:25:29 2002\n",
      "Return-Path: <spamassassin-devel-admin@example.sourceforge.net>\n",
      "Delivered-To: zzzz@localhost.netnoteinc.com\n",
      "Received: from localhost (localhost [127.0.0.1])\n",
      "\tby phobos.labs.netnoteinc.com (Postfix) with ESMTP id AE2D043F9B\n",
      "\tfor <zzzz@localhost>; Thu, 22 Aug 2002 10:25:29 -0400 (EDT)\n",
      "Received: from phobos [127.0.0.1]\n",
      "\tby localhost with IMAP (fetchmail-5.9.0)\n",
      "\tfor zzzz@localhost (single-drop); Thu, 22 Aug 2002 15:25:29 +0100 (IST)\n",
      "Received: from usw-sf-list2.sourceforge.net (usw-sf-fw2.sourceforge.net\n",
      "    [216.136.171.252]) by dogma.slashnull.org (8.11.6/8.11.6) with ESMTP id\n",
      "    g7MENlZ09984 for <zzzz@spamassassin.taint.org>; Thu, 22 Aug 2002 15:23:47 +0100\n",
      "Received: from usw-sf-list1-b.sourceforge.net ([10.3.1.13]\n",
      "    helo=usw-sf-list1.sourceforge.net) by usw-sf-list2.sourceforge.net with\n",
      "    esmtp (Exim 3.31-VA-mm2 #1 (Debian)) id 17hsof-00042r-00; Thu,\n",
      "    22 Aug 2002 07:20:05 -0700\n",
      "Received: from vivi.uptime.at ([62.116.87.11] helo=mail.uptime.at) by\n",
      "    usw-sf-list1.sourceforge.net with esmtp (Exim 3.31-VA-mm2 #1 (Debian)) id\n",
      "    17hsoM-0000Ge-00 for <spamassassin-devel@lists.sourceforge.net>;\n",
      "    Thu, 22 Aug 2002 07:19:47 -0700\n",
      "Received: from [192.168.0.4] (chello062178142216.4.14.vie.surfer.at\n",
      "    [62.178.142.216]) (authenticated bits=0) by mail.uptime.at (8.12.5/8.12.5)\n",
      "    with ESMTP id g7MEI7Vp022036 for\n",
      "    <spamassassin-devel@lists.sourceforge.net>; Thu, 22 Aug 2002 16:18:07\n",
      "    +0200\n",
      "User-Agent: Microsoft-Entourage/10.0.0.1309\n",
      "From: David H=?ISO-8859-1?B?9g==?=hn <dh@uptime.at>\n",
      "To: <spamassassin-devel@example.sourceforge.net>\n",
      "Message-Id: <B98ABFA4.1F87%dh@uptime.at>\n",
      "MIME-Version: 1.0\n",
      "X-Trusted: YES\n",
      "X-From-Laptop: YES\n",
      "Content-Type: text/plain; charset=\"US-ASCII\"\n",
      "Content-Transfer-Encoding: 7bit\n",
      "X-Mailscanner: Nothing found, baby\n",
      "Subject: [SAdev] Interesting approach to Spam handling..\n",
      "Sender: spamassassin-devel-admin@example.sourceforge.net\n",
      "Errors-To: spamassassin-devel-admin@example.sourceforge.net\n",
      "X-Beenthere: spamassassin-devel@example.sourceforge.net\n",
      "X-Mailman-Version: 2.0.9-sf.net\n",
      "Precedence: bulk\n",
      "List-Help: <mailto:spamassassin-devel-request@example.sourceforge.net?subject=help>\n",
      "List-Post: <mailto:spamassassin-devel@example.sourceforge.net>\n",
      "List-Subscribe: <https://example.sourceforge.net/lists/listinfo/spamassassin-devel>,\n",
      "    <mailto:spamassassin-devel-request@lists.sourceforge.net?subject=subscribe>\n",
      "List-Id: SpamAssassin Developers <spamassassin-devel.example.sourceforge.net>\n",
      "List-Unsubscribe: <https://example.sourceforge.net/lists/listinfo/spamassassin-devel>,\n",
      "    <mailto:spamassassin-devel-request@lists.sourceforge.net?subject=unsubscribe>\n",
      "List-Archive: <http://www.geocrawler.com/redir-sf.php3?list=spamassassin-devel>\n",
      "X-Original-Date: Thu, 22 Aug 2002 16:19:48 +0200\n",
      "Date: Thu, 22 Aug 2002 16:19:48 +0200\n",
      "===================== cut here\n",
      "\n",
      "\n",
      "Hello, have you seen and discussed this article and his approach?\n",
      "\n",
      "Thank you\n",
      "\n",
      "http://www.paulgraham.com/spam.html\n",
      "-- \"Hell, there are no rules here-- we're trying to accomplish something.\"\n",
      "-- Thomas Alva Edison\n",
      "\n",
      "\n",
      "\n",
      "\n",
      "-------------------------------------------------------\n",
      "This sf.net email is sponsored by: OSDN - Tired of that same old\n",
      "cell phone?  Get a new here for FREE!\n",
      "https://www.inphonic.com/r.asp?r=sourceforge1&refcode1=vs3390\n",
      "_______________________________________________\n",
      "Spamassassin-devel mailing list\n",
      "Spamassassin-devel@lists.sourceforge.net\n",
      "https://lists.sourceforge.net/lists/listinfo/spamassassin-devel\n",
      "\n",
      "\n"
     ]
    }
   ],
   "source": [
    "# test for mail11\n",
    "obs = data['mail11']\n",
    "q = viterbi(obs, A, B, pi)\n",
    "\n",
    "visualize_segmentation('dat/mail11.txt', 'mail11_segmented.txt', q)\n",
    "\n",
    "mail11 = open('mail11_segmented.txt', 'r')\n",
    "print(mail11.read())"
   ]
  },
  {
   "cell_type": "code",
   "execution_count": 13,
   "id": "402ca99f",
   "metadata": {},
   "outputs": [
    {
     "name": "stdout",
     "output_type": "stream",
     "text": [
      "From ilug-admin@linux.ie  Fri Aug 23 11:07:51 2002\n",
      "Return-Path: <ilug-admin@linux.ie>\n",
      "Delivered-To: zzzz@localhost.netnoteinc.com\n",
      "Received: from localhost (localhost [127.0.0.1])\n",
      "\tby phobos.labs.netnoteinc.com (Postfix) with ESMTP id 7419C4416C\n",
      "\tfor <zzzz@localhost>; Fri, 23 Aug 2002 06:06:33 -0400 (EDT)\n",
      "Received: from phobos [127.0.0.1]\n",
      "\tby localhost with IMAP (fetchmail-5.9.0)\n",
      "\tfor zzzz@localhost (single-drop); Fri, 23 Aug 2002 11:06:33 +0100 (IST)\n",
      "Received: from lugh.tuatha.org (root@lugh.tuatha.org [194.125.145.45]) by\n",
      "    dogma.slashnull.org (8.11.6/8.11.6) with ESMTP id g7MJtgZ22471 for\n",
      "    <zzzz-ilug@spamassassin.taint.org>; Thu, 22 Aug 2002 20:55:42 +0100\n",
      "Received: from lugh (root@localhost [127.0.0.1]) by lugh.tuatha.org\n",
      "    (8.9.3/8.9.3) with ESMTP id UAA19436; Thu, 22 Aug 2002 20:53:00 +0100\n",
      "X-Authentication-Warning: lugh.tuatha.org: Host root@localhost [127.0.0.1]\n",
      "    claimed to be lugh\n",
      "Received: from mail02.svc.cra.dublin.eircom.net\n",
      "    (mail02.svc.cra.dublin.eircom.net [159.134.118.18]) by lugh.tuatha.org\n",
      "    (8.9.3/8.9.3) with SMTP id UAA19403 for <ilug@linux.ie>; Thu,\n",
      "    22 Aug 2002 20:52:53 +0100\n",
      "Received: (qmail 50842 messnum 34651 invoked from\n",
      "    network[159.134.205.176/p432.as1.athlone1.eircom.net]); 22 Aug 2002\n",
      "    19:52:16 -0000\n",
      "Received: from p432.as1.athlone1.eircom.net (HELO darkstar)\n",
      "    (159.134.205.176) by mail02.svc.cra.dublin.eircom.net (qp 50842) with SMTP;\n",
      "    22 Aug 2002 19:52:16 -0000\n",
      "Content-Type: text/plain; charset=\"iso-8859-15\"\n",
      "From: Ciaran Johnston <cj@nologic.org>\n",
      "Organization: nologic.org\n",
      "To: <ilug@linux.ie>\n",
      "Subject: Re: [ILUG] Formatting a windows partition from Linux\n",
      "Date: Thu, 22 Aug 2002 20:58:07 +0100\n",
      "User-Agent: KMail/1.4.1\n",
      "References: <1029944325.29456.28.camel@dubrhlnx1>\n",
      "    <26030.194.237.142.30.1029943301.squirrel@mail.nologic.org>\n",
      "In-Reply-To: <26030.194.237.142.30.1029943301.squirrel@mail.nologic.org>\n",
      "MIME-Version: 1.0\n",
      "Message-Id: <200208222058.07760.cj@nologic.org>\n",
      "Content-Transfer-Encoding: 8bit\n",
      "X-MIME-Autoconverted: from quoted-printable to 8bit by lugh.tuatha.org id\n",
      "    UAA19403\n",
      "Sender: ilug-admin@linux.ie\n",
      "Errors-To: ilug-admin@linux.ie\n",
      "X-Mailman-Version: 1.1\n",
      "Precedence: bulk\n",
      "L\n",
      "===================== cut here\n",
      "ist-Id: Irish Linux Users' Group <ilug.linux.ie>\n",
      "X-Beenthere: ilug@linux.ie\n",
      "\n",
      "Update on this for anyone that's interested, and because I like closed \n",
      "threads... nothing worse than an infinite while loop, is there?\n",
      "\n",
      "I ended up formatting a floppy on my flatmate's (un-networked) P100 running \n",
      "FAT16 Win95, and mcopied the contents of the bootdisk across. Now I have a \n",
      "FAT16 Win98 install running alongside Slackware, and can play Metal Gear \n",
      "Solid when the mood takes me ;)\n",
      "\n",
      "/Ciaran.\n",
      "\n",
      "On Wednesday 21 August 2002 16:21, Ciaran Johnston wrote:\n",
      "> Dublin said:\n",
      "> > If you copy the files from your disk to the c: partition and mark it as\n",
      "> > active it should work ...\n",
      ">\n",
      "> Yeah, I figured that, but it doesn't seem to ... well, if that's the case\n",
      "> I'll give it another go tonight, maybe come back with some error messages.\n",
      ">\n",
      "> Just to clarify for those who didn't understand me initially - I have a\n",
      "> floppy drive installed, but it doesn't physically work. There's nowhere\n",
      "> handy to pick one up where I am, and I don't fancy waiting a few days for\n",
      "> one to arrive from Peats.\n",
      ">\n",
      "> Thanks for the answers,\n",
      "> Ciaran.\n",
      ">\n",
      "> > You especially need io.sys, command.com and msdos.sys\n",
      "> >\n",
      "> > your cd driver .sys and read the autoexec.bat and config.sys files for\n",
      "> > hints on what you did with your boot floppy <g>\n",
      "> >\n",
      "> > P\n",
      "> >\n",
      "> > On Wed, 2002-08-21 at 14:07, Ciaran Johnston wrote:\n",
      "> >> Hi folks,\n",
      "> >> The situation is this: at home, I have a PC with 2 10Gig HDDs, and no\n",
      "> >> (working) floppy drive. I have been running Linux solely for the last\n",
      "> >> year, but recently got the urge to, among other things, play some of\n",
      "> >> my Windoze games. I normally install the windows partition using a\n",
      "> >> boot floppy which I have conveniently zipped up, but I haven't any way\n",
      "> >> of writing or reading a floppy.\n",
      "> >> So, how do I go about:\n",
      "> >> 1. formatting a C: drive with system files (normally I would use\n",
      "> >> format /s c: from the floppy).\n",
      "> >> 2. Installing the CDROM drivers (my bootdisk (I wrote it many years\n",
      "> >> ago) does this normally).\n",
      "> >> 3. Booting from the partition?\n",
      "> >>\n",
      "> >> I wiped all my linux partitions from the first drive and created\n",
      "> >> partitions for Windows (HDA1) Slackware and RedHat. I used cfdisk for\n",
      "> >> this. I made the first drive (hda) bootable. I then installed the\n",
      "> >> windows partition in LILO and reran lilo (installed in MBR). I copied\n",
      "> >> the contents of boot.zip to my new windows partition and tried to boot\n",
      "> >> it - all I get is a garbled line of squiggles.\n",
      "> >>\n",
      "> >> Anyone any ideas? I can't think of anywhere in Athlone to get a new\n",
      "> >> floppy drive this evening...\n",
      "> >>\n",
      "> >> Thanks,\n",
      "> >> Ciaran.\n",
      "> >>\n",
      "> >>\n",
      "> >>\n",
      "> >> --\n",
      "> >> Irish Linux Users' Group: ilug@linux.ie\n",
      "> >> http://www.linux.ie/mailman/listinfo/ilug for (un)subscription\n",
      "> >> information. List maintainer: listmaster@linux.ie\n",
      "\n",
      "\n",
      "-- \n",
      "Irish Linux Users' Group: ilug@linux.ie\n",
      "http://www.linux.ie/mailman/listinfo/ilug for (un)subscription information.\n",
      "List maintainer: listmaster@linux.ie\n",
      "\n",
      "\n"
     ]
    }
   ],
   "source": [
    "# test for mail30\n",
    "obs = data['mail30']\n",
    "q = viterbi(obs, A, B, pi)\n",
    "\n",
    "visualize_segmentation('dat/mail30.txt', 'mail30_segmented.txt', q)\n",
    "\n",
    "mail30 = open('mail30_segmented.txt', 'r')\n",
    "print(mail30.read())"
   ]
  },
  {
   "cell_type": "markdown",
   "id": "8da26444",
   "metadata": {},
   "source": [
    "We can see that in mail11, the cutoff is made correctly between the header and the body. In mail30, however, this is not true. This may have happened because mail30 is a response that contains the previous conversation, and for this reason, it contains some \"mini-headers\" inside its content."
   ]
  },
  {
   "cell_type": "markdown",
   "id": "a26d5e02",
   "metadata": {},
   "source": [
    "#### Q5) How would you model the problem if you had to segment the mails in more than two parts (for example : header, body, signature)?\n",
    "\n",
    "To account for more than two parts of an email, we should include more states to the HMM model. In this case, we would not have only the two states (header and body), but instead, multiple possible states (e.g.: header, body, signature, etc.). To do this, it would be necessary to recalculate the matrices A and B. Matrix A needs to include all the transition probabilities between different sections of the email, and matrix B would have to include the probability of observing each character in the newly added sections."
   ]
  },
  {
   "cell_type": "markdown",
   "id": "e3cd5792",
   "metadata": {},
   "source": [
    "#### Q6) How would you model the problem of separating the portions of mail included, knowing that they always start with the character \">\".\n",
    "\n",
    "To correctly separate portions of mail included, we can define two new states: one state for portions of mail included, and one state that represents the start of a portion of mail. This last state, which indicates that there's an included portion of mail to come, has emission probabilities equal to 0 for all characters, except for \">\", which has emission probability of 1. The probability of transitioning from the state *start of a portion of mail* to the other states are: 1, if the state of destination is *portion of mail* and 0 to all other states. This way, we would correctly account for the fact that every portion of mail starts with the character \">\".\n",
    "\n",
    "Observations:\n",
    "- This model still allows other sections to start with the character \">\", it just accounts for the fact that every included portion of mail starts with \">\".\n",
    "- Adding these new states to the model would require including transition probabilities between the new states and the other ones (and vice-versa), as well as emission probabilities for the *portion of email* state."
   ]
  }
 ],
 "metadata": {
  "kernelspec": {
   "display_name": "Python [conda env:study] *",
   "language": "python",
   "name": "conda-env-study-py"
  },
  "language_info": {
   "codemirror_mode": {
    "name": "ipython",
    "version": 3
   },
   "file_extension": ".py",
   "mimetype": "text/x-python",
   "name": "python",
   "nbconvert_exporter": "python",
   "pygments_lexer": "ipython3",
   "version": "3.7.9"
  }
 },
 "nbformat": 4,
 "nbformat_minor": 5
}
