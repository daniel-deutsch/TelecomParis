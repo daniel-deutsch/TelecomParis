{
 "metadata": {
  "language_info": {
   "codemirror_mode": {
    "name": "ipython",
    "version": 3
   },
   "file_extension": ".py",
   "mimetype": "text/x-python",
   "name": "python",
   "nbconvert_exporter": "python",
   "pygments_lexer": "ipython3",
   "version": "3.8.5-final"
  },
  "orig_nbformat": 2,
  "kernelspec": {
   "name": "python38564bitvenvb82e044b96594617a87b679afa6eb3cb",
   "display_name": "Python 3.8.5 64-bit ('venv')"
  }
 },
 "nbformat": 4,
 "nbformat_minor": 2,
 "cells": [
  {
   "source": [
    "# Wage1 DataFrame\n",
    "\n",
    "526 records\n",
    "\n",
    "| Index &nbsp; | Name &nbsp; &nbsp; &nbsp; &nbsp; &nbsp; &nbsp; &nbsp; | Description                     |\n",
    "|--------------|:------------------------------------------------------|--------------------------------:|\n",
    "|  0           | `wage`                                                | average hourly earnings         |\n",
    "|  1           | `educ`                                                | years of education              |\n",
    "|  2           | `exper`                                               | years potential experience      |\n",
    "|  3           | `tenure`                                              | years with current employer     |\n",
    "|  4           | `nonwhite`                                            | =1 if nonwhite                  |\n",
    "|  5           | `female`                                              | =1 if female                    |\n",
    "|  6           | `married`                                             | =1 if married                   |\n",
    "|  7           | `numdep`                                              | number of dependents            |\n",
    "|  8           | `smsa`                                                | =1 if live in SMSA              |\n",
    "|  9           | `northcen`                                            | =1 if live in north central U.S |\n",
    "| 10           | `south`                                               | =1 if live in southern region   |\n",
    "| 11           | `west`                                                | =1 if live in western region    | \n",
    "| 12           | `construc`                                            | =1 if work in construc. indus.  |\n",
    "| 13           | `ndurman`                                             | =1 if in nondur. manuf. indus.  |\n",
    "| 14           | `trcommpu`                                            | =1 if in trans, commun, pub ut  |\n",
    "| 15           | `trade`                                               | =1 if in wholesale or retail    |\n",
    "| 16           | `services`                                            | =1 if in services indus.        |\n",
    "| 17           | `profserv`                                            | =1 if in prof. serv. indus.     |\n",
    "| 18           | `profocc`                                             | =1 if in profess. occupation    |\n",
    "| 19           | `clerocc`                                             | =1 if in clerical occupation    |\n",
    "| 20           | `servocc`                                             | =1 if in service occupation     |\n",
    "| 21           | `lwage`                                               | log(wage)                       |\n",
    "| 22           | `expersq`                                             | exper^2                         |\n",
    "| 23           | `tenursq`                                             | tenure^2                        |"
   ],
   "cell_type": "markdown",
   "metadata": {}
  },
  {
   "cell_type": "code",
   "execution_count": null,
   "metadata": {
    "tags": []
   },
   "outputs": [],
   "source": [
    "import numpy as np\n",
    "import pandas as pd\n",
    "import statsmodels.api as sm\n",
    "import matplotlib.pyplot as plt\n",
    "\n",
    "df = pd.read_csv(\"./data/wage1.raw\", delim_whitespace=True, names=[\"wage\", \"educ\", \"exper\", \"tenure\", \"nonwhite\", \"female\", \"married\", \"numdep\", \"smsa\", \"northcen\", \"south\", \"west\", \"construc\", \"ndurman\", \"trcommpu\", \"trade\", \"services\", \"profserv\", \"profocc\", \"clerocc\", \"lwage\", \"expersq\", \"tenursq\"])"
   ]
  },
  {
   "cell_type": "code",
   "execution_count": null,
   "metadata": {},
   "outputs": [],
   "source": [
    "y = np.log(df[\"wage\"])\n",
    "model=sm.OLS(y,X)\n",
    "results = model.fit()\n",
    "print(results.summary())\n",
    "u=results.resid\n",
    "SSR0=u.T@u\n"
   ]
  },
  {
   "cell_type": "code",
   "execution_count": null,
   "metadata": {
    "tags": []
   },
   "outputs": [],
   "source": [
    "# H0 : βeduc = 0, βexper = 0\n",
    "β = 10\n",
    "print(β)"
   ]
  },
  {
   "cell_type": "code",
   "execution_count": null,
   "metadata": {},
   "outputs": [],
   "source": []
  }
 ]
}