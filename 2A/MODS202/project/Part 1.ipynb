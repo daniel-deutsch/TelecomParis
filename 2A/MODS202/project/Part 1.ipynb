{
 "cells": [
  {
   "cell_type": "markdown",
   "metadata": {},
   "source": [
    "# Project Part 1\n",
    "\n",
    "### 1"
   ]
  },
  {
   "cell_type": "code",
   "execution_count": 1,
   "metadata": {},
   "outputs": [
    {
     "data": {
      "text/html": [
       "<div>\n",
       "<style scoped>\n",
       "    .dataframe tbody tr th:only-of-type {\n",
       "        vertical-align: middle;\n",
       "    }\n",
       "\n",
       "    .dataframe tbody tr th {\n",
       "        vertical-align: top;\n",
       "    }\n",
       "\n",
       "    .dataframe thead th {\n",
       "        text-align: right;\n",
       "    }\n",
       "</style>\n",
       "<table border=\"1\" class=\"dataframe\">\n",
       "  <thead>\n",
       "    <tr style=\"text-align: right;\">\n",
       "      <th></th>\n",
       "      <th>inlf</th>\n",
       "      <th>hours</th>\n",
       "      <th>kidslt6</th>\n",
       "      <th>kidsgt6</th>\n",
       "      <th>age</th>\n",
       "      <th>educ</th>\n",
       "      <th>wage</th>\n",
       "      <th>repwage</th>\n",
       "      <th>hushrs</th>\n",
       "      <th>husage</th>\n",
       "      <th>...</th>\n",
       "      <th>faminc</th>\n",
       "      <th>mtr</th>\n",
       "      <th>motheduc</th>\n",
       "      <th>fatheduc</th>\n",
       "      <th>unem</th>\n",
       "      <th>city</th>\n",
       "      <th>exper</th>\n",
       "      <th>nwifeinc</th>\n",
       "      <th>lwage</th>\n",
       "      <th>expersq</th>\n",
       "    </tr>\n",
       "  </thead>\n",
       "  <tbody>\n",
       "    <tr>\n",
       "      <th>0</th>\n",
       "      <td>1.0</td>\n",
       "      <td>1610.0</td>\n",
       "      <td>1.0</td>\n",
       "      <td>0.0</td>\n",
       "      <td>32.0</td>\n",
       "      <td>12.0</td>\n",
       "      <td>3.3540</td>\n",
       "      <td>2.65</td>\n",
       "      <td>2708.0</td>\n",
       "      <td>34.0</td>\n",
       "      <td>...</td>\n",
       "      <td>16310.0</td>\n",
       "      <td>0.7215</td>\n",
       "      <td>12.0</td>\n",
       "      <td>7.0</td>\n",
       "      <td>5.0</td>\n",
       "      <td>0.0</td>\n",
       "      <td>14.0</td>\n",
       "      <td>10.910060</td>\n",
       "      <td>1.210154</td>\n",
       "      <td>196.0</td>\n",
       "    </tr>\n",
       "    <tr>\n",
       "      <th>1</th>\n",
       "      <td>1.0</td>\n",
       "      <td>1656.0</td>\n",
       "      <td>0.0</td>\n",
       "      <td>2.0</td>\n",
       "      <td>30.0</td>\n",
       "      <td>12.0</td>\n",
       "      <td>1.3889</td>\n",
       "      <td>2.65</td>\n",
       "      <td>2310.0</td>\n",
       "      <td>30.0</td>\n",
       "      <td>...</td>\n",
       "      <td>21800.0</td>\n",
       "      <td>0.6615</td>\n",
       "      <td>7.0</td>\n",
       "      <td>7.0</td>\n",
       "      <td>11.0</td>\n",
       "      <td>1.0</td>\n",
       "      <td>5.0</td>\n",
       "      <td>19.499980</td>\n",
       "      <td>0.328512</td>\n",
       "      <td>25.0</td>\n",
       "    </tr>\n",
       "    <tr>\n",
       "      <th>2</th>\n",
       "      <td>1.0</td>\n",
       "      <td>1980.0</td>\n",
       "      <td>1.0</td>\n",
       "      <td>3.0</td>\n",
       "      <td>35.0</td>\n",
       "      <td>12.0</td>\n",
       "      <td>4.5455</td>\n",
       "      <td>4.04</td>\n",
       "      <td>3072.0</td>\n",
       "      <td>40.0</td>\n",
       "      <td>...</td>\n",
       "      <td>21040.0</td>\n",
       "      <td>0.6915</td>\n",
       "      <td>12.0</td>\n",
       "      <td>7.0</td>\n",
       "      <td>5.0</td>\n",
       "      <td>0.0</td>\n",
       "      <td>15.0</td>\n",
       "      <td>12.039910</td>\n",
       "      <td>1.514138</td>\n",
       "      <td>225.0</td>\n",
       "    </tr>\n",
       "    <tr>\n",
       "      <th>3</th>\n",
       "      <td>1.0</td>\n",
       "      <td>456.0</td>\n",
       "      <td>0.0</td>\n",
       "      <td>3.0</td>\n",
       "      <td>34.0</td>\n",
       "      <td>12.0</td>\n",
       "      <td>1.0965</td>\n",
       "      <td>3.25</td>\n",
       "      <td>1920.0</td>\n",
       "      <td>53.0</td>\n",
       "      <td>...</td>\n",
       "      <td>7300.0</td>\n",
       "      <td>0.7815</td>\n",
       "      <td>7.0</td>\n",
       "      <td>7.0</td>\n",
       "      <td>5.0</td>\n",
       "      <td>0.0</td>\n",
       "      <td>6.0</td>\n",
       "      <td>6.799996</td>\n",
       "      <td>0.092123</td>\n",
       "      <td>36.0</td>\n",
       "    </tr>\n",
       "    <tr>\n",
       "      <th>4</th>\n",
       "      <td>1.0</td>\n",
       "      <td>1568.0</td>\n",
       "      <td>1.0</td>\n",
       "      <td>2.0</td>\n",
       "      <td>31.0</td>\n",
       "      <td>14.0</td>\n",
       "      <td>4.5918</td>\n",
       "      <td>3.60</td>\n",
       "      <td>2000.0</td>\n",
       "      <td>32.0</td>\n",
       "      <td>...</td>\n",
       "      <td>27300.0</td>\n",
       "      <td>0.6215</td>\n",
       "      <td>12.0</td>\n",
       "      <td>14.0</td>\n",
       "      <td>9.5</td>\n",
       "      <td>1.0</td>\n",
       "      <td>7.0</td>\n",
       "      <td>20.100060</td>\n",
       "      <td>1.524272</td>\n",
       "      <td>49.0</td>\n",
       "    </tr>\n",
       "    <tr>\n",
       "      <th>...</th>\n",
       "      <td>...</td>\n",
       "      <td>...</td>\n",
       "      <td>...</td>\n",
       "      <td>...</td>\n",
       "      <td>...</td>\n",
       "      <td>...</td>\n",
       "      <td>...</td>\n",
       "      <td>...</td>\n",
       "      <td>...</td>\n",
       "      <td>...</td>\n",
       "      <td>...</td>\n",
       "      <td>...</td>\n",
       "      <td>...</td>\n",
       "      <td>...</td>\n",
       "      <td>...</td>\n",
       "      <td>...</td>\n",
       "      <td>...</td>\n",
       "      <td>...</td>\n",
       "      <td>...</td>\n",
       "      <td>...</td>\n",
       "      <td>...</td>\n",
       "    </tr>\n",
       "    <tr>\n",
       "      <th>423</th>\n",
       "      <td>1.0</td>\n",
       "      <td>680.0</td>\n",
       "      <td>0.0</td>\n",
       "      <td>5.0</td>\n",
       "      <td>36.0</td>\n",
       "      <td>10.0</td>\n",
       "      <td>2.3118</td>\n",
       "      <td>0.00</td>\n",
       "      <td>3430.0</td>\n",
       "      <td>43.0</td>\n",
       "      <td>...</td>\n",
       "      <td>19772.0</td>\n",
       "      <td>0.7215</td>\n",
       "      <td>7.0</td>\n",
       "      <td>7.0</td>\n",
       "      <td>7.5</td>\n",
       "      <td>0.0</td>\n",
       "      <td>2.0</td>\n",
       "      <td>18.199980</td>\n",
       "      <td>0.838027</td>\n",
       "      <td>4.0</td>\n",
       "    </tr>\n",
       "    <tr>\n",
       "      <th>424</th>\n",
       "      <td>1.0</td>\n",
       "      <td>2450.0</td>\n",
       "      <td>0.0</td>\n",
       "      <td>1.0</td>\n",
       "      <td>40.0</td>\n",
       "      <td>12.0</td>\n",
       "      <td>5.3061</td>\n",
       "      <td>6.50</td>\n",
       "      <td>2008.0</td>\n",
       "      <td>40.0</td>\n",
       "      <td>...</td>\n",
       "      <td>35641.0</td>\n",
       "      <td>0.6215</td>\n",
       "      <td>7.0</td>\n",
       "      <td>7.0</td>\n",
       "      <td>5.0</td>\n",
       "      <td>1.0</td>\n",
       "      <td>21.0</td>\n",
       "      <td>22.641060</td>\n",
       "      <td>1.668857</td>\n",
       "      <td>441.0</td>\n",
       "    </tr>\n",
       "    <tr>\n",
       "      <th>425</th>\n",
       "      <td>1.0</td>\n",
       "      <td>2144.0</td>\n",
       "      <td>0.0</td>\n",
       "      <td>2.0</td>\n",
       "      <td>43.0</td>\n",
       "      <td>13.0</td>\n",
       "      <td>5.8675</td>\n",
       "      <td>0.00</td>\n",
       "      <td>2140.0</td>\n",
       "      <td>43.0</td>\n",
       "      <td>...</td>\n",
       "      <td>34220.0</td>\n",
       "      <td>0.5815</td>\n",
       "      <td>7.0</td>\n",
       "      <td>7.0</td>\n",
       "      <td>7.5</td>\n",
       "      <td>1.0</td>\n",
       "      <td>22.0</td>\n",
       "      <td>21.640080</td>\n",
       "      <td>1.769429</td>\n",
       "      <td>484.0</td>\n",
       "    </tr>\n",
       "    <tr>\n",
       "      <th>426</th>\n",
       "      <td>1.0</td>\n",
       "      <td>1760.0</td>\n",
       "      <td>0.0</td>\n",
       "      <td>1.0</td>\n",
       "      <td>33.0</td>\n",
       "      <td>12.0</td>\n",
       "      <td>3.4091</td>\n",
       "      <td>3.21</td>\n",
       "      <td>3380.0</td>\n",
       "      <td>34.0</td>\n",
       "      <td>...</td>\n",
       "      <td>30000.0</td>\n",
       "      <td>0.5815</td>\n",
       "      <td>12.0</td>\n",
       "      <td>16.0</td>\n",
       "      <td>11.0</td>\n",
       "      <td>1.0</td>\n",
       "      <td>14.0</td>\n",
       "      <td>23.999980</td>\n",
       "      <td>1.226448</td>\n",
       "      <td>196.0</td>\n",
       "    </tr>\n",
       "    <tr>\n",
       "      <th>427</th>\n",
       "      <td>1.0</td>\n",
       "      <td>490.0</td>\n",
       "      <td>0.0</td>\n",
       "      <td>1.0</td>\n",
       "      <td>30.0</td>\n",
       "      <td>12.0</td>\n",
       "      <td>4.0816</td>\n",
       "      <td>2.46</td>\n",
       "      <td>2430.0</td>\n",
       "      <td>33.0</td>\n",
       "      <td>...</td>\n",
       "      <td>18000.0</td>\n",
       "      <td>0.6915</td>\n",
       "      <td>12.0</td>\n",
       "      <td>12.0</td>\n",
       "      <td>7.5</td>\n",
       "      <td>1.0</td>\n",
       "      <td>7.0</td>\n",
       "      <td>16.000020</td>\n",
       "      <td>1.406489</td>\n",
       "      <td>49.0</td>\n",
       "    </tr>\n",
       "  </tbody>\n",
       "</table>\n",
       "<p>428 rows × 22 columns</p>\n",
       "</div>"
      ],
      "text/plain": [
       "     inlf   hours  kidslt6  kidsgt6   age  educ    wage  repwage  hushrs  \\\n",
       "0     1.0  1610.0      1.0      0.0  32.0  12.0  3.3540     2.65  2708.0   \n",
       "1     1.0  1656.0      0.0      2.0  30.0  12.0  1.3889     2.65  2310.0   \n",
       "2     1.0  1980.0      1.0      3.0  35.0  12.0  4.5455     4.04  3072.0   \n",
       "3     1.0   456.0      0.0      3.0  34.0  12.0  1.0965     3.25  1920.0   \n",
       "4     1.0  1568.0      1.0      2.0  31.0  14.0  4.5918     3.60  2000.0   \n",
       "..    ...     ...      ...      ...   ...   ...     ...      ...     ...   \n",
       "423   1.0   680.0      0.0      5.0  36.0  10.0  2.3118     0.00  3430.0   \n",
       "424   1.0  2450.0      0.0      1.0  40.0  12.0  5.3061     6.50  2008.0   \n",
       "425   1.0  2144.0      0.0      2.0  43.0  13.0  5.8675     0.00  2140.0   \n",
       "426   1.0  1760.0      0.0      1.0  33.0  12.0  3.4091     3.21  3380.0   \n",
       "427   1.0   490.0      0.0      1.0  30.0  12.0  4.0816     2.46  2430.0   \n",
       "\n",
       "     husage  ...   faminc     mtr  motheduc  fatheduc  unem  city  exper  \\\n",
       "0      34.0  ...  16310.0  0.7215      12.0       7.0   5.0   0.0   14.0   \n",
       "1      30.0  ...  21800.0  0.6615       7.0       7.0  11.0   1.0    5.0   \n",
       "2      40.0  ...  21040.0  0.6915      12.0       7.0   5.0   0.0   15.0   \n",
       "3      53.0  ...   7300.0  0.7815       7.0       7.0   5.0   0.0    6.0   \n",
       "4      32.0  ...  27300.0  0.6215      12.0      14.0   9.5   1.0    7.0   \n",
       "..      ...  ...      ...     ...       ...       ...   ...   ...    ...   \n",
       "423    43.0  ...  19772.0  0.7215       7.0       7.0   7.5   0.0    2.0   \n",
       "424    40.0  ...  35641.0  0.6215       7.0       7.0   5.0   1.0   21.0   \n",
       "425    43.0  ...  34220.0  0.5815       7.0       7.0   7.5   1.0   22.0   \n",
       "426    34.0  ...  30000.0  0.5815      12.0      16.0  11.0   1.0   14.0   \n",
       "427    33.0  ...  18000.0  0.6915      12.0      12.0   7.5   1.0    7.0   \n",
       "\n",
       "      nwifeinc     lwage  expersq  \n",
       "0    10.910060  1.210154    196.0  \n",
       "1    19.499980  0.328512     25.0  \n",
       "2    12.039910  1.514138    225.0  \n",
       "3     6.799996  0.092123     36.0  \n",
       "4    20.100060  1.524272     49.0  \n",
       "..         ...       ...      ...  \n",
       "423  18.199980  0.838027      4.0  \n",
       "424  22.641060  1.668857    441.0  \n",
       "425  21.640080  1.769429    484.0  \n",
       "426  23.999980  1.226448    196.0  \n",
       "427  16.000020  1.406489     49.0  \n",
       "\n",
       "[428 rows x 22 columns]"
      ]
     },
     "execution_count": 1,
     "metadata": {},
     "output_type": "execute_result"
    }
   ],
   "source": [
    "# Importing needed packages\n",
    "import pandas as pd\n",
    "import numpy as np\n",
    "from matplotlib import pyplot as plt\n",
    "import statsmodels.api as sm\n",
    "from scipy.stats import t\n",
    "from scipy.stats import f\n",
    "from scipy import stats\n",
    "import seaborn as sns\n",
    "\n",
    "'''\n",
    "Considering the following column description\n",
    "  1. inlf                     =1 if in labor force, 1975\n",
    "  2. hours                    hours worked, 1975\n",
    "  3. kidslt6                  # kids < 6 years\n",
    "  4. kidsgt6                  # kids 6-18\n",
    "  5. age                      woman's age in yrs\n",
    "  6. educ                     years of schooling\n",
    "  7. wage                     estimated wage from earns., hours\n",
    "  8. repwage                  reported wage at interview in 1976\n",
    "  9. hushrs                   hours worked by husband, 1975\n",
    " 10. husage                   husband's age\n",
    " 11. huseduc                  husband's years of schooling\n",
    " 12. huswage                  husband's hourly wage, 1975\n",
    " 13. faminc                   family income, 1975\n",
    " 14. mtr                      fed. marginal tax rate facing woman\n",
    " 15. motheduc                 mother's years of schooling\n",
    " 16. fatheduc                 father's years of schooling\n",
    " 17. unem                     unem. rate in county of resid.\n",
    " 18. city                     =1 if live in SMSA\n",
    " 19. exper                    actual labor mkt exper\n",
    " 20. nwifeinc                 (faminc - wage*hours)/1000\n",
    " 21. lwage                    log(wage)\n",
    " 22. expersq                  exper^2\n",
    "'''\n",
    "def cleaning(x):\n",
    "    if x == \".\":\n",
    "        return -1\n",
    "    else:\n",
    "        return x\n",
    "\n",
    "# Writing it into an array\n",
    "columns = [\"inlf\", \"hours\", \"kidslt6\", \"kidsgt6\", \"age\", \"educ\", \"wage\", \"repwage\", \"hushrs\", \"husage\", \"huseduc\", \"huswage\", \"faminc\", \"mtr\", \"motheduc\", \"fatheduc\", \"unem\", \"city\", \"exper\", \"nwifeinc\", \"lwage\", \"expersq\"]\n",
    "\n",
    "# Data is not well formated on txt, reading line by line and formatting it\n",
    "file = open(\"MROZ.txt\", mode=\"r\")\n",
    "data = []\n",
    "for line in  file.readlines():\n",
    "    current = line.split(\" \")\n",
    "    while(\"\" in current) : \n",
    "        current.remove(\"\")\n",
    "    current.remove(\"\\n\")\n",
    "    current = list(map(cleaning,current))\n",
    "    #print(current)\n",
    "    data.append(list(map(float, current)))\n",
    "data = np.asarray(data)\n",
    "\n",
    "# Creating the dataframe\n",
    "data = pd.DataFrame(data, columns=columns)\n",
    "\n",
    "# Removing entries that do not contain a strictly positive wage\n",
    "# On the cleaning part, it was assigned the -1 value to the NaN entries in wage and logwage\n",
    "data = data[data['wage'] > 0]  \n",
    "\n",
    "# Visualizing the dataset\n",
    "data"
   ]
  },
  {
   "cell_type": "markdown",
   "metadata": {},
   "source": [
    "### 2"
   ]
  },
  {
   "cell_type": "code",
   "execution_count": 2,
   "metadata": {},
   "outputs": [
    {
     "data": {
      "text/html": [
       "<div>\n",
       "<style scoped>\n",
       "    .dataframe tbody tr th:only-of-type {\n",
       "        vertical-align: middle;\n",
       "    }\n",
       "\n",
       "    .dataframe tbody tr th {\n",
       "        vertical-align: top;\n",
       "    }\n",
       "\n",
       "    .dataframe thead th {\n",
       "        text-align: right;\n",
       "    }\n",
       "</style>\n",
       "<table border=\"1\" class=\"dataframe\">\n",
       "  <thead>\n",
       "    <tr style=\"text-align: right;\">\n",
       "      <th></th>\n",
       "      <th>wage</th>\n",
       "      <th>age</th>\n",
       "      <th>educ</th>\n",
       "    </tr>\n",
       "  </thead>\n",
       "  <tbody>\n",
       "    <tr>\n",
       "      <th>count</th>\n",
       "      <td>428.000000</td>\n",
       "      <td>428.000000</td>\n",
       "      <td>428.000000</td>\n",
       "    </tr>\n",
       "    <tr>\n",
       "      <th>mean</th>\n",
       "      <td>4.177682</td>\n",
       "      <td>41.971963</td>\n",
       "      <td>12.658879</td>\n",
       "    </tr>\n",
       "    <tr>\n",
       "      <th>std</th>\n",
       "      <td>3.310282</td>\n",
       "      <td>7.721084</td>\n",
       "      <td>2.285376</td>\n",
       "    </tr>\n",
       "    <tr>\n",
       "      <th>min</th>\n",
       "      <td>0.128200</td>\n",
       "      <td>30.000000</td>\n",
       "      <td>5.000000</td>\n",
       "    </tr>\n",
       "    <tr>\n",
       "      <th>25%</th>\n",
       "      <td>2.262600</td>\n",
       "      <td>35.000000</td>\n",
       "      <td>12.000000</td>\n",
       "    </tr>\n",
       "    <tr>\n",
       "      <th>50%</th>\n",
       "      <td>3.481900</td>\n",
       "      <td>42.000000</td>\n",
       "      <td>12.000000</td>\n",
       "    </tr>\n",
       "    <tr>\n",
       "      <th>75%</th>\n",
       "      <td>4.970750</td>\n",
       "      <td>47.250000</td>\n",
       "      <td>14.000000</td>\n",
       "    </tr>\n",
       "    <tr>\n",
       "      <th>max</th>\n",
       "      <td>25.000000</td>\n",
       "      <td>60.000000</td>\n",
       "      <td>17.000000</td>\n",
       "    </tr>\n",
       "  </tbody>\n",
       "</table>\n",
       "</div>"
      ],
      "text/plain": [
       "             wage         age        educ\n",
       "count  428.000000  428.000000  428.000000\n",
       "mean     4.177682   41.971963   12.658879\n",
       "std      3.310282    7.721084    2.285376\n",
       "min      0.128200   30.000000    5.000000\n",
       "25%      2.262600   35.000000   12.000000\n",
       "50%      3.481900   42.000000   12.000000\n",
       "75%      4.970750   47.250000   14.000000\n",
       "max     25.000000   60.000000   17.000000"
      ]
     },
     "execution_count": 2,
     "metadata": {},
     "output_type": "execute_result"
    }
   ],
   "source": [
    "# Descriptive statistics of the data for all the females\n",
    "data[['wage', 'age', 'educ']].describe()"
   ]
  },
  {
   "cell_type": "code",
   "execution_count": 3,
   "metadata": {},
   "outputs": [
    {
     "data": {
      "text/html": [
       "<div>\n",
       "<style scoped>\n",
       "    .dataframe tbody tr th:only-of-type {\n",
       "        vertical-align: middle;\n",
       "    }\n",
       "\n",
       "    .dataframe tbody tr th {\n",
       "        vertical-align: top;\n",
       "    }\n",
       "\n",
       "    .dataframe thead th {\n",
       "        text-align: right;\n",
       "    }\n",
       "</style>\n",
       "<table border=\"1\" class=\"dataframe\">\n",
       "  <thead>\n",
       "    <tr style=\"text-align: right;\">\n",
       "      <th></th>\n",
       "      <th>wage</th>\n",
       "      <th>age</th>\n",
       "      <th>educ</th>\n",
       "    </tr>\n",
       "  </thead>\n",
       "  <tbody>\n",
       "    <tr>\n",
       "      <th>count</th>\n",
       "      <td>214.000000</td>\n",
       "      <td>214.000000</td>\n",
       "      <td>214.000000</td>\n",
       "    </tr>\n",
       "    <tr>\n",
       "      <th>mean</th>\n",
       "      <td>4.896822</td>\n",
       "      <td>42.275701</td>\n",
       "      <td>13.242991</td>\n",
       "    </tr>\n",
       "    <tr>\n",
       "      <th>std</th>\n",
       "      <td>4.041606</td>\n",
       "      <td>7.388843</td>\n",
       "      <td>2.359045</td>\n",
       "    </tr>\n",
       "    <tr>\n",
       "      <th>min</th>\n",
       "      <td>0.161600</td>\n",
       "      <td>30.000000</td>\n",
       "      <td>5.000000</td>\n",
       "    </tr>\n",
       "    <tr>\n",
       "      <th>25%</th>\n",
       "      <td>2.513850</td>\n",
       "      <td>36.000000</td>\n",
       "      <td>12.000000</td>\n",
       "    </tr>\n",
       "    <tr>\n",
       "      <th>50%</th>\n",
       "      <td>3.846400</td>\n",
       "      <td>43.000000</td>\n",
       "      <td>12.000000</td>\n",
       "    </tr>\n",
       "    <tr>\n",
       "      <th>75%</th>\n",
       "      <td>5.854125</td>\n",
       "      <td>48.000000</td>\n",
       "      <td>16.000000</td>\n",
       "    </tr>\n",
       "    <tr>\n",
       "      <th>max</th>\n",
       "      <td>25.000000</td>\n",
       "      <td>59.000000</td>\n",
       "      <td>17.000000</td>\n",
       "    </tr>\n",
       "  </tbody>\n",
       "</table>\n",
       "</div>"
      ],
      "text/plain": [
       "             wage         age        educ\n",
       "count  214.000000  214.000000  214.000000\n",
       "mean     4.896822   42.275701   13.242991\n",
       "std      4.041606    7.388843    2.359045\n",
       "min      0.161600   30.000000    5.000000\n",
       "25%      2.513850   36.000000   12.000000\n",
       "50%      3.846400   43.000000   12.000000\n",
       "75%      5.854125   48.000000   16.000000\n",
       "max     25.000000   59.000000   17.000000"
      ]
     },
     "execution_count": 3,
     "metadata": {},
     "output_type": "execute_result"
    }
   ],
   "source": [
    "'''Now for the females such that the husband salary is greater\n",
    "than the median of the set\n",
    "'''\n",
    "wage_median = float(data[[\"huswage\"]].median(axis=0))\n",
    "husband_superior = data[data['huswage'] > wage_median]\n",
    "husband_superior[['wage', 'age', 'educ']].describe()"
   ]
  },
  {
   "cell_type": "code",
   "execution_count": 4,
   "metadata": {},
   "outputs": [
    {
     "data": {
      "text/html": [
       "<div>\n",
       "<style scoped>\n",
       "    .dataframe tbody tr th:only-of-type {\n",
       "        vertical-align: middle;\n",
       "    }\n",
       "\n",
       "    .dataframe tbody tr th {\n",
       "        vertical-align: top;\n",
       "    }\n",
       "\n",
       "    .dataframe thead th {\n",
       "        text-align: right;\n",
       "    }\n",
       "</style>\n",
       "<table border=\"1\" class=\"dataframe\">\n",
       "  <thead>\n",
       "    <tr style=\"text-align: right;\">\n",
       "      <th></th>\n",
       "      <th>wage</th>\n",
       "      <th>age</th>\n",
       "      <th>educ</th>\n",
       "    </tr>\n",
       "  </thead>\n",
       "  <tbody>\n",
       "    <tr>\n",
       "      <th>count</th>\n",
       "      <td>214.000000</td>\n",
       "      <td>214.000000</td>\n",
       "      <td>214.000000</td>\n",
       "    </tr>\n",
       "    <tr>\n",
       "      <th>mean</th>\n",
       "      <td>3.458541</td>\n",
       "      <td>41.668224</td>\n",
       "      <td>12.074766</td>\n",
       "    </tr>\n",
       "    <tr>\n",
       "      <th>std</th>\n",
       "      <td>2.143274</td>\n",
       "      <td>8.045482</td>\n",
       "      <td>2.054200</td>\n",
       "    </tr>\n",
       "    <tr>\n",
       "      <th>min</th>\n",
       "      <td>0.128200</td>\n",
       "      <td>30.000000</td>\n",
       "      <td>6.000000</td>\n",
       "    </tr>\n",
       "    <tr>\n",
       "      <th>25%</th>\n",
       "      <td>2.117275</td>\n",
       "      <td>35.000000</td>\n",
       "      <td>12.000000</td>\n",
       "    </tr>\n",
       "    <tr>\n",
       "      <th>50%</th>\n",
       "      <td>2.971800</td>\n",
       "      <td>41.000000</td>\n",
       "      <td>12.000000</td>\n",
       "    </tr>\n",
       "    <tr>\n",
       "      <th>75%</th>\n",
       "      <td>4.393800</td>\n",
       "      <td>47.000000</td>\n",
       "      <td>12.000000</td>\n",
       "    </tr>\n",
       "    <tr>\n",
       "      <th>max</th>\n",
       "      <td>18.267000</td>\n",
       "      <td>60.000000</td>\n",
       "      <td>17.000000</td>\n",
       "    </tr>\n",
       "  </tbody>\n",
       "</table>\n",
       "</div>"
      ],
      "text/plain": [
       "             wage         age        educ\n",
       "count  214.000000  214.000000  214.000000\n",
       "mean     3.458541   41.668224   12.074766\n",
       "std      2.143274    8.045482    2.054200\n",
       "min      0.128200   30.000000    6.000000\n",
       "25%      2.117275   35.000000   12.000000\n",
       "50%      2.971800   41.000000   12.000000\n",
       "75%      4.393800   47.000000   12.000000\n",
       "max     18.267000   60.000000   17.000000"
      ]
     },
     "execution_count": 4,
     "metadata": {},
     "output_type": "execute_result"
    }
   ],
   "source": [
    "'''Now for the females such that the husband salary is less\n",
    "than the median of the set\n",
    "'''\n",
    "husband_wage_median = float(data[[\"huswage\"]].median(axis=0))\n",
    "husband_inferior = data[data['huswage'] < husband_wage_median]\n",
    "husband_inferior[['wage', 'age', 'educ']].describe()"
   ]
  },
  {
   "cell_type": "markdown",
   "metadata": {},
   "source": [
    "### 3"
   ]
  },
  {
   "cell_type": "code",
   "execution_count": 5,
   "metadata": {},
   "outputs": [
    {
     "name": "stderr",
     "output_type": "stream",
     "text": [
      "/home/kevinfkuhl/.local/lib/python3.8/site-packages/seaborn/distributions.py:2551: FutureWarning: `distplot` is a deprecated function and will be removed in a future version. Please adapt your code to use either `displot` (a figure-level function with similar flexibility) or `histplot` (an axes-level function for histograms).\n",
      "  warnings.warn(msg, FutureWarning)\n",
      "/home/kevinfkuhl/.local/lib/python3.8/site-packages/seaborn/distributions.py:2551: FutureWarning: `distplot` is a deprecated function and will be removed in a future version. Please adapt your code to use either `displot` (a figure-level function with similar flexibility) or `histplot` (an axes-level function for histograms).\n",
      "  warnings.warn(msg, FutureWarning)\n"
     ]
    },
    {
     "data": {
      "image/png": "[encoded data removed]",
      "text/plain": [
       "<Figure size 432x288 with 1 Axes>"
      ]
     },
     "metadata": {
      "needs_background": "light"
     },
     "output_type": "display_data"
    }
   ],
   "source": [
    "# First the histogram for wage\n",
    "gaussian_wage = stats.norm.rvs(np.mean(data[\"wage\"]), np.std(data[\"wage\"]), size=428)\n",
    "sns.distplot(data[\"wage\"], label='Histogram for Wage', bins=30)\n",
    "sns.distplot(gaussian_wage, label='Correspondent Gaussian', bins=30, color=\"orange\")\n",
    "plt.title(\"Histogram of the wage\")\n",
    "plt.legend()\n",
    "plt.show()"
   ]
  },
  {
   "cell_type": "code",
   "execution_count": 6,
   "metadata": {},
   "outputs": [
    {
     "name": "stderr",
     "output_type": "stream",
     "text": [
      "/home/kevinfkuhl/.local/lib/python3.8/site-packages/seaborn/distributions.py:2551: FutureWarning: `distplot` is a deprecated function and will be removed in a future version. Please adapt your code to use either `displot` (a figure-level function with similar flexibility) or `histplot` (an axes-level function for histograms).\n",
      "  warnings.warn(msg, FutureWarning)\n",
      "/home/kevinfkuhl/.local/lib/python3.8/site-packages/seaborn/distributions.py:2551: FutureWarning: `distplot` is a deprecated function and will be removed in a future version. Please adapt your code to use either `displot` (a figure-level function with similar flexibility) or `histplot` (an axes-level function for histograms).\n",
      "  warnings.warn(msg, FutureWarning)\n"
     ]
    },
    {
     "data": {
      "image/png": "[encoded data removed]",
      "text/plain": [
       "<Figure size 432x288 with 1 Axes>"
      ]
     },
     "metadata": {
      "needs_background": "light"
     },
     "output_type": "display_data"
    }
   ],
   "source": [
    "# Now the histogram for the log of wage\n",
    "gaussian_wage = stats.norm.rvs(np.mean(data[\"lwage\"]), np.std(data[\"lwage\"]), size=428)\n",
    "sns.distplot(data[\"lwage\"], label='Histogram for log(Wage)', bins=30)\n",
    "sns.distplot(gaussian_wage, label='Correspondent Gaussian', bins=30, color=\"orange\")\n",
    "plt.title(\"Histogram of the wage\")\n",
    "plt.legend()\n",
    "plt.show()"
   ]
  },
  {
   "cell_type": "markdown",
   "metadata": {},
   "source": [
    "It can be noted that the histogram of the log(wage) fits the gaussian distribution in a better way than the histogram of the wage."
   ]
  },
  {
   "cell_type": "markdown",
   "metadata": {},
   "source": [
    "### 4"
   ]
  },
  {
   "cell_type": "code",
   "execution_count": 7,
   "metadata": {},
   "outputs": [
    {
     "data": {
      "text/html": [
       "<div>\n",
       "<style scoped>\n",
       "    .dataframe tbody tr th:only-of-type {\n",
       "        vertical-align: middle;\n",
       "    }\n",
       "\n",
       "    .dataframe tbody tr th {\n",
       "        vertical-align: top;\n",
       "    }\n",
       "\n",
       "    .dataframe thead th {\n",
       "        text-align: right;\n",
       "    }\n",
       "</style>\n",
       "<table border=\"1\" class=\"dataframe\">\n",
       "  <thead>\n",
       "    <tr style=\"text-align: right;\">\n",
       "      <th></th>\n",
       "      <th>motheduc</th>\n",
       "      <th>fatheduc</th>\n",
       "    </tr>\n",
       "  </thead>\n",
       "  <tbody>\n",
       "    <tr>\n",
       "      <th>motheduc</th>\n",
       "      <td>1.000000</td>\n",
       "      <td>0.554063</td>\n",
       "    </tr>\n",
       "    <tr>\n",
       "      <th>fatheduc</th>\n",
       "      <td>0.554063</td>\n",
       "      <td>1.000000</td>\n",
       "    </tr>\n",
       "  </tbody>\n",
       "</table>\n",
       "</div>"
      ],
      "text/plain": [
       "          motheduc  fatheduc\n",
       "motheduc  1.000000  0.554063\n",
       "fatheduc  0.554063  1.000000"
      ]
     },
     "execution_count": 7,
     "metadata": {},
     "output_type": "execute_result"
    }
   ],
   "source": [
    "# Let's use the Pandas corr function to obtain the desired correlation\n",
    "data[[\"motheduc\", \"fatheduc\"]].corr()"
   ]
  },
  {
   "cell_type": "markdown",
   "metadata": {},
   "source": [
    "Therefore, the correlation between the two variables is 0.554063, which is high. This can be understood as usually people marry in within their socioeconomic class, which, in general, achieves similar degree of education. A multicolinearity problem will rise if one uses both variables as explanatory variables for a predictive model."
   ]
  },
  {
   "cell_type": "markdown",
   "metadata": {},
   "source": [
    "### 5"
   ]
  },
  {
   "cell_type": "code",
   "execution_count": 8,
   "metadata": {},
   "outputs": [
    {
     "name": "stderr",
     "output_type": "stream",
     "text": [
      "/home/kevinfkuhl/.local/lib/python3.8/site-packages/seaborn/_decorators.py:36: FutureWarning: Pass the following variables as keyword args: x, y. From version 0.12, the only valid positional argument will be `data`, and passing other arguments without an explicit keyword will result in an error or misinterpretation.\n",
      "  warnings.warn(\n"
     ]
    },
    {
     "data": {
      "image/png": "[encoded data removed]",
      "text/plain": [
       "<Figure size 1440x360 with 1 Axes>"
      ]
     },
     "metadata": {
      "needs_background": "light"
     },
     "output_type": "display_data"
    }
   ],
   "source": [
    "# First the wage and educ\n",
    "plt.figure(figsize=(20, 5))\n",
    "sns.regplot(data[\"educ\"], data[\"wage\"], fit_reg=True)\n",
    "plt.title(\"Wage x Educ\")\n",
    "plt.show()"
   ]
  },
  {
   "cell_type": "code",
   "execution_count": 9,
   "metadata": {},
   "outputs": [
    {
     "name": "stderr",
     "output_type": "stream",
     "text": [
      "/home/kevinfkuhl/.local/lib/python3.8/site-packages/seaborn/_decorators.py:36: FutureWarning: Pass the following variables as keyword args: x, y. From version 0.12, the only valid positional argument will be `data`, and passing other arguments without an explicit keyword will result in an error or misinterpretation.\n",
      "  warnings.warn(\n"
     ]
    },
    {
     "data": {
      "image/png": "[encoded data removed]",
      "text/plain": [
       "<Figure size 1440x360 with 1 Axes>"
      ]
     },
     "metadata": {
      "needs_background": "light"
     },
     "output_type": "display_data"
    }
   ],
   "source": [
    "# Wage and exper\n",
    "plt.figure(figsize=(20, 5))\n",
    "sns.regplot(data[\"exper\"], data[\"wage\"], fit_reg=True)\n",
    "plt.title(\"Wage x Exper\")\n",
    "plt.show()"
   ]
  },
  {
   "cell_type": "code",
   "execution_count": 10,
   "metadata": {},
   "outputs": [
    {
     "name": "stderr",
     "output_type": "stream",
     "text": [
      "/home/kevinfkuhl/.local/lib/python3.8/site-packages/seaborn/_decorators.py:36: FutureWarning: Pass the following variables as keyword args: x, y. From version 0.12, the only valid positional argument will be `data`, and passing other arguments without an explicit keyword will result in an error or misinterpretation.\n",
      "  warnings.warn(\n"
     ]
    },
    {
     "data": {
      "image/png": "[encoded data removed]",
      "text/plain": [
       "<Figure size 1440x360 with 1 Axes>"
      ]
     },
     "metadata": {
      "needs_background": "light"
     },
     "output_type": "display_data"
    }
   ],
   "source": [
    "# Wage and fatheduc\n",
    "plt.figure(figsize=(20, 5))\n",
    "sns.regplot(data[\"fatheduc\"], data[\"wage\"], fit_reg=True)\n",
    "plt.title(\"Wage x Fatheduc\")\n",
    "plt.show()"
   ]
  },
  {
   "cell_type": "markdown",
   "metadata": {},
   "source": [
    "First plot indicates a clear relation between Wage and Education. In this case, the higher the number the years of education, the higher the wage tends to be.\n",
    "\n",
    "In the second plot, the regression between the two variables show a very lightly inclined line, which would suggest a soft positive relation between wage and the number of years of experience.\n",
    "\n",
    "For the last plot, there is also a small inclination, which would suggest that the higher the number of years of education a father has, the higher the wage of his daughter tends to be. The slope, however, like last plot, is very small.\n",
    "\n",
    "This is not a case of the effect \"toute chose étant égale par ailleurs\" because we are not keeping the other variables constant when analysing the two plotted variables. For example, in the first plot, we are not considering the number of kids a certain individual, which can vary for each point."
   ]
  },
  {
   "cell_type": "markdown",
   "metadata": {},
   "source": [
    "### 6"
   ]
  },
  {
   "cell_type": "markdown",
   "metadata": {},
   "source": [
    "The fundamental hipothesys for a unbiased estimator is that the non observed variable have a null mean and that the conditional mean of the non observed variable given the data is equal to the unconditional mean (which is null). In summary, we can write\n",
    "\n",
    "$$E(u|x) = E(u) = 0$$\n",
    "\n",
    "The \"biais de variable omise\", or omitted variable bias is circumstance in which relevant variables are left out of the regression model. For instance, these variables are independent from the others used and can carry great information about the overall data."
   ]
  },
  {
   "cell_type": "markdown",
   "metadata": {},
   "source": [
    "### 7"
   ]
  },
  {
   "cell_type": "code",
   "execution_count": 11,
   "metadata": {},
   "outputs": [
    {
     "name": "stdout",
     "output_type": "stream",
     "text": [
      "beta\n",
      "         \n",
      "-2.403454\n",
      " 0.369752\n",
      " 0.460048\n",
      " 0.023820\n",
      " 0.015245\n",
      " 0.036173\n",
      "-0.061891\n",
      "\n",
      "var\n",
      "                                                                     \n",
      " 0.928324 -0.024741 -0.056056 -0.007830 -0.000884  0.005245 -0.046005\n",
      "-0.024741  0.106648 -0.001902 -0.000180 -0.001109 -0.001973  0.003081\n",
      "-0.056056 -0.001902  0.004939 -0.000022 -0.000292 -0.004274  0.000873\n",
      "-0.007830 -0.000180 -0.000022  0.000436  0.000054  0.001426  0.000972\n",
      "-0.000884 -0.001109 -0.000292  0.000054  0.000240  0.000627 -0.000035\n",
      " 0.005245 -0.001973 -0.004274  0.001426  0.000627  0.157588 -0.001792\n",
      "-0.046005  0.003081  0.000873  0.000972 -0.000035 -0.001792  0.015721\n",
      "\n",
      "std\n",
      "         \n",
      " 0.963496\n",
      " 0.326570\n",
      " 0.070275\n",
      " 0.020880\n",
      " 0.015499\n",
      " 0.396974\n",
      " 0.125384\n",
      "\n",
      "sigma^2\n",
      "\n",
      "9.700269739549361\n"
     ]
    }
   ],
   "source": [
    "# Constructing the model\n",
    "y = data[\"wage\"]\n",
    "s = np.shape(data[\"wage\"])\n",
    "const = np.ones(s)\n",
    "city = data[\"city\"]\n",
    "educ = data[\"educ\"]\n",
    "exper = data[\"exper\"]\n",
    "nwifeinc = data[\"nwifeinc\"]\n",
    "kidslt6 = data[\"kidslt6\"]\n",
    "kidsgt6 = data[\"kidsgt6\"]\n",
    "X = np.column_stack((const,city,educ,exper,nwifeinc,kidslt6,kidsgt6))\n",
    "\n",
    "# Calculating the coefficients\n",
    "beta = np.linalg.inv(X.T @ X)@X.T@y\n",
    "\n",
    "'''\n",
    "Now, calculating the residuous, the variance-covariance matrix and\n",
    "the standard deviation for each variable\n",
    "'''\n",
    "u=y-X@beta\n",
    "n,k=np.shape(X)\n",
    "sig2=u.T@u/(n-k)\n",
    "var=sig2*np.linalg.inv(X.T @ X)\n",
    "std=np.sqrt(np.diag(var))\n",
    "\n",
    "# Printing the calculated variables\n",
    "\n",
    "print(\"beta\")\n",
    "beta_print = pd.DataFrame(beta)\n",
    "beta_print.columns = ['']*beta_print.shape[1]\n",
    "print(beta_print.to_string(index=False))\n",
    "print()\n",
    "\n",
    "print(\"var\")\n",
    "var_print = pd.DataFrame(var)\n",
    "var_print.columns = ['']*var_print.shape[1]\n",
    "print(var_print.to_string(index=False))\n",
    "print()\n",
    "\n",
    "print(\"std\")\n",
    "std_print = pd.DataFrame(std)\n",
    "std_print.columns = ['']*std_print.shape[1]\n",
    "print(std_print.to_string(index=False))\n",
    "print()\n",
    "\n",
    "print(\"sigma^2\")\n",
    "print()\n",
    "print(sig2)"
   ]
  },
  {
   "cell_type": "code",
   "execution_count": 12,
   "metadata": {},
   "outputs": [
    {
     "name": "stderr",
     "output_type": "stream",
     "text": [
      "/home/kevinfkuhl/.local/lib/python3.8/site-packages/seaborn/distributions.py:2551: FutureWarning: `distplot` is a deprecated function and will be removed in a future version. Please adapt your code to use either `displot` (a figure-level function with similar flexibility) or `histplot` (an axes-level function for histograms).\n",
      "  warnings.warn(msg, FutureWarning)\n",
      "/home/kevinfkuhl/.local/lib/python3.8/site-packages/seaborn/distributions.py:2551: FutureWarning: `distplot` is a deprecated function and will be removed in a future version. Please adapt your code to use either `displot` (a figure-level function with similar flexibility) or `histplot` (an axes-level function for histograms).\n",
      "  warnings.warn(msg, FutureWarning)\n"
     ]
    },
    {
     "data": {
      "image/png": "[encoded data removed]",
      "text/plain": [
       "<Figure size 432x288 with 1 Axes>"
      ]
     },
     "metadata": {
      "needs_background": "light"
     },
     "output_type": "display_data"
    },
    {
     "name": "stdout",
     "output_type": "stream",
     "text": [
      "The mean of the residuals is\n",
      "3.335234476967386e-14\n"
     ]
    }
   ],
   "source": [
    "gaussian_residuals = stats.norm.rvs(np.mean(u), np.std(u), size=428)\n",
    "sns.distplot(u, label='Histogram for the residuals', bins=30)\n",
    "sns.distplot(gaussian_residuals, label='Correspondent Gaussian', bins=30, color=\"orange\")\n",
    "plt.title(\"Histogram of the residuals\")\n",
    "plt.legend()\n",
    "plt.show()\n",
    "\n",
    "print(\"The mean of the residuals is\")\n",
    "print(u.mean())"
   ]
  },
  {
   "cell_type": "markdown",
   "metadata": {},
   "source": [
    "The residuous have some components that make it not very well symmetric around 0. Also, that components make the variance to become considerably high."
   ]
  },
  {
   "cell_type": "markdown",
   "metadata": {},
   "source": [
    "### 8"
   ]
  },
  {
   "cell_type": "code",
   "execution_count": 13,
   "metadata": {},
   "outputs": [
    {
     "name": "stdout",
     "output_type": "stream",
     "text": [
      "beta\n",
      "         \n",
      "-0.398975\n",
      " 0.035268\n",
      " 0.102248\n",
      " 0.015488\n",
      " 0.004883\n",
      "-0.045303\n",
      "-0.011704\n",
      "\n",
      "var\n",
      "                                                                     \n",
      " 0.042870 -0.001143 -0.002589 -0.000362 -0.000041  0.000242 -0.002124\n",
      "-0.001143  0.004925 -0.000088 -0.000008 -0.000051 -0.000091  0.000142\n",
      "-0.002589 -0.000088  0.000228 -0.000001 -0.000014 -0.000197  0.000040\n",
      "-0.000362 -0.000008 -0.000001  0.000020  0.000003  0.000066  0.000045\n",
      "-0.000041 -0.000051 -0.000014  0.000003  0.000011  0.000029 -0.000002\n",
      " 0.000242 -0.000091 -0.000197  0.000066  0.000029  0.007277 -0.000083\n",
      "-0.002124  0.000142  0.000040  0.000045 -0.000002 -0.000083  0.000726\n",
      "\n",
      "std\n",
      "         \n",
      " 0.207050\n",
      " 0.070178\n",
      " 0.015102\n",
      " 0.004487\n",
      " 0.003331\n",
      " 0.085308\n",
      " 0.026944\n",
      "\n",
      "sigma^2\n",
      "\n",
      "0.44795719760721947\n"
     ]
    }
   ],
   "source": [
    "# Now considering the log of the wage\n",
    "y = data[\"lwage\"]\n",
    "s = np.shape(data[\"wage\"])\n",
    "const = np.ones(s)\n",
    "city = data[\"city\"]\n",
    "educ = data[\"educ\"]\n",
    "exper = data[\"exper\"]\n",
    "nwifeinc = data[\"nwifeinc\"]\n",
    "kidslt6 = data[\"kidslt6\"]\n",
    "kidsgt6 = data[\"kidsgt6\"]\n",
    "X = np.column_stack((const,city,educ,exper,nwifeinc,kidslt6,kidsgt6))\n",
    "\n",
    "# Calculating the coefficients\n",
    "beta = np.linalg.inv(X.T @ X)@X.T@y\n",
    "\n",
    "'''\n",
    "Now, calculating the residuous, the variance-covariance matrix and\n",
    "the standard deviation for each variable\n",
    "'''\n",
    "u=y-X@beta\n",
    "n,k=np.shape(X)\n",
    "sig2=u.T@u/(n-k)\n",
    "var=sig2*np.linalg.inv(X.T @ X)\n",
    "std=np.sqrt(np.diag(var))\n",
    "\n",
    "# Printing the calculated variables\n",
    "\n",
    "print(\"beta\")\n",
    "beta_print = pd.DataFrame(beta)\n",
    "beta_print.columns = ['']*beta_print.shape[1]\n",
    "print(beta_print.to_string(index=False))\n",
    "print()\n",
    "\n",
    "print(\"var\")\n",
    "var_print = pd.DataFrame(var)\n",
    "var_print.columns = ['']*var_print.shape[1]\n",
    "print(var_print.to_string(index=False))\n",
    "print()\n",
    "\n",
    "print(\"std\")\n",
    "std_print = pd.DataFrame(std)\n",
    "std_print.columns = ['']*std_print.shape[1]\n",
    "print(std_print.to_string(index=False))\n",
    "print()\n",
    "\n",
    "print(\"sigma^2\")\n",
    "print()\n",
    "print(sig2)"
   ]
  },
  {
   "cell_type": "code",
   "execution_count": 14,
   "metadata": {},
   "outputs": [
    {
     "name": "stderr",
     "output_type": "stream",
     "text": [
      "/home/kevinfkuhl/.local/lib/python3.8/site-packages/seaborn/distributions.py:2551: FutureWarning: `distplot` is a deprecated function and will be removed in a future version. Please adapt your code to use either `displot` (a figure-level function with similar flexibility) or `histplot` (an axes-level function for histograms).\n",
      "  warnings.warn(msg, FutureWarning)\n",
      "/home/kevinfkuhl/.local/lib/python3.8/site-packages/seaborn/distributions.py:2551: FutureWarning: `distplot` is a deprecated function and will be removed in a future version. Please adapt your code to use either `displot` (a figure-level function with similar flexibility) or `histplot` (an axes-level function for histograms).\n",
      "  warnings.warn(msg, FutureWarning)\n"
     ]
    },
    {
     "data": {
      "image/png": "[encoded data removed]",
      "text/plain": [
       "<Figure size 432x288 with 1 Axes>"
      ]
     },
     "metadata": {
      "needs_background": "light"
     },
     "output_type": "display_data"
    },
    {
     "name": "stdout",
     "output_type": "stream",
     "text": [
      "The mean of the residuals is\n",
      "9.520940629869566e-15\n"
     ]
    }
   ],
   "source": [
    "gaussian_residuals = stats.norm.rvs(np.mean(u), np.std(u), size=428)\n",
    "sns.distplot(u, label='Histogram for the residuals', bins=30)\n",
    "sns.distplot(gaussian_residuals, label='Correspondent Gaussian', bins=30, color=\"orange\")\n",
    "plt.title(\"Histogram of the residuals\")\n",
    "plt.legend()\n",
    "plt.show()\n",
    "\n",
    "print(\"The mean of the residuals is\")\n",
    "print(u.mean())"
   ]
  },
  {
   "cell_type": "markdown",
   "metadata": {},
   "source": [
    "The residuous are well distributed around zero. The variance of the residuous have significantly decreased. Also the mean of the residuous, compared to last case, is more close to zero."
   ]
  },
  {
   "cell_type": "markdown",
   "metadata": {},
   "source": [
    "### 9"
   ]
  },
  {
   "cell_type": "code",
   "execution_count": 15,
   "metadata": {},
   "outputs": [
    {
     "name": "stdout",
     "output_type": "stream",
     "text": [
      "                            OLS Regression Results                            \n",
      "==============================================================================\n",
      "Dep. Variable:                  lwage   R-squared:                       0.156\n",
      "Model:                            OLS   Adj. R-squared:                  0.144\n",
      "Method:                 Least Squares   F-statistic:                     12.92\n",
      "Date:                Sun, 22 Nov 2020   Prob (F-statistic):           2.00e-13\n",
      "Time:                        14:22:37   Log-Likelihood:                -431.92\n",
      "No. Observations:                 428   AIC:                             877.8\n",
      "Df Residuals:                     421   BIC:                             906.3\n",
      "Df Model:                           6                                         \n",
      "Covariance Type:            nonrobust                                         \n",
      "==============================================================================\n",
      "                 coef    std err          t      P>|t|      [0.025      0.975]\n",
      "------------------------------------------------------------------------------\n",
      "const         -0.3990      0.207     -1.927      0.055      -0.806       0.008\n",
      "x1             0.0353      0.070      0.503      0.616      -0.103       0.173\n",
      "x2             0.1022      0.015      6.771      0.000       0.073       0.132\n",
      "x3             0.0155      0.004      3.452      0.001       0.007       0.024\n",
      "x4             0.0049      0.003      1.466      0.143      -0.002       0.011\n",
      "x5            -0.0453      0.085     -0.531      0.596      -0.213       0.122\n",
      "x6            -0.0117      0.027     -0.434      0.664      -0.065       0.041\n",
      "==============================================================================\n",
      "Omnibus:                       79.542   Durbin-Watson:                   1.979\n",
      "Prob(Omnibus):                  0.000   Jarque-Bera (JB):              287.193\n",
      "Skew:                          -0.795   Prob(JB):                     4.33e-63\n",
      "Kurtosis:                       6.685   Cond. No.                         178.\n",
      "==============================================================================\n",
      "\n",
      "Notes:\n",
      "[1] Standard Errors assume that the covariance matrix of the errors is correctly specified.\n"
     ]
    }
   ],
   "source": [
    "model = sm.OLS(y,X)\n",
    "results = model.fit()\n",
    "'''\n",
    "const\n",
    "x1 -> city\n",
    "x2 -> educ\n",
    "x3 -> exper\n",
    "x4 -> nwifeinc\n",
    "x5 -> kidslt6\n",
    "x6 -> kidsgt6\n",
    "'''\n",
    "print(results.summary())"
   ]
  },
  {
   "cell_type": "markdown",
   "metadata": {},
   "source": [
    "Observing the above results, we can conlude the results of the hypothesis testing looking at the p-value (P>|t|). This is already the two-tailed test p-value. For the t-student test for variable nwifeinc, two-tailed test p-value is 0.143.\n",
    "\n",
    "- For alpha = 1%, we consider that we must have a p-value < 0.01 to reject the null hypothesis (coefficient of nwifeinc is zero). We do not reject it.\n",
    "\n",
    "- For alpha = 5%, we consider that we must have a p-value < 0.05 to reject the null hypothesis (coefficient of nwifeinc is zero). We do not reject it.\n",
    "\n",
    "- For alpha = 10%, we consider that we must have a p-value < 0.10 to reject the null hypothesis (coefficient of nwifeinc is zero). We do not reject it.\n",
    "\n",
    "Therefore, we can conclude that the variable nwifeinc is not significant with significance level of 1%."
   ]
  },
  {
   "cell_type": "markdown",
   "metadata": {},
   "source": [
    "### 10"
   ]
  },
  {
   "cell_type": "code",
   "execution_count": 16,
   "metadata": {},
   "outputs": [
    {
     "name": "stdout",
     "output_type": "stream",
     "text": [
      "T-test results\n",
      "[-1.97524409  0.36005271  6.10838827  1.22305946 -1.53638899 -0.64827498\n",
      " -0.80549245]\n",
      "\n",
      "In specific for the nwifeinc variable's coefficient\n",
      "-1.5363889855562578\n",
      "\n",
      "T-test p-value for the nwifeinc variable's coefficient\n",
      "0.12519597367688684\n"
     ]
    }
   ],
   "source": [
    "# First, let's redo the calculations for the t-statistics\n",
    "# Now, we are going to do it manually, instead of using the Statsmodels package\n",
    "t_test_result = (beta-0.01)/std\n",
    "\n",
    "# Displaying the results\n",
    "print(\"T-test results\")\n",
    "print(t_test_result)\n",
    "print()\n",
    "print(\"In specific for the nwifeinc variable's coefficient\")\n",
    "print(t_test_result[4])\n",
    "print()\n",
    "print(\"T-test p-value for the nwifeinc variable's coefficient\")\n",
    "print(2*(1 - t.sf(t_test_result[4],n-k-1)))"
   ]
  },
  {
   "cell_type": "markdown",
   "metadata": {},
   "source": [
    "Observing the above results, we can conlude the results of the hypothesis testing looking at the p-value (already considering a two-tailed test). For the t-student test for variable nwifeinc, two-tailed test p-value is 0.51712.\n",
    "\n",
    "- For alpha = 5%, we consider that we must have a p-value < 0.05 to reject the null hypothesis (coefficient of nwifeinc is 0.01). We do not reject it.\n",
    "\n",
    "Therefore, we can conclude that the coefficient of the variable nwifeinc is equal to 0.01 with significance level of 5%."
   ]
  },
  {
   "cell_type": "markdown",
   "metadata": {},
   "source": [
    "### 11\n",
    "\n",
    "A important point to remember is that we cannot use individual student tests. We must use Fisher test to compare SSR between the unconstrained and constrained model."
   ]
  },
  {
   "cell_type": "code",
   "execution_count": 17,
   "metadata": {},
   "outputs": [
    {
     "name": "stdout",
     "output_type": "stream",
     "text": [
      "SSR0 is equal to: 188.58998019263944\n",
      "\n",
      "SSR1 is equal to: 189.78788085217226\n",
      "The Fisher test result: 1.3370704454928417\n",
      "The p-value: 0.2637267136252716\n"
     ]
    }
   ],
   "source": [
    "# We can calculate the SSR0, which corresponds to the sum of squared residuals for the unconstrained model\n",
    "u = results.resid\n",
    "SSR0 = u.T@u\n",
    "print(\"SSR0 is equal to: {}\".format(SSR0))\n",
    "\n",
    "# Let's rewrite the model (creating the constrained model)\n",
    "X_c = np.column_stack((const,educ,exper,kidslt6,kidsgt6))\n",
    "y_c = y - 0.01*nwifeinc - 0.05*city\n",
    "model = sm.OLS(y_c, X_c)\n",
    "results_c = model.fit()\n",
    "u_c = results_c.resid\n",
    "SSR1 = u_c.T@u_c\n",
    "\n",
    "q = 2 # Number of constraints\n",
    "n,k = X.shape\n",
    "F = ((SSR1 - SSR0)/q)/(SSR0/(n-k))\n",
    "\n",
    "pvalue = f.sf(F,q,n-k)\n",
    "\n",
    "print(\"\\nSSR1 is equal to: {}\".format(SSR1))\n",
    "print(\"The Fisher test result: {}\".format(F))\n",
    "print(\"The p-value: {}\".format(pvalue))"
   ]
  },
  {
   "cell_type": "markdown",
   "metadata": {},
   "source": [
    "The Fisher statistic is calculated by\n",
    "\n",
    "$$F = \\frac{\\frac{SSR_{constrained} - SSR_{unconstrained}}{q}}{\\frac{SSR_{unconstrained}}{(n-k-1)}}$$\n",
    "\n",
    "- For alpha = 5%, we consider that we must have a p-value < 0.05 to reject the null hypothesis (coefficient of nwifeinc is 0.01 and coefficient of city is 0.05). We do not reject it.\n",
    "\n",
    "Therefore, we can conclude that the coefficient of the variable nwifeinc is equal to 0.01 and the coefficient of the variable city is equal to 0.05  with significance level of 5%."
   ]
  },
  {
   "cell_type": "markdown",
   "metadata": {},
   "source": [
    "### 12"
   ]
  },
  {
   "cell_type": "markdown",
   "metadata": {},
   "source": [
    "Let's consider the regression of $log(wage)$ considering as explanatory variables the number of years of education and the number of years of experience."
   ]
  },
  {
   "cell_type": "code",
   "execution_count": 18,
   "metadata": {},
   "outputs": [
    {
     "name": "stdout",
     "output_type": "stream",
     "text": [
      "                            OLS Regression Results                            \n",
      "==============================================================================\n",
      "Dep. Variable:                  lwage   R-squared:                       0.148\n",
      "Model:                            OLS   Adj. R-squared:                  0.144\n",
      "Method:                 Least Squares   F-statistic:                     37.02\n",
      "Date:                Sun, 22 Nov 2020   Prob (F-statistic):           1.51e-15\n",
      "Time:                        14:22:37   Log-Likelihood:                -433.74\n",
      "No. Observations:                 428   AIC:                             873.5\n",
      "Df Residuals:                     425   BIC:                             885.6\n",
      "Df Model:                           2                                         \n",
      "Covariance Type:            nonrobust                                         \n",
      "==============================================================================\n",
      "                 coef    std err          t      P>|t|      [0.025      0.975]\n",
      "------------------------------------------------------------------------------\n",
      "const         -0.4002      0.190     -2.102      0.036      -0.774      -0.026\n",
      "x1             0.1095      0.014      7.728      0.000       0.082       0.137\n",
      "x2             0.0157      0.004      3.900      0.000       0.008       0.024\n",
      "==============================================================================\n",
      "Omnibus:                       81.122   Durbin-Watson:                   1.981\n",
      "Prob(Omnibus):                  0.000   Jarque-Bera (JB):              296.773\n",
      "Skew:                          -0.807   Prob(JB):                     3.60e-65\n",
      "Kurtosis:                       6.746   Cond. No.                         113.\n",
      "==============================================================================\n",
      "\n",
      "Notes:\n",
      "[1] Standard Errors assume that the covariance matrix of the errors is correctly specified.\n"
     ]
    }
   ],
   "source": [
    "y = data[\"lwage\"]\n",
    "\n",
    "s = np.shape(data[\"wage\"])\n",
    "const = np.ones(s)\n",
    "educ = data[\"educ\"]\n",
    "exper = data[\"exper\"]\n",
    "\n",
    "X = np.column_stack((const,educ,exper))\n",
    "\n",
    "\n",
    "model = sm.OLS(y, X) \n",
    "results = model.fit()\n",
    "\n",
    "u = results.resid\n",
    "parameters = results.params\n",
    "'''\n",
    "const\n",
    "x1 -> educ\n",
    "x2 -> exper\n",
    "'''\n",
    "print(results.summary())"
   ]
  },
  {
   "cell_type": "markdown",
   "metadata": {},
   "source": [
    "We can plot the regression (1 dependent variable and 2 explanatory variables) in a 3 dimensional plot, where the z-axis is represented by the dependent variable."
   ]
  },
  {
   "cell_type": "code",
   "execution_count": 19,
   "metadata": {},
   "outputs": [
    {
     "data": {
      "image/png": "[encoded data removed]",
      "text/plain": [
       "<Figure size 1080x720 with 1 Axes>"
      ]
     },
     "metadata": {
      "needs_background": "light"
     },
     "output_type": "display_data"
    }
   ],
   "source": [
    "x1 = data[\"educ\"]\n",
    "x2 = data[\"exper\"]\n",
    "\n",
    "X1, X2 = np.meshgrid(x1, x2)\n",
    "Z = parameters.x1*X1 + parameters.x2*X2\n",
    "\n",
    "fig = plt.figure(figsize=(15,10))\n",
    "ax = plt.axes(projection='3d')\n",
    "ax.contour3D(X1, X2, Z, 50, cmap='viridis')\n",
    "ax.set_xlabel('Education')\n",
    "ax.set_ylabel('Experience')\n",
    "ax.set_zlabel('Log(wage)');"
   ]
  },
  {
   "cell_type": "markdown",
   "metadata": {},
   "source": [
    "Also, it worths noting that as we are using the logarithm of the wage we can write that for a unit increase in educ it is expected a $100\\cdot\\beta_2$% change in the wage. For the exper, we can write that for a unit increase in exper it is expected a $100\\cdot\\beta_3$% change in the wage."
   ]
  },
  {
   "cell_type": "markdown",
   "metadata": {},
   "source": [
    "### 13"
   ]
  },
  {
   "cell_type": "markdown",
   "metadata": {},
   "source": [
    "Initial model\n",
    "\n",
    "$$y = log(wage) = c + \\beta_1city + \\beta_2educ + \\beta_3exper + \\beta_4nwifeinc + \\beta_5kidslt6 + \\beta_6kidsgt6$$\n",
    "\n",
    "Defining $\\theta = \\beta_{6} - \\beta_{5}$\n",
    "\n",
    "We can write\n",
    "\n",
    "$\\theta +  \\beta_{5} = \\beta_{6}$\n",
    "\n",
    "We get the model\n",
    "\n",
    "$$log(wage) = c + \\beta_1city + \\beta_2educ + \\beta_3exper + \\beta_4nwifeinc + \\beta_5kidslt6 + (\\theta +  \\beta_{5})kidsgt6$$\n",
    "\n",
    "Which is, finally\n",
    "\n",
    "$$log(wage) = c + \\beta_1city + \\beta_2educ + \\beta_3exper + \\beta_4nwifeinc + \\beta_5(kidslt6 + kidsgt6) + \\theta kidsgt6$$\n",
    "\n",
    "Now, we test it for the significance of $\\theta$, which is the same of testing H0:$\\theta == 0$"
   ]
  },
  {
   "cell_type": "code",
   "execution_count": 20,
   "metadata": {},
   "outputs": [
    {
     "name": "stdout",
     "output_type": "stream",
     "text": [
      "                            OLS Regression Results                            \n",
      "==============================================================================\n",
      "Dep. Variable:                  lwage   R-squared:                       0.156\n",
      "Model:                            OLS   Adj. R-squared:                  0.144\n",
      "Method:                 Least Squares   F-statistic:                     12.92\n",
      "Date:                Sun, 22 Nov 2020   Prob (F-statistic):           2.00e-13\n",
      "Time:                        14:22:57   Log-Likelihood:                -431.92\n",
      "No. Observations:                 428   AIC:                             877.8\n",
      "Df Residuals:                     421   BIC:                             906.3\n",
      "Df Model:                           6                                         \n",
      "Covariance Type:            nonrobust                                         \n",
      "==============================================================================\n",
      "                 coef    std err          t      P>|t|      [0.025      0.975]\n",
      "------------------------------------------------------------------------------\n",
      "const         -0.3990      0.207     -1.927      0.055      -0.806       0.008\n",
      "x1             0.0353      0.070      0.503      0.616      -0.103       0.173\n",
      "x2             0.1022      0.015      6.771      0.000       0.073       0.132\n",
      "x3             0.0155      0.004      3.452      0.001       0.007       0.024\n",
      "x4             0.0049      0.003      1.466      0.143      -0.002       0.011\n",
      "x5            -0.0453      0.085     -0.531      0.596      -0.213       0.122\n",
      "x6             0.0336      0.090      0.372      0.710      -0.144       0.211\n",
      "==============================================================================\n",
      "Omnibus:                       79.542   Durbin-Watson:                   1.979\n",
      "Prob(Omnibus):                  0.000   Jarque-Bera (JB):              287.193\n",
      "Skew:                          -0.795   Prob(JB):                     4.33e-63\n",
      "Kurtosis:                       6.685   Cond. No.                         178.\n",
      "==============================================================================\n",
      "\n",
      "Notes:\n",
      "[1] Standard Errors assume that the covariance matrix of the errors is correctly specified.\n"
     ]
    }
   ],
   "source": [
    "# Reconstructing the model\n",
    "y_2 = data[\"lwage\"]\n",
    "s=np.shape(data[\"wage\"])\n",
    "\n",
    "X_2=np.column_stack((const,city,educ,exper,nwifeinc,kidslt6 + kidsgt6, kidsgt6))\n",
    "\n",
    "# Building Stats Model\n",
    "model = sm.OLS(y_2,X_2)\n",
    "\n",
    "'''\n",
    "const\n",
    "x1 -> city\n",
    "x2 -> educ\n",
    "x3 -> exper\n",
    "x4 -> nwifeinc\n",
    "x5 -> kidslt6 + kidsgt6\n",
    "x6 -> kidsgt6 (theta)\n",
    "'''\n",
    "\n",
    "# Presenting the results\n",
    "results = model.fit()\n",
    "print(results.summary())"
   ]
  },
  {
   "cell_type": "markdown",
   "metadata": {},
   "source": [
    "Observing the above results, we can conlude the result of the hypothesis testing looking at the p-value (P>|t|). This is already the two-tailed test p-value. The t-student test p-value for the coefficient $\\theta$ is 0.710.\n",
    "\n",
    "- For alpha = 5%, we consider that we must have a p-value < 0.05 to reject the null hypothesis. We do not reject it.\n",
    "\n",
    "Therefore, we can conclude that $\\theta = 0$ with significance level of 5%. This means that the coefficients associated to kidsgt6 and kidstlt6 are equal, with significance level of 5%.\n",
    "\n",
    "Intepreting this, we get that the effect of children in the wage of female is the same, disregarding the fact the children are young (less than 6 years) or old (6 < age < 18)."
   ]
  },
  {
   "cell_type": "markdown",
   "metadata": {},
   "source": [
    "### 14\n",
    "\n",
    "In this case we make H0: The data has homoscedasticity.\n",
    "\n",
    "H1: The data has heteroscedasticity.\n",
    "\n",
    "We propose the test that suppose a linear relation between the error term (residuals) and the used variables.\n",
    "\n",
    "So, we suppose\n",
    "\n",
    "$$u^2 = \\delta_0 + \\delta_1x_1 + ... \\delta_kx_k + v$$\n",
    "\n",
    "We test, therefore\n",
    "\n",
    "$$H0: \\delta_1 = \\delta_2 = ... = \\delta_k = 0$$"
   ]
  },
  {
   "cell_type": "code",
   "execution_count": 21,
   "metadata": {},
   "outputs": [
    {
     "name": "stdout",
     "output_type": "stream",
     "text": [
      "                            OLS Regression Results                            \n",
      "==============================================================================\n",
      "Dep. Variable:                      y   R-squared:                       0.028\n",
      "Model:                            OLS   Adj. R-squared:                  0.014\n",
      "Method:                 Least Squares   F-statistic:                     2.009\n",
      "Date:                Sun, 22 Nov 2020   Prob (F-statistic):             0.0633\n",
      "Time:                        14:22:57   Log-Likelihood:                -622.39\n",
      "No. Observations:                 428   AIC:                             1259.\n",
      "Df Residuals:                     421   BIC:                             1287.\n",
      "Df Model:                           6                                         \n",
      "Covariance Type:            nonrobust                                         \n",
      "==============================================================================\n",
      "                 coef    std err          t      P>|t|      [0.025      0.975]\n",
      "------------------------------------------------------------------------------\n",
      "const          0.4519      0.323      1.398      0.163      -0.183       1.087\n",
      "x1             0.0967      0.110      0.883      0.378      -0.119       0.312\n",
      "x2             0.0126      0.024      0.536      0.593      -0.034       0.059\n",
      "x3            -0.0170      0.007     -2.423      0.016      -0.031      -0.003\n",
      "x4            -0.0036      0.005     -0.683      0.495      -0.014       0.007\n",
      "x5             0.1279      0.133      0.960      0.337      -0.134       0.390\n",
      "x6             0.0278      0.042      0.661      0.509      -0.055       0.110\n",
      "==============================================================================\n",
      "Omnibus:                      454.545   Durbin-Watson:                   1.642\n",
      "Prob(Omnibus):                  0.000   Jarque-Bera (JB):            16789.400\n",
      "Skew:                           4.875   Prob(JB):                         0.00\n",
      "Kurtosis:                      32.093   Cond. No.                         178.\n",
      "==============================================================================\n",
      "\n",
      "Notes:\n",
      "[1] Standard Errors assume that the covariance matrix of the errors is correctly specified.\n"
     ]
    }
   ],
   "source": [
    "# Rewriting the model from question 7\n",
    "y = data[\"lwage\"]\n",
    "s = np.shape(data[\"wage\"])\n",
    "const = np.ones(s)\n",
    "city = data[\"city\"]\n",
    "educ = data[\"educ\"]\n",
    "exper = data[\"exper\"]\n",
    "nwifeinc = data[\"nwifeinc\"]\n",
    "kidslt6 = data[\"kidslt6\"]\n",
    "kidsgt6 = data[\"kidsgt6\"]\n",
    "X = np.column_stack((const,city,educ,exper,nwifeinc,kidslt6,kidsgt6))\n",
    "\n",
    "\n",
    "model = sm.OLS(y,X)\n",
    "results = model.fit()\n",
    "\n",
    "u = results.resid\n",
    "u2 = u**2\n",
    "y = u2\n",
    "model = sm.OLS(y,X)\n",
    "results = model.fit()\n",
    "print(results.summary())"
   ]
  },
  {
   "cell_type": "markdown",
   "metadata": {},
   "source": [
    "As explained in the project's instructions, all tests must be done considering a 5\\% significance level. We obtained a p-value of 0.148 for the Linearity test for heterocedascity.\n",
    "\n",
    "Therefore, within the required significance, we cannot reject $H0$, meaning that we can not conclude that there is heterocedascity in the data (considering the model of question 7)."
   ]
  },
  {
   "cell_type": "markdown",
   "metadata": {},
   "source": [
    "### 15"
   ]
  },
  {
   "cell_type": "markdown",
   "metadata": {},
   "source": [
    "To test the change of structure on the regression made on question 8, we propose the use of the Chow test.\n",
    "\n",
    "The test statistic is calculated as follow (for two groups)\n",
    "\n",
    "$$F_{Chow} = \\frac{SSR_0 - (SSR_1 + SSR_2)}{SSR_1 + SSR_2} \\times \\frac{n_1 + n_2 - 2k}{k}$$\n",
    "\n",
    "With n being the number of observations in a given group, and k is the number of parameters we are estimating.\n",
    "\n",
    "- First, with the following groups\n",
    "    - Entire set\n",
    "    - Women with more than 43 years old\n",
    "    - Women with less than 43 years old\n",
    "\n",
    "For the first group"
   ]
  },
  {
   "cell_type": "code",
   "execution_count": 24,
   "metadata": {},
   "outputs": [],
   "source": [
    "y = data[\"lwage\"]\n",
    "s = np.shape(data[\"wage\"])\n",
    "const = np.ones(s)\n",
    "city = data[\"city\"]\n",
    "educ = data[\"educ\"]\n",
    "exper = data[\"exper\"]\n",
    "nwifeinc = data[\"nwifeinc\"]\n",
    "kidslt6 = data[\"kidslt6\"]\n",
    "kidsgt6 = data[\"kidsgt6\"]\n",
    "X = np.column_stack((const,city,educ,exper,nwifeinc,kidslt6,kidsgt6))\n",
    "\n",
    "n,k = X.shape\n",
    "\n",
    "model = sm.OLS(y, X) \n",
    "results = model.fit()\n",
    "\n",
    "u = results.resid\n",
    "SSR0 = u.T @ u"
   ]
  },
  {
   "cell_type": "markdown",
   "metadata": {},
   "source": [
    "For the second group"
   ]
  },
  {
   "cell_type": "code",
   "execution_count": 25,
   "metadata": {},
   "outputs": [],
   "source": [
    "data1 = data[data['age'] >= 43]\n",
    "\n",
    "y1 = data1[\"lwage\"]\n",
    "\n",
    "s = np.shape(data1[\"wage\"])\n",
    "const = np.ones(s)\n",
    "city = data1[\"city\"]\n",
    "educ = data1[\"educ\"]\n",
    "exper = data1[\"exper\"]\n",
    "nwifeinc = data1[\"nwifeinc\"]\n",
    "kidslt6 = data1[\"kidslt6\"]\n",
    "kidsgt6 = data1[\"kidsgt6\"]\n",
    "\n",
    "X1 = np.column_stack((const,city,educ,exper,nwifeinc,kidslt6,kidsgt6))\n",
    "\n",
    "n1 = X1.shape[0]\n",
    "\n",
    "model = sm.OLS(y1, X1) \n",
    "results = model.fit()\n",
    "\n",
    "u = results.resid\n",
    "SSR1 = u.T @ u"
   ]
  },
  {
   "cell_type": "markdown",
   "metadata": {},
   "source": [
    "Finally, for the third group"
   ]
  },
  {
   "cell_type": "code",
   "execution_count": 26,
   "metadata": {},
   "outputs": [],
   "source": [
    "data2 = data[data['age'] < 43]\n",
    "\n",
    "y2 = data2[\"lwage\"]\n",
    "\n",
    "s = np.shape(data2[\"wage\"])\n",
    "const = np.ones(s)\n",
    "city = data2[\"city\"]\n",
    "educ = data2[\"educ\"]\n",
    "exper = data2[\"exper\"]\n",
    "nwifeinc = data2[\"nwifeinc\"]\n",
    "kidslt6 = data2[\"kidslt6\"]\n",
    "kidsgt6 = data2[\"kidsgt6\"]\n",
    "\n",
    "X2 = np.column_stack((const,city,educ,exper,nwifeinc,kidslt6,kidsgt6))\n",
    "\n",
    "n2 = X2.shape[0]\n",
    "\n",
    "model = sm.OLS(y2, X2) \n",
    "results = model.fit()\n",
    "\n",
    "u = results.resid\n",
    "SSR2 = u.T @ u"
   ]
  },
  {
   "cell_type": "code",
   "execution_count": 27,
   "metadata": {},
   "outputs": [
    {
     "name": "stdout",
     "output_type": "stream",
     "text": [
      "SSR0: 188.58998019263944\n",
      "SSR1: 80.40365115321053\n",
      "SSR2: 104.48165074506036\n",
      "n: 428\n",
      "n1: 211\n",
      "n2: 217\n",
      "k: 7\n",
      "\n",
      "Chow Test p-value: 0.3099734135726031\n",
      "Fisher: 1.1850874941083283\n"
     ]
    }
   ],
   "source": [
    "F = ((SSR0 - (SSR1 + SSR2)) / (SSR1 + SSR2)) * ((n1 + n2 - 2*k) / k)\n",
    "\n",
    "p_value = f.sf(F, X.shape[0] - X.shape[1] - (X1.shape[0] - X1.shape[1] + X2.shape[0] - X2.shape[1]), n-2*k)\n",
    "\n",
    "print(\"SSR0: {}\".format(SSR0))\n",
    "print(\"SSR1: {}\".format(SSR1))\n",
    "print(\"SSR2: {}\".format(SSR2))\n",
    "print(\"n: {}\".format(n))\n",
    "print(\"n1: {}\".format(n1))\n",
    "print(\"n2: {}\".format(n2))\n",
    "print(\"k: {}\".format(k))\n",
    "print()\n",
    "print('Chow Test p-value: {}'.format(p_value))\n",
    "print('Fisher: {}'.format(F))\n"
   ]
  },
  {
   "cell_type": "markdown",
   "metadata": {},
   "source": [
    "For the second part we have more groups\n",
    "\n",
    "- Entire set\n",
    "- Women with less than 30 years old (<)\n",
    "- Women with more than 30 years old and less than 43 years old(>= and <)\n",
    "- Women with more than 43 years old (>=)\n"
   ]
  },
  {
   "cell_type": "code",
   "execution_count": 28,
   "metadata": {},
   "outputs": [],
   "source": [
    "# Second group\n",
    "data1 = data[data['age'] <= 30]\n",
    "\n",
    "y1 = data1[\"lwage\"]\n",
    "\n",
    "s = np.shape(data1[\"wage\"])\n",
    "const = np.ones(s)\n",
    "city = data1[\"city\"]\n",
    "educ = data1[\"educ\"]\n",
    "exper = data1[\"exper\"]\n",
    "nwifeinc = data1[\"nwifeinc\"]\n",
    "kidslt6 = data1[\"kidslt6\"]\n",
    "kidsgt6 = data1[\"kidsgt6\"]\n",
    "\n",
    "X1 = np.column_stack((const,city,educ,exper,nwifeinc,kidslt6,kidsgt6))\n",
    "\n",
    "n1 = X1.shape[0]\n",
    "\n",
    "model = sm.OLS(y1, X1) \n",
    "results = model.fit()\n",
    "\n",
    "u = results.resid\n",
    "SSR1 = u.T @ u"
   ]
  },
  {
   "cell_type": "code",
   "execution_count": 29,
   "metadata": {},
   "outputs": [],
   "source": [
    "# Third group\n",
    "data2 = data[data['age'] > 30]\n",
    "data2 = data2[data2[\"age\"] < 43]\n",
    "\n",
    "y2 = data2[\"lwage\"]\n",
    "\n",
    "s = np.shape(data2[\"wage\"])\n",
    "const = np.ones(s)\n",
    "city = data2[\"city\"]\n",
    "educ = data2[\"educ\"]\n",
    "exper = data2[\"exper\"]\n",
    "nwifeinc = data2[\"nwifeinc\"]\n",
    "kidslt6 = data2[\"kidslt6\"]\n",
    "kidsgt6 = data2[\"kidsgt6\"]\n",
    "\n",
    "X2 = np.column_stack((const,city,educ,exper,nwifeinc,kidslt6,kidsgt6))\n",
    "\n",
    "n2 = X2.shape[0]\n",
    "\n",
    "model = sm.OLS(y2, X2) \n",
    "results = model.fit()\n",
    "\n",
    "u = results.resid\n",
    "SSR2 = u.T @ u"
   ]
  },
  {
   "cell_type": "code",
   "execution_count": 30,
   "metadata": {},
   "outputs": [],
   "source": [
    "# Fourth group\n",
    "data3 = data[data[\"age\"] >= 43]\n",
    "\n",
    "y3 = data3[\"lwage\"]\n",
    "\n",
    "s = np.shape(data3[\"wage\"])\n",
    "const = np.ones(s)\n",
    "city = data3[\"city\"]\n",
    "educ = data3[\"educ\"]\n",
    "exper = data3[\"exper\"]\n",
    "nwifeinc = data3[\"nwifeinc\"]\n",
    "kidslt6 = data3[\"kidslt6\"]\n",
    "kidsgt6 = data3[\"kidsgt6\"]\n",
    "\n",
    "X3 = np.column_stack((const,city,educ,exper,nwifeinc,kidslt6,kidsgt6))\n",
    "\n",
    "n3 = X3.shape[0]\n",
    "\n",
    "model = sm.OLS(y3, X3) \n",
    "results = model.fit()\n",
    "\n",
    "u = results.resid\n",
    "SSR3 = u.T @ u"
   ]
  },
  {
   "cell_type": "code",
   "execution_count": 31,
   "metadata": {},
   "outputs": [
    {
     "name": "stdout",
     "output_type": "stream",
     "text": [
      "SSR0: 188.58998019263944\n",
      "SSR1: 3.387215073161979\n",
      "SSR2: 100.03565630367271\n",
      "SSR3: 80.40365115321053\n",
      "n: 428\n",
      "n1: 19\n",
      "n2: 198\n",
      "n3: 211\n",
      "k: 7\n",
      "\n",
      "Chow Test p-value: 0.0961451078434979\n",
      "Fisher: 1.5325563045387653\n"
     ]
    }
   ],
   "source": [
    "F = ((SSR0 - (SSR1 + SSR2 + SSR3)) / (SSR1 + SSR2 + SSR3)) * ((n1 + n2 + n3 - 2*k) / k)\n",
    "\n",
    "p_value = f.sf(F, X.shape[0] - X.shape[1] - (X1.shape[0] - X1.shape[1] + X2.shape[0] - X2.shape[1] + X3.shape[0] - X3.shape[1]), n-2*k)\n",
    "\n",
    "print(\"SSR0: {}\".format(SSR0))\n",
    "print(\"SSR1: {}\".format(SSR1))\n",
    "print(\"SSR2: {}\".format(SSR2))\n",
    "print(\"SSR3: {}\".format(SSR3))\n",
    "print(\"n: {}\".format(n))\n",
    "print(\"n1: {}\".format(n1))\n",
    "print(\"n2: {}\".format(n2))\n",
    "print(\"n3: {}\".format(n3))\n",
    "print(\"k: {}\".format(k))\n",
    "print()\n",
    "print('Chow Test p-value: {}'.format(p_value))\n",
    "print('Fisher: {}'.format(F))"
   ]
  },
  {
   "cell_type": "markdown",
   "metadata": {},
   "source": [
    "### 16\n",
    "\n",
    "In order to do the regression we write the variables\n",
    "\n",
    "more43: 1 if woman's age is >= 43\n",
    "\n",
    "between3043: 1 if woman's age is >30 but <43\n",
    "\n",
    "less30: 1 if woman's age is <= 30\n",
    "\n",
    "We cannot add those three variables to the model as\n",
    "\n",
    "$$more43 + between3043 + less30 = 1$$\n",
    "\n",
    "Therefore, using as the base case the women that have less than 30 years old (<=) we build the regression adding more43 and between3043."
   ]
  },
  {
   "cell_type": "code",
   "execution_count": 32,
   "metadata": {},
   "outputs": [
    {
     "name": "stdout",
     "output_type": "stream",
     "text": [
      "                            OLS Regression Results                            \n",
      "==============================================================================\n",
      "Dep. Variable:                  lwage   R-squared:                       0.161\n",
      "Model:                            OLS   Adj. R-squared:                  0.145\n",
      "Method:                 Least Squares   F-statistic:                     10.07\n",
      "Date:                Sun, 22 Nov 2020   Prob (F-statistic):           7.08e-13\n",
      "Time:                        14:22:57   Log-Likelihood:                -430.46\n",
      "No. Observations:                 428   AIC:                             878.9\n",
      "Df Residuals:                     419   BIC:                             915.5\n",
      "Df Model:                           8                                         \n",
      "Covariance Type:            nonrobust                                         \n",
      "==============================================================================\n",
      "                 coef    std err          t      P>|t|      [0.025      0.975]\n",
      "------------------------------------------------------------------------------\n",
      "const         -0.2210      0.248     -0.893      0.373      -0.708       0.266\n",
      "x1             0.0475      0.071      0.672      0.502      -0.092       0.187\n",
      "x2             0.1008      0.015      6.653      0.000       0.071       0.131\n",
      "x3             0.0179      0.005      3.785      0.000       0.009       0.027\n",
      "x4             0.0058      0.003      1.712      0.088      -0.001       0.012\n",
      "x5            -0.0809      0.088     -0.920      0.358      -0.254       0.092\n",
      "x6            -0.0183      0.029     -0.642      0.521      -0.074       0.038\n",
      "x7            -0.2558      0.169     -1.513      0.131      -0.588       0.077\n",
      "x8            -0.1618      0.164     -0.986      0.325      -0.484       0.161\n",
      "==============================================================================\n",
      "Omnibus:                       77.107   Durbin-Watson:                   1.996\n",
      "Prob(Omnibus):                  0.000   Jarque-Bera (JB):              282.164\n",
      "Skew:                          -0.764   Prob(JB):                     5.36e-62\n",
      "Kurtosis:                       6.673   Cond. No.                         254.\n",
      "==============================================================================\n",
      "\n",
      "Notes:\n",
      "[1] Standard Errors assume that the covariance matrix of the errors is correctly specified.\n"
     ]
    }
   ],
   "source": [
    "data_bin = data.copy()\n",
    "\n",
    "data_bin[\"more43\"] = 0\n",
    "data_bin[\"between3043\"] = 0\n",
    "data_bin[\"less30\"] = 0\n",
    "\n",
    "data_bin.loc[data_bin[\"age\"] >= 43 , 'more43'] = 1\n",
    "data_bin.loc[(data_bin[\"age\"] > 30) & (data_bin[\"age\"] < 43) , 'between3043'] = 1\n",
    "data_bin.loc[data_bin[\"age\"] <= 30 , 'less30'] = 1\n",
    "\n",
    "y = data_bin[\"lwage\"]\n",
    "s = np.shape(data[\"wage\"])\n",
    "const = np.ones(s)\n",
    "city = data_bin[\"city\"]\n",
    "educ = data_bin[\"educ\"]\n",
    "exper = data_bin[\"exper\"]\n",
    "nwifeinc = data_bin[\"nwifeinc\"]\n",
    "kidslt6 = data_bin[\"kidslt6\"]\n",
    "kidsgt6 = data_bin[\"kidsgt6\"]\n",
    "more43 = data_bin[\"more43\"]\n",
    "between3043 = data_bin[\"between3043\"]\n",
    "\n",
    "X = np.column_stack((const,city,educ,exper,nwifeinc,kidslt6,kidsgt6, more43, between3043))\n",
    "\n",
    "model = sm.OLS(y,X)\n",
    "results = model.fit()\n",
    "print(results.summary())\n",
    "\n",
    "u = results.resid\n",
    "SSR0 = u.T @ u"
   ]
  },
  {
   "cell_type": "code",
   "execution_count": 33,
   "metadata": {},
   "outputs": [
    {
     "name": "stdout",
     "output_type": "stream",
     "text": [
      "Value of q: 2\n",
      "n: 428 / k: 7\n",
      "SSR0 is equal to: 187.30681260001555\n",
      "SSR1 is equal to: 188.58998019263944\n",
      "The Fisher test result: 1.442055280840906\n",
      "The p-value: 0.23760676040907033\n"
     ]
    }
   ],
   "source": [
    "y = data_bin[\"lwage\"]\n",
    "s = np.shape(data[\"wage\"])\n",
    "const = np.ones(s)\n",
    "city = data_bin[\"city\"]\n",
    "educ = data_bin[\"educ\"]\n",
    "exper = data_bin[\"exper\"]\n",
    "nwifeinc = data_bin[\"nwifeinc\"]\n",
    "kidslt6 = data_bin[\"kidslt6\"]\n",
    "kidsgt6 = data_bin[\"kidsgt6\"]\n",
    "more43 = data_bin[\"more43\"]\n",
    "between3043 = data_bin[\"between3043\"]\n",
    "\n",
    "X = np.column_stack((const,city,educ,exper,nwifeinc,kidslt6,kidsgt6))\n",
    "\n",
    "model = sm.OLS(y,X)\n",
    "results = model.fit()\n",
    "\n",
    "u = results.resid\n",
    "SSR1 = u.T @ u\n",
    "\n",
    "n,k = X.shape\n",
    "\n",
    "q = 2\n",
    "\n",
    "F = ((SSR1 - SSR0)/q)/(SSR0/(n-k))\n",
    "\n",
    "pvalue = f.sf(F,q,n-k)\n",
    "\n",
    "print(\"Value of q: {}\".format(q))\n",
    "print(\"n: {} / k: {}\".format(n,k))\n",
    "print(\"SSR0 is equal to: {}\".format(SSR0))\n",
    "print(\"SSR1 is equal to: {}\".format(SSR1))\n",
    "print(\"The Fisher test result: {}\".format(F))\n",
    "print(\"The p-value: {}\".format(pvalue))"
   ]
  },
  {
   "cell_type": "markdown",
   "metadata": {},
   "source": [
    "The p-value is 0.2376. Therefore, we do not reject the null hypothesis with test significance level of 5%. Therefore, both variables are not significant."
   ]
  },
  {
   "cell_type": "code",
   "execution_count": null,
   "metadata": {},
   "outputs": [],
   "source": []
  }
 ],
 "metadata": {
  "kernelspec": {
   "display_name": "Python 3",
   "language": "python",
   "name": "python3"
  },
  "language_info": {
   "codemirror_mode": {
    "name": "ipython",
    "version": 3
   },
   "file_extension": ".py",
   "mimetype": "text/x-python",
   "name": "python",
   "nbconvert_exporter": "python",
   "pygments_lexer": "ipython3",
   "version": "3.8.5"
  }
 },
 "nbformat": 4,
 "nbformat_minor": 4
}
