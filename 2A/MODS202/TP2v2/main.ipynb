{
 "metadata": {
  "language_info": {
   "codemirror_mode": {
    "name": "ipython",
    "version": 3
   },
   "file_extension": ".py",
   "mimetype": "text/x-python",
   "name": "python",
   "nbconvert_exporter": "python",
   "pygments_lexer": "ipython3",
   "version": "3.8.5-final"
  },
  "orig_nbformat": 2,
  "kernelspec": {
   "name": "python38564bitvenv36f2eaaa842a4a218c10d5e5c86390dd",
   "display_name": "Python 3.8.5 64-bit ('venv')"
  }
 },
 "nbformat": 4,
 "nbformat_minor": 2,
 "cells": [
  {
   "source": [
    "# Wage1 DataFrame\n",
    "\n",
    "*526 records*\n",
    "\n",
    "| Index &nbsp; | Name &nbsp; &nbsp; &nbsp; &nbsp; &nbsp; &nbsp; &nbsp; | Description                     |\n",
    "|--------------|:------------------------------------------------------|--------------------------------:|\n",
    "|  0           | `wage`                                                | average hourly earnings         |\n",
    "|  1           | `educ`                                                | years of education              |\n",
    "|  2           | `exper`                                               | years potential experience      |\n",
    "|  3           | `tenure`                                              | years with current employer     |\n",
    "|  4           | `nonwhite`                                            | =1 if nonwhite                  |\n",
    "|  5           | `female`                                              | =1 if female                    |\n",
    "|  6           | `married`                                             | =1 if married                   |\n",
    "|  7           | `numdep`                                              | number of dependents            |\n",
    "|  8           | `smsa`                                                | =1 if live in SMSA              |\n",
    "|  9           | `northcen`                                            | =1 if live in north central U.S |\n",
    "| 10           | `south`                                               | =1 if live in southern region   |\n",
    "| 11           | `west`                                                | =1 if live in western region    | \n",
    "| 12           | `construc`                                            | =1 if work in construc. indus.  |\n",
    "| 13           | `ndurman`                                             | =1 if in nondur. manuf. indus.  |\n",
    "| 14           | `trcommpu`                                            | =1 if in trans, commun, pub ut  |\n",
    "| 15           | `trade`                                               | =1 if in wholesale or retail    |\n",
    "| 16           | `services`                                            | =1 if in services indus.        |\n",
    "| 17           | `profserv`                                            | =1 if in prof. serv. indus.     |\n",
    "| 18           | `profocc`                                             | =1 if in profess. occupation    |\n",
    "| 19           | `clerocc`                                             | =1 if in clerical occupation    |\n",
    "| 20           | `servocc`                                             | =1 if in service occupation     |\n",
    "| 21           | `lwage`                                               | log(wage)                       |\n",
    "| 22           | `expersq`                                             | exper^2                         |\n",
    "| 23           | `tenursq`                                             | tenure^2                        |"
   ],
   "cell_type": "markdown",
   "metadata": {}
  },
  {
   "cell_type": "code",
   "execution_count": 1,
   "metadata": {
    "tags": []
   },
   "outputs": [],
   "source": [
    "import matplotlib.pyplot as plt\n",
    "import numpy as np\n",
    "import pandas as pd\n",
    "import statsmodels.api as sm\n",
    "from scipy.stats import t\n",
    "\n",
    "df = pd.read_csv(\n",
    "    \"./data/wage1.raw\", \n",
    "    delim_whitespace = True, \n",
    "    names = [\"wage\", \"educ\", \"exper\", \"tenure\", \"nonwhite\", \"female\", \"married\", \"numdep\", \"smsa\", \"northcen\", \"south\", \"west\", \"construc\", \"ndurman\", \"trcommpu\", \"trade\", \"services\", \"profserv\", \"profocc\", \"clerocc\", \"servocc\", \"lwage\", \"expersq\", \"tenursq\"]\n",
    ")"
   ]
  },
  {
   "source": [
    "# Exercise 1"
   ],
   "cell_type": "markdown",
   "metadata": {}
  },
  {
   "cell_type": "code",
   "execution_count": 2,
   "metadata": {},
   "outputs": [],
   "source": [
    "# Defines the dependent variable matrix y\n",
    "y = np.matrix(df[\"wage\"]).T\n",
    "\n",
    "# Defines the explanatory variables matrix X\n",
    "X = np.matrix(np.column_stack((np.ones(df[\"wage\"].shape), df[\"educ\"], df[\"exper\"], df[\"tenure\"])))"
   ]
  },
  {
   "source": [
    "# Exercise 2"
   ],
   "cell_type": "markdown",
   "metadata": {}
  },
  {
   "cell_type": "code",
   "execution_count": 5,
   "metadata": {},
   "outputs": [
    {
     "output_type": "stream",
     "name": "stdout",
     "text": [
      "The β matrix obtained is: \n[[-2.87273489]\n [ 0.59896507]\n [ 0.02233952]\n [ 0.16926865]]\n"
     ]
    }
   ],
   "source": [
    "# Obtains β using the OLS method\n",
    "β = (X.T @ X).I @ X.T @ y\n",
    "\n",
    "print(f\"The β matrix obtained is: \\n{β}\")"
   ]
  },
  {
   "source": [
    "# Exercise 3"
   ],
   "cell_type": "markdown",
   "metadata": {}
  },
  {
   "cell_type": "code",
   "execution_count": 6,
   "metadata": {},
   "outputs": [
    {
     "output_type": "stream",
     "name": "stdout",
     "text": [
      "The variance-covariance matrix is: \n[[ 5.31388941e-01 -3.57021879e-02 -4.23690292e-03  1.43314067e-03]\n [-3.57021879e-02  2.63000238e-03  1.94055068e-04 -1.25397327e-04]\n [-4.23690292e-03  1.94055068e-04  1.45367583e-04 -1.32175116e-04]\n [ 1.43314067e-03 -1.25397327e-04 -1.32175116e-04  4.68489017e-04]]\n\nThe standard deviation matrix is: \n[0.72896429 0.05128355 0.01205685 0.02164461]\n"
     ]
    }
   ],
   "source": [
    "# Obtains the error (residual) matrix\n",
    "ε = y - X @ β\n",
    "\n",
    "# Obtains the SSE (Sum of Squared Errors) (or Residual Sum of Squares)\n",
    "SSε = (ε.T @ ε).item(0, 0)\n",
    "\n",
    "# Obtains the error variance\n",
    "n, k = X.shape\n",
    "Varε = SSε/(n-k)\n",
    "\n",
    "# Obtains the variance-covariance matrix of β (var(β))\n",
    "Varβ = Varε * (X.T @ X).I\n",
    "\n",
    "# Obtains the β standard deviation matrix (σ(β))\n",
    "σβ = np.sqrt(np.diag(Varβ))\n",
    "\n",
    "print(f\"The variance-covariance matrix is: \\n{Varβ}\")\n",
    "print(f\"\\nThe standard deviation matrix is: \\n{σβ}\")"
   ]
  },
  {
   "source": [
    "# Exercise 4"
   ],
   "cell_type": "markdown",
   "metadata": {}
  },
  {
   "cell_type": "code",
   "execution_count": 9,
   "metadata": {
    "tags": []
   },
   "outputs": [
    {
     "output_type": "stream",
     "name": "stdout",
     "text": [
      "The obtained β matrix is: \n[[-1.70094791]\n [ 0.50063696]\n [ 0.01756833]\n [ 0.14558487]]\n\n"
     ]
    },
    {
     "output_type": "display_data",
     "data": {
      "text/plain": "<Figure size 432x288 with 1 Axes>",
      "image/svg+xml": "<?xml version=\"1.0\" encoding=\"utf-8\" standalone=\"no\"?>\r\n<!DOCTYPE svg PUBLIC \"-//W3C//DTD SVG 1.1//EN\"\r\n  \"http://www.w3.org/Graphics/SVG/1.1/DTD/svg11.dtd\">\r\n<!-- Created with matplotlib (https://matplotlib.org/) -->\r\n<svg height=\"248.518125pt\" version=\"1.1\" viewBox=\"0 0 368.925 248.518125\" width=\"368.925pt\" xmlns=\"http://www.w3.org/2000/svg\" xmlns:xlink=\"http://www.w3.org/1999/xlink\">\r\n <metadata>\r\n  <rdf:RDF xmlns:cc=\"http://creativecommons.org/ns#\" xmlns:dc=\"http://purl.org/dc/elements/1.1/\" xmlns:rdf=\"http://www.w3.org/1999/02/22-rdf-syntax-ns#\">\r\n   <cc:Work>\r\n    <dc:type rdf:resource=\"http://purl.org/dc/dcmitype/StillImage\"/>\r\n    <dc:date>2020-11-27T10:29:47.163611</dc:date>\r\n    <dc:format>image/svg+xml</dc:format>\r\n    <dc:creator>\r\n     <cc:Agent>\r\n      <dc:title>Matplotlib v3.3.2, https://matplotlib.org/</dc:title>\r\n     </cc:Agent>\r\n    </dc:creator>\r\n   </cc:Work>\r\n  </rdf:RDF>\r\n </metadata>\r\n <defs>\r\n  <style type=\"text/css\">*{stroke-linecap:butt;stroke-linejoin:round;}</style>\r\n </defs>\r\n <g id=\"figure_1\">\r\n  <g id=\"patch_1\">\r\n   <path d=\"M -0 248.518125 \r\nL 368.925 248.518125 \r\nL 368.925 0 \r\nL -0 0 \r\nz\r\n\" style=\"fill:none;\"/>\r\n  </g>\r\n  <g id=\"axes_1\">\r\n   <g id=\"patch_2\">\r\n    <path d=\"M 26.925 224.64 \r\nL 361.725 224.64 \r\nL 361.725 7.2 \r\nL 26.925 7.2 \r\nz\r\n\" style=\"fill:#ffffff;\"/>\r\n   </g>\r\n   <g id=\"patch_3\">\r\n    <path clip-path=\"url(#pcfb39ca402)\" d=\"M 42.143182 224.64 \r\nL 55.376383 224.64 \r\nL 55.376383 220.138137 \r\nL 42.143182 220.138137 \r\nz\r\n\" style=\"fill:#1f77b4;\"/>\r\n   </g>\r\n   <g id=\"patch_4\">\r\n    <path clip-path=\"url(#pcfb39ca402)\" d=\"M 55.376383 224.64 \r\nL 68.609585 224.64 \r\nL 68.609585 224.64 \r\nL 55.376383 224.64 \r\nz\r\n\" style=\"fill:#1f77b4;\"/>\r\n   </g>\r\n   <g id=\"patch_5\">\r\n    <path clip-path=\"url(#pcfb39ca402)\" d=\"M 68.609585 224.64 \r\nL 81.842787 224.64 \r\nL 81.842787 215.636273 \r\nL 68.609585 215.636273 \r\nz\r\n\" style=\"fill:#1f77b4;\"/>\r\n   </g>\r\n   <g id=\"patch_6\">\r\n    <path clip-path=\"url(#pcfb39ca402)\" d=\"M 81.842787 224.64 \r\nL 95.075988 224.64 \r\nL 95.075988 215.636273 \r\nL 81.842787 215.636273 \r\nz\r\n\" style=\"fill:#1f77b4;\"/>\r\n   </g>\r\n   <g id=\"patch_7\">\r\n    <path clip-path=\"url(#pcfb39ca402)\" d=\"M 95.075988 224.64 \r\nL 108.30919 224.64 \r\nL 108.30919 204.381615 \r\nL 95.075988 204.381615 \r\nz\r\n\" style=\"fill:#1f77b4;\"/>\r\n   </g>\r\n   <g id=\"patch_8\">\r\n    <path clip-path=\"url(#pcfb39ca402)\" d=\"M 108.30919 224.64 \r\nL 121.542391 224.64 \r\nL 121.542391 195.377888 \r\nL 108.30919 195.377888 \r\nz\r\n\" style=\"fill:#1f77b4;\"/>\r\n   </g>\r\n   <g id=\"patch_9\">\r\n    <path clip-path=\"url(#pcfb39ca402)\" d=\"M 121.542391 224.64 \r\nL 134.775593 224.64 \r\nL 134.775593 152.610186 \r\nL 121.542391 152.610186 \r\nz\r\n\" style=\"fill:#1f77b4;\"/>\r\n   </g>\r\n   <g id=\"patch_10\">\r\n    <path clip-path=\"url(#pcfb39ca402)\" d=\"M 134.775593 224.64 \r\nL 148.008794 224.64 \r\nL 148.008794 141.355528 \r\nL 134.775593 141.355528 \r\nz\r\n\" style=\"fill:#1f77b4;\"/>\r\n   </g>\r\n   <g id=\"patch_11\">\r\n    <path clip-path=\"url(#pcfb39ca402)\" d=\"M 148.008794 224.64 \r\nL 161.241996 224.64 \r\nL 161.241996 85.082236 \r\nL 148.008794 85.082236 \r\nz\r\n\" style=\"fill:#1f77b4;\"/>\r\n   </g>\r\n   <g id=\"patch_12\">\r\n    <path clip-path=\"url(#pcfb39ca402)\" d=\"M 161.241996 224.64 \r\nL 174.475198 224.64 \r\nL 174.475198 17.554286 \r\nL 161.241996 17.554286 \r\nz\r\n\" style=\"fill:#1f77b4;\"/>\r\n   </g>\r\n   <g id=\"patch_13\">\r\n    <path clip-path=\"url(#pcfb39ca402)\" d=\"M 174.475198 224.64 \r\nL 187.708399 224.64 \r\nL 187.708399 116.59528 \r\nL 174.475198 116.59528 \r\nz\r\n\" style=\"fill:#1f77b4;\"/>\r\n   </g>\r\n   <g id=\"patch_14\">\r\n    <path clip-path=\"url(#pcfb39ca402)\" d=\"M 187.708399 224.64 \r\nL 200.941601 224.64 \r\nL 200.941601 69.325714 \r\nL 187.708399 69.325714 \r\nz\r\n\" style=\"fill:#1f77b4;\"/>\r\n   </g>\r\n   <g id=\"patch_15\">\r\n    <path clip-path=\"url(#pcfb39ca402)\" d=\"M 200.941601 224.64 \r\nL 214.174802 224.64 \r\nL 214.174802 166.115776 \r\nL 200.941601 166.115776 \r\nz\r\n\" style=\"fill:#1f77b4;\"/>\r\n   </g>\r\n   <g id=\"patch_16\">\r\n    <path clip-path=\"url(#pcfb39ca402)\" d=\"M 214.174802 224.64 \r\nL 227.408004 224.64 \r\nL 227.408004 148.108323 \r\nL 214.174802 148.108323 \r\nz\r\n\" style=\"fill:#1f77b4;\"/>\r\n   </g>\r\n   <g id=\"patch_17\">\r\n    <path clip-path=\"url(#pcfb39ca402)\" d=\"M 227.408004 224.64 \r\nL 240.641206 224.64 \r\nL 240.641206 179.621366 \r\nL 227.408004 179.621366 \r\nz\r\n\" style=\"fill:#1f77b4;\"/>\r\n   </g>\r\n   <g id=\"patch_18\">\r\n    <path clip-path=\"url(#pcfb39ca402)\" d=\"M 240.641206 224.64 \r\nL 253.874407 224.64 \r\nL 253.874407 195.377888 \r\nL 240.641206 195.377888 \r\nz\r\n\" style=\"fill:#1f77b4;\"/>\r\n   </g>\r\n   <g id=\"patch_19\">\r\n    <path clip-path=\"url(#pcfb39ca402)\" d=\"M 253.874407 224.64 \r\nL 267.107609 224.64 \r\nL 267.107609 197.62882 \r\nL 253.874407 197.62882 \r\nz\r\n\" style=\"fill:#1f77b4;\"/>\r\n   </g>\r\n   <g id=\"patch_20\">\r\n    <path clip-path=\"url(#pcfb39ca402)\" d=\"M 267.107609 224.64 \r\nL 280.34081 224.64 \r\nL 280.34081 202.130683 \r\nL 267.107609 202.130683 \r\nz\r\n\" style=\"fill:#1f77b4;\"/>\r\n   </g>\r\n   <g id=\"patch_21\">\r\n    <path clip-path=\"url(#pcfb39ca402)\" d=\"M 280.34081 224.64 \r\nL 293.574012 224.64 \r\nL 293.574012 190.876025 \r\nL 280.34081 190.876025 \r\nz\r\n\" style=\"fill:#1f77b4;\"/>\r\n   </g>\r\n   <g id=\"patch_22\">\r\n    <path clip-path=\"url(#pcfb39ca402)\" d=\"M 293.574012 224.64 \r\nL 306.807213 224.64 \r\nL 306.807213 220.138137 \r\nL 293.574012 220.138137 \r\nz\r\n\" style=\"fill:#1f77b4;\"/>\r\n   </g>\r\n   <g id=\"patch_23\">\r\n    <path clip-path=\"url(#pcfb39ca402)\" d=\"M 306.807213 224.64 \r\nL 320.040415 224.64 \r\nL 320.040415 217.887205 \r\nL 306.807213 217.887205 \r\nz\r\n\" style=\"fill:#1f77b4;\"/>\r\n   </g>\r\n   <g id=\"patch_24\">\r\n    <path clip-path=\"url(#pcfb39ca402)\" d=\"M 320.040415 224.64 \r\nL 333.273617 224.64 \r\nL 333.273617 220.138137 \r\nL 320.040415 220.138137 \r\nz\r\n\" style=\"fill:#1f77b4;\"/>\r\n   </g>\r\n   <g id=\"patch_25\">\r\n    <path clip-path=\"url(#pcfb39ca402)\" d=\"M 333.273617 224.64 \r\nL 346.506818 224.64 \r\nL 346.506818 211.13441 \r\nL 333.273617 211.13441 \r\nz\r\n\" style=\"fill:#1f77b4;\"/>\r\n   </g>\r\n   <g id=\"matplotlib.axis_1\">\r\n    <g id=\"xtick_1\">\r\n     <g id=\"line2d_1\">\r\n      <defs>\r\n       <path d=\"M 0 0 \r\nL 0 3.5 \r\n\" id=\"ma62610d354\" style=\"stroke:#000000;stroke-width:0.8;\"/>\r\n      </defs>\r\n      <g>\r\n       <use style=\"stroke:#000000;stroke-width:0.8;\" x=\"34.54547\" xlink:href=\"#ma62610d354\" y=\"224.64\"/>\r\n      </g>\r\n     </g>\r\n     <g id=\"text_1\">\r\n      <!-- −8 -->\r\n      <g transform=\"translate(27.174376 239.238437)scale(0.1 -0.1)\">\r\n       <defs>\r\n        <path d=\"M 10.59375 35.5 \r\nL 73.1875 35.5 \r\nL 73.1875 27.203125 \r\nL 10.59375 27.203125 \r\nz\r\n\" id=\"DejaVuSans-8722\"/>\r\n        <path d=\"M 31.78125 34.625 \r\nQ 24.75 34.625 20.71875 30.859375 \r\nQ 16.703125 27.09375 16.703125 20.515625 \r\nQ 16.703125 13.921875 20.71875 10.15625 \r\nQ 24.75 6.390625 31.78125 6.390625 \r\nQ 38.8125 6.390625 42.859375 10.171875 \r\nQ 46.921875 13.96875 46.921875 20.515625 \r\nQ 46.921875 27.09375 42.890625 30.859375 \r\nQ 38.875 34.625 31.78125 34.625 \r\nz\r\nM 21.921875 38.8125 \r\nQ 15.578125 40.375 12.03125 44.71875 \r\nQ 8.5 49.078125 8.5 55.328125 \r\nQ 8.5 64.0625 14.71875 69.140625 \r\nQ 20.953125 74.21875 31.78125 74.21875 \r\nQ 42.671875 74.21875 48.875 69.140625 \r\nQ 55.078125 64.0625 55.078125 55.328125 \r\nQ 55.078125 49.078125 51.53125 44.71875 \r\nQ 48 40.375 41.703125 38.8125 \r\nQ 48.828125 37.15625 52.796875 32.3125 \r\nQ 56.78125 27.484375 56.78125 20.515625 \r\nQ 56.78125 9.90625 50.3125 4.234375 \r\nQ 43.84375 -1.421875 31.78125 -1.421875 \r\nQ 19.734375 -1.421875 13.25 4.234375 \r\nQ 6.78125 9.90625 6.78125 20.515625 \r\nQ 6.78125 27.484375 10.78125 32.3125 \r\nQ 14.796875 37.15625 21.921875 38.8125 \r\nz\r\nM 18.3125 54.390625 \r\nQ 18.3125 48.734375 21.84375 45.5625 \r\nQ 25.390625 42.390625 31.78125 42.390625 \r\nQ 38.140625 42.390625 41.71875 45.5625 \r\nQ 45.3125 48.734375 45.3125 54.390625 \r\nQ 45.3125 60.0625 41.71875 63.234375 \r\nQ 38.140625 66.40625 31.78125 66.40625 \r\nQ 25.390625 66.40625 21.84375 63.234375 \r\nQ 18.3125 60.0625 18.3125 54.390625 \r\nz\r\n\" id=\"DejaVuSans-56\"/>\r\n       </defs>\r\n       <use xlink:href=\"#DejaVuSans-8722\"/>\r\n       <use x=\"83.789062\" xlink:href=\"#DejaVuSans-56\"/>\r\n      </g>\r\n     </g>\r\n    </g>\r\n    <g id=\"xtick_2\">\r\n     <g id=\"line2d_2\">\r\n      <g>\r\n       <use style=\"stroke:#000000;stroke-width:0.8;\" x=\"73.188105\" xlink:href=\"#ma62610d354\" y=\"224.64\"/>\r\n      </g>\r\n     </g>\r\n     <g id=\"text_2\">\r\n      <!-- −6 -->\r\n      <g transform=\"translate(65.817011 239.238437)scale(0.1 -0.1)\">\r\n       <defs>\r\n        <path d=\"M 33.015625 40.375 \r\nQ 26.375 40.375 22.484375 35.828125 \r\nQ 18.609375 31.296875 18.609375 23.390625 \r\nQ 18.609375 15.53125 22.484375 10.953125 \r\nQ 26.375 6.390625 33.015625 6.390625 \r\nQ 39.65625 6.390625 43.53125 10.953125 \r\nQ 47.40625 15.53125 47.40625 23.390625 \r\nQ 47.40625 31.296875 43.53125 35.828125 \r\nQ 39.65625 40.375 33.015625 40.375 \r\nz\r\nM 52.59375 71.296875 \r\nL 52.59375 62.3125 \r\nQ 48.875 64.0625 45.09375 64.984375 \r\nQ 41.3125 65.921875 37.59375 65.921875 \r\nQ 27.828125 65.921875 22.671875 59.328125 \r\nQ 17.53125 52.734375 16.796875 39.40625 \r\nQ 19.671875 43.65625 24.015625 45.921875 \r\nQ 28.375 48.1875 33.59375 48.1875 \r\nQ 44.578125 48.1875 50.953125 41.515625 \r\nQ 57.328125 34.859375 57.328125 23.390625 \r\nQ 57.328125 12.15625 50.6875 5.359375 \r\nQ 44.046875 -1.421875 33.015625 -1.421875 \r\nQ 20.359375 -1.421875 13.671875 8.265625 \r\nQ 6.984375 17.96875 6.984375 36.375 \r\nQ 6.984375 53.65625 15.1875 63.9375 \r\nQ 23.390625 74.21875 37.203125 74.21875 \r\nQ 40.921875 74.21875 44.703125 73.484375 \r\nQ 48.484375 72.75 52.59375 71.296875 \r\nz\r\n\" id=\"DejaVuSans-54\"/>\r\n       </defs>\r\n       <use xlink:href=\"#DejaVuSans-8722\"/>\r\n       <use x=\"83.789062\" xlink:href=\"#DejaVuSans-54\"/>\r\n      </g>\r\n     </g>\r\n    </g>\r\n    <g id=\"xtick_3\">\r\n     <g id=\"line2d_3\">\r\n      <g>\r\n       <use style=\"stroke:#000000;stroke-width:0.8;\" x=\"111.83074\" xlink:href=\"#ma62610d354\" y=\"224.64\"/>\r\n      </g>\r\n     </g>\r\n     <g id=\"text_3\">\r\n      <!-- −4 -->\r\n      <g transform=\"translate(104.459646 239.238437)scale(0.1 -0.1)\">\r\n       <defs>\r\n        <path d=\"M 37.796875 64.3125 \r\nL 12.890625 25.390625 \r\nL 37.796875 25.390625 \r\nz\r\nM 35.203125 72.90625 \r\nL 47.609375 72.90625 \r\nL 47.609375 25.390625 \r\nL 58.015625 25.390625 \r\nL 58.015625 17.1875 \r\nL 47.609375 17.1875 \r\nL 47.609375 0 \r\nL 37.796875 0 \r\nL 37.796875 17.1875 \r\nL 4.890625 17.1875 \r\nL 4.890625 26.703125 \r\nz\r\n\" id=\"DejaVuSans-52\"/>\r\n       </defs>\r\n       <use xlink:href=\"#DejaVuSans-8722\"/>\r\n       <use x=\"83.789062\" xlink:href=\"#DejaVuSans-52\"/>\r\n      </g>\r\n     </g>\r\n    </g>\r\n    <g id=\"xtick_4\">\r\n     <g id=\"line2d_4\">\r\n      <g>\r\n       <use style=\"stroke:#000000;stroke-width:0.8;\" x=\"150.473375\" xlink:href=\"#ma62610d354\" y=\"224.64\"/>\r\n      </g>\r\n     </g>\r\n     <g id=\"text_4\">\r\n      <!-- −2 -->\r\n      <g transform=\"translate(143.102281 239.238437)scale(0.1 -0.1)\">\r\n       <defs>\r\n        <path d=\"M 19.1875 8.296875 \r\nL 53.609375 8.296875 \r\nL 53.609375 0 \r\nL 7.328125 0 \r\nL 7.328125 8.296875 \r\nQ 12.9375 14.109375 22.625 23.890625 \r\nQ 32.328125 33.6875 34.8125 36.53125 \r\nQ 39.546875 41.84375 41.421875 45.53125 \r\nQ 43.3125 49.21875 43.3125 52.78125 \r\nQ 43.3125 58.59375 39.234375 62.25 \r\nQ 35.15625 65.921875 28.609375 65.921875 \r\nQ 23.96875 65.921875 18.8125 64.3125 \r\nQ 13.671875 62.703125 7.8125 59.421875 \r\nL 7.8125 69.390625 \r\nQ 13.765625 71.78125 18.9375 73 \r\nQ 24.125 74.21875 28.421875 74.21875 \r\nQ 39.75 74.21875 46.484375 68.546875 \r\nQ 53.21875 62.890625 53.21875 53.421875 \r\nQ 53.21875 48.921875 51.53125 44.890625 \r\nQ 49.859375 40.875 45.40625 35.40625 \r\nQ 44.1875 33.984375 37.640625 27.21875 \r\nQ 31.109375 20.453125 19.1875 8.296875 \r\nz\r\n\" id=\"DejaVuSans-50\"/>\r\n       </defs>\r\n       <use xlink:href=\"#DejaVuSans-8722\"/>\r\n       <use x=\"83.789062\" xlink:href=\"#DejaVuSans-50\"/>\r\n      </g>\r\n     </g>\r\n    </g>\r\n    <g id=\"xtick_5\">\r\n     <g id=\"line2d_5\">\r\n      <g>\r\n       <use style=\"stroke:#000000;stroke-width:0.8;\" x=\"189.116009\" xlink:href=\"#ma62610d354\" y=\"224.64\"/>\r\n      </g>\r\n     </g>\r\n     <g id=\"text_5\">\r\n      <!-- 0 -->\r\n      <g transform=\"translate(185.934759 239.238437)scale(0.1 -0.1)\">\r\n       <defs>\r\n        <path d=\"M 31.78125 66.40625 \r\nQ 24.171875 66.40625 20.328125 58.90625 \r\nQ 16.5 51.421875 16.5 36.375 \r\nQ 16.5 21.390625 20.328125 13.890625 \r\nQ 24.171875 6.390625 31.78125 6.390625 \r\nQ 39.453125 6.390625 43.28125 13.890625 \r\nQ 47.125 21.390625 47.125 36.375 \r\nQ 47.125 51.421875 43.28125 58.90625 \r\nQ 39.453125 66.40625 31.78125 66.40625 \r\nz\r\nM 31.78125 74.21875 \r\nQ 44.046875 74.21875 50.515625 64.515625 \r\nQ 56.984375 54.828125 56.984375 36.375 \r\nQ 56.984375 17.96875 50.515625 8.265625 \r\nQ 44.046875 -1.421875 31.78125 -1.421875 \r\nQ 19.53125 -1.421875 13.0625 8.265625 \r\nQ 6.59375 17.96875 6.59375 36.375 \r\nQ 6.59375 54.828125 13.0625 64.515625 \r\nQ 19.53125 74.21875 31.78125 74.21875 \r\nz\r\n\" id=\"DejaVuSans-48\"/>\r\n       </defs>\r\n       <use xlink:href=\"#DejaVuSans-48\"/>\r\n      </g>\r\n     </g>\r\n    </g>\r\n    <g id=\"xtick_6\">\r\n     <g id=\"line2d_6\">\r\n      <g>\r\n       <use style=\"stroke:#000000;stroke-width:0.8;\" x=\"227.758644\" xlink:href=\"#ma62610d354\" y=\"224.64\"/>\r\n      </g>\r\n     </g>\r\n     <g id=\"text_6\">\r\n      <!-- 2 -->\r\n      <g transform=\"translate(224.577394 239.238437)scale(0.1 -0.1)\">\r\n       <use xlink:href=\"#DejaVuSans-50\"/>\r\n      </g>\r\n     </g>\r\n    </g>\r\n    <g id=\"xtick_7\">\r\n     <g id=\"line2d_7\">\r\n      <g>\r\n       <use style=\"stroke:#000000;stroke-width:0.8;\" x=\"266.401279\" xlink:href=\"#ma62610d354\" y=\"224.64\"/>\r\n      </g>\r\n     </g>\r\n     <g id=\"text_7\">\r\n      <!-- 4 -->\r\n      <g transform=\"translate(263.220029 239.238437)scale(0.1 -0.1)\">\r\n       <use xlink:href=\"#DejaVuSans-52\"/>\r\n      </g>\r\n     </g>\r\n    </g>\r\n    <g id=\"xtick_8\">\r\n     <g id=\"line2d_8\">\r\n      <g>\r\n       <use style=\"stroke:#000000;stroke-width:0.8;\" x=\"305.043914\" xlink:href=\"#ma62610d354\" y=\"224.64\"/>\r\n      </g>\r\n     </g>\r\n     <g id=\"text_8\">\r\n      <!-- 6 -->\r\n      <g transform=\"translate(301.862664 239.238437)scale(0.1 -0.1)\">\r\n       <use xlink:href=\"#DejaVuSans-54\"/>\r\n      </g>\r\n     </g>\r\n    </g>\r\n    <g id=\"xtick_9\">\r\n     <g id=\"line2d_9\">\r\n      <g>\r\n       <use style=\"stroke:#000000;stroke-width:0.8;\" x=\"343.686549\" xlink:href=\"#ma62610d354\" y=\"224.64\"/>\r\n      </g>\r\n     </g>\r\n     <g id=\"text_9\">\r\n      <!-- 8 -->\r\n      <g transform=\"translate(340.505299 239.238437)scale(0.1 -0.1)\">\r\n       <use xlink:href=\"#DejaVuSans-56\"/>\r\n      </g>\r\n     </g>\r\n    </g>\r\n   </g>\r\n   <g id=\"matplotlib.axis_2\">\r\n    <g id=\"ytick_1\">\r\n     <g id=\"line2d_10\">\r\n      <defs>\r\n       <path d=\"M 0 0 \r\nL -3.5 0 \r\n\" id=\"m7fe9c565bc\" style=\"stroke:#000000;stroke-width:0.8;\"/>\r\n      </defs>\r\n      <g>\r\n       <use style=\"stroke:#000000;stroke-width:0.8;\" x=\"26.925\" xlink:href=\"#m7fe9c565bc\" y=\"224.64\"/>\r\n      </g>\r\n     </g>\r\n     <g id=\"text_10\">\r\n      <!-- 0 -->\r\n      <g transform=\"translate(13.5625 228.439219)scale(0.1 -0.1)\">\r\n       <use xlink:href=\"#DejaVuSans-48\"/>\r\n      </g>\r\n     </g>\r\n    </g>\r\n    <g id=\"ytick_2\">\r\n     <g id=\"line2d_11\">\r\n      <g>\r\n       <use style=\"stroke:#000000;stroke-width:0.8;\" x=\"26.925\" xlink:href=\"#m7fe9c565bc\" y=\"179.621366\"/>\r\n      </g>\r\n     </g>\r\n     <g id=\"text_11\">\r\n      <!-- 20 -->\r\n      <g transform=\"translate(7.2 183.420585)scale(0.1 -0.1)\">\r\n       <use xlink:href=\"#DejaVuSans-50\"/>\r\n       <use x=\"63.623047\" xlink:href=\"#DejaVuSans-48\"/>\r\n      </g>\r\n     </g>\r\n    </g>\r\n    <g id=\"ytick_3\">\r\n     <g id=\"line2d_12\">\r\n      <g>\r\n       <use style=\"stroke:#000000;stroke-width:0.8;\" x=\"26.925\" xlink:href=\"#m7fe9c565bc\" y=\"134.602733\"/>\r\n      </g>\r\n     </g>\r\n     <g id=\"text_12\">\r\n      <!-- 40 -->\r\n      <g transform=\"translate(7.2 138.401952)scale(0.1 -0.1)\">\r\n       <use xlink:href=\"#DejaVuSans-52\"/>\r\n       <use x=\"63.623047\" xlink:href=\"#DejaVuSans-48\"/>\r\n      </g>\r\n     </g>\r\n    </g>\r\n    <g id=\"ytick_4\">\r\n     <g id=\"line2d_13\">\r\n      <g>\r\n       <use style=\"stroke:#000000;stroke-width:0.8;\" x=\"26.925\" xlink:href=\"#m7fe9c565bc\" y=\"89.584099\"/>\r\n      </g>\r\n     </g>\r\n     <g id=\"text_13\">\r\n      <!-- 60 -->\r\n      <g transform=\"translate(7.2 93.383318)scale(0.1 -0.1)\">\r\n       <use xlink:href=\"#DejaVuSans-54\"/>\r\n       <use x=\"63.623047\" xlink:href=\"#DejaVuSans-48\"/>\r\n      </g>\r\n     </g>\r\n    </g>\r\n    <g id=\"ytick_5\">\r\n     <g id=\"line2d_14\">\r\n      <g>\r\n       <use style=\"stroke:#000000;stroke-width:0.8;\" x=\"26.925\" xlink:href=\"#m7fe9c565bc\" y=\"44.565466\"/>\r\n      </g>\r\n     </g>\r\n     <g id=\"text_14\">\r\n      <!-- 80 -->\r\n      <g transform=\"translate(7.2 48.364685)scale(0.1 -0.1)\">\r\n       <use xlink:href=\"#DejaVuSans-56\"/>\r\n       <use x=\"63.623047\" xlink:href=\"#DejaVuSans-48\"/>\r\n      </g>\r\n     </g>\r\n    </g>\r\n   </g>\r\n   <g id=\"patch_26\">\r\n    <path d=\"M 26.925 224.64 \r\nL 26.925 7.2 \r\n\" style=\"fill:none;stroke:#000000;stroke-linecap:square;stroke-linejoin:miter;stroke-width:0.8;\"/>\r\n   </g>\r\n   <g id=\"patch_27\">\r\n    <path d=\"M 361.725 224.64 \r\nL 361.725 7.2 \r\n\" style=\"fill:none;stroke:#000000;stroke-linecap:square;stroke-linejoin:miter;stroke-width:0.8;\"/>\r\n   </g>\r\n   <g id=\"patch_28\">\r\n    <path d=\"M 26.925 224.64 \r\nL 361.725 224.64 \r\n\" style=\"fill:none;stroke:#000000;stroke-linecap:square;stroke-linejoin:miter;stroke-width:0.8;\"/>\r\n   </g>\r\n   <g id=\"patch_29\">\r\n    <path d=\"M 26.925 7.2 \r\nL 361.725 7.2 \r\n\" style=\"fill:none;stroke:#000000;stroke-linecap:square;stroke-linejoin:miter;stroke-width:0.8;\"/>\r\n   </g>\r\n  </g>\r\n </g>\r\n <defs>\r\n  <clipPath id=\"pcfb39ca402\">\r\n   <rect height=\"217.44\" width=\"334.8\" x=\"26.925\" y=\"7.2\"/>\r\n  </clipPath>\r\n </defs>\r\n</svg>\r\n",
      "image/png": "[encoded data removed]"
     },
     "metadata": {
      "needs_background": "light"
     }
    }
   ],
   "source": [
    "# Deletes the observations in which the error is greater than 3 times the error standard deviation\n",
    "y = y[np.abs(ε) <= 3*np.sqrt(Varε)].T\n",
    "X = X[np.squeeze(np.asarray(np.abs(ε) <= 3*np.sqrt(Varε))), :]\n",
    "ε = ε[np.abs(ε) <= 3*np.sqrt(Varε)].T\n",
    "\n",
    "# Obtains β using the OLS method\n",
    "β = (X.T @ X).I @ X.T @ y\n",
    "\n",
    "print(f\"The obtained β matrix is: \\n{β}\\n\")\n",
    "n, bins, patches = plt.hist(ε, \"auto\")"
   ]
  },
  {
   "source": [
    "# Exercise 5"
   ],
   "cell_type": "markdown",
   "metadata": {}
  },
  {
   "cell_type": "code",
   "execution_count": 10,
   "metadata": {},
   "outputs": [
    {
     "output_type": "stream",
     "name": "stdout",
     "text": [
      "Since tβexper_max > tβexper (1.647841008903657 > 0.0797109463623904) we don't reject the hypothesys H0: βexper = 0\n"
     ]
    }
   ],
   "source": [
    "# Repeats everything that was done in exercise 3\n",
    "SSε = (ε.T @ ε).item(0, 0)\n",
    "n, k = X.shape\n",
    "Varε = SSε/(n-k)\n",
    "Varβ = Varε * (X.T @ X).I\n",
    "σβ = np.sqrt(np.diag(Varβ))\n",
    "\n",
    "# We want to test the hypothesys H0: βexper = 0. To do so we need to normalize the βexper obtained by its standard deviation\n",
    "βexper_norm = (β[2] / σβ[2]).item(0, 0)\n",
    "\n",
    "# Now, we obtain the area under the t-student curve at the right of tβexper with n-k degrees of freedom\n",
    "tβexper = t.sf(βexper_norm, n-k)\n",
    "\n",
    "# We then multiply its value by 2 in order to consider the other side of the distribution (alternative des deux côtés)\n",
    "tβexper *= 2\n",
    "\n",
    "# Then, we obtain the max value of tβexper that we would accept the hypothesys \n",
    "tβexper_max = t.ppf(0.95, n-k)\n",
    "\n",
    "print(f\"Since tβexper_max > tβexper ({tβexper_max} > {tβexper}) we don't reject the hypothesys H0: βexper = 0\")"
   ]
  },
  {
   "source": [
    "# Exercise 6"
   ],
   "cell_type": "markdown",
   "metadata": {}
  },
  {
   "cell_type": "code",
   "execution_count": 10,
   "metadata": {},
   "outputs": [
    {
     "output_type": "stream",
     "name": "stdout",
     "text": [
      "                            OLS Regression Results                            \n==============================================================================\nDep. Variable:                      y   R-squared:                       0.314\nModel:                            OLS   Adj. R-squared:                  0.310\nMethod:                 Least Squares   F-statistic:                     78.11\nDate:                Fri, 16 Oct 2020   Prob (F-statistic):           1.33e-41\nTime:                        08:54:43   Log-Likelihood:                -1204.4\nNo. Observations:                 515   AIC:                             2417.\nDf Residuals:                     511   BIC:                             2434.\nDf Model:                           3                                         \nCovariance Type:            nonrobust                                         \n==============================================================================\n                 coef    std err          t      P>|t|      [0.025      0.975]\n------------------------------------------------------------------------------\nconst         -1.7009      0.604     -2.818      0.005      -2.887      -0.515\nx1             0.5006      0.043     11.736      0.000       0.417       0.584\nx2             0.0176      0.010      1.779      0.076      -0.002       0.037\nx3             0.1456      0.018      8.103      0.000       0.110       0.181\n==============================================================================\nOmnibus:                       63.796   Durbin-Watson:                   1.832\nProb(Omnibus):                  0.000   Jarque-Bera (JB):               90.134\nSkew:                           0.866   Prob(JB):                     2.68e-20\nKurtosis:                       4.097   Cond. No.                         135.\n==============================================================================\n\nNotes:\n[1] Standard Errors assume that the covariance matrix of the errors is correctly specified.\n"
     ]
    }
   ],
   "source": [
    "# Creates an OLS model giving y and X\n",
    "model = sm.OLS(y, X)\n",
    "\n",
    "# Shows the results of the OLS model created\n",
    "print(model.fit().summary())"
   ]
  },
  {
   "source": [
    "# Exercise 7"
   ],
   "cell_type": "markdown",
   "metadata": {}
  },
  {
   "cell_type": "code",
   "execution_count": 11,
   "metadata": {},
   "outputs": [
    {
     "output_type": "stream",
     "name": "stdout",
     "text": [
      "Since tβexper_max > tβexper (1.647841008903657 > 0.02543663886070723) we don't reject the hypothesys H0: βexper = 0\n"
     ]
    }
   ],
   "source": [
    "# Sets y = log(df[\"wage\"]) as requested in the wording of the exercise\n",
    "y = np.log10(y)\n",
    "\n",
    "# Recalculates the coefficients matrix β using the OLS method\n",
    "β = β = (X.T @ X).I @ X.T @ y\n",
    "\n",
    "# Recalculates the error (residual) matrix\n",
    "ε = y - X @ β\n",
    "\n",
    "# Repeats everything that was done in exercise 5\n",
    "SSε = (ε.T @ ε).item(0, 0)\n",
    "n, k = X.shape\n",
    "Varε = SSε/(n-k)\n",
    "Varβ = Varε * (X.T @ X).I\n",
    "σβ = np.sqrt(np.diag(Varβ))\n",
    "βexper_norm = (β[2] / σβ[2]).item(0, 0)\n",
    "tβexper = t.sf(βexper_norm, n-k)\n",
    "tβexper *= 2\n",
    "tβexper_max = t.ppf(0.95, n-k)\n",
    "\n",
    "print(f\"Since tβexper_max > tβexper ({tβexper_max} > {tβexper}) we don't reject the hypothesys H0: βexper = 0\")"
   ]
  },
  {
   "source": [
    "# Exercise 8"
   ],
   "cell_type": "markdown",
   "metadata": {}
  },
  {
   "cell_type": "code",
   "execution_count": null,
   "metadata": {},
   "outputs": [],
   "source": []
  },
  {
   "source": [
    "# Exercise 9"
   ],
   "cell_type": "markdown",
   "metadata": {}
  },
  {
   "cell_type": "code",
   "execution_count": null,
   "metadata": {},
   "outputs": [],
   "source": []
  }
 ]
}