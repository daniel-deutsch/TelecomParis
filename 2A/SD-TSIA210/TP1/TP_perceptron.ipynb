{
 "cells": [
  {
   "cell_type": "markdown",
   "metadata": {},
   "source": [
    "Look into the following pages to begin or find documentation on the python librairies used here:\n",
    "- http://www.python.org\n",
    "- http://scipy.org\n",
    "- http://www.numpy.org\n",
    "- http://scikit-learn.org/stable/index.html\n",
    "- http://www.loria.fr/~rougier/teaching/matplotlib/matplotlib.html"
   ]
  },
  {
   "cell_type": "markdown",
   "metadata": {},
   "source": [
    "## Introduction\n",
    "\n",
    "\n",
    "In this lab session, we will work on a first practical application of supervised learning, which is arguably the simplest one: **binary supervised classification**. We will generate artificial data from two different sources, and we will try to learn a classifier that will be able to separate the data, using the **perceptron**. "
   ]
  },
  {
   "cell_type": "markdown",
   "metadata": {},
   "source": [
    "### Definitions and notations\n",
    "\n",
    "- $\\mathcal{X}$ is a set of *examples/observations/samples* $\\mathbf{x} = (x_1, x_2, ..., x_p) \\in \\mathbb{R}^p$. We call $x_j$ the value taken by the $j$-th variable of $\\mathbf{x}$, or its $j$-th *feature*.\n",
    "- $\\mathcal{Y}$ is the set of labels. We are in the **binary** case: there is only two possible labels. We choose to note them $\\{ -1, 1\\}$, which will make things easy by allowing us to work with the ```sign``` function.\n",
    "- $\\mathcal{D}_n = \\{(x_i, y_i), i=1, .., n\\}$ is a dataset containing $n$ examples and their labels. \n",
    "- There exists a probabilistic model governing the generation of our data given i.i.d random variables $X$ and $Y$: $\\forall i \\in \\{ 1, ..., n \\}, (x_i, y_i) \\sim (X, Y)$\n",
    "- We would like to build, from $\\mathcal{D}_n$, a function that we call a *classifier*, $$\\hat{f}: \\mathcal{X} \\rightarrow \\{ -1, 1 \\}$$ which for a new data point $\\mathbf{x}_{new}$ will give a label $\\hat{f}(\\mathbf{x}_{new})$."
   ]
  },
  {
   "cell_type": "code",
   "execution_count": null,
   "metadata": {},
   "outputs": [],
   "source": [
    "\"\"\"From a lab created on Mon Sep 23 17:50:04 2013 by baskiotis, salmon, gramfort\n",
    "Modified on Mon Nov 4 21:09:38 2019 by mozharovskyi\n",
    "Modified on Wed Feb 17 by labeau\"\"\"\n",
    "\n",
    "import numpy as np\n",
    "import matplotlib.pyplot as plt\n",
    "from mpl_toolkits.mplot3d import Axes3D\n",
    "from matplotlib.colors import ListedColormap\n",
    "from matplotlib import cm\n",
    "import seaborn as sns\n",
    "from matplotlib import rc\n",
    "\n",
    "################################################################\n",
    "# Code for displaying labeled data - no understanding needed ! #\n",
    "################################################################\n",
    "\n",
    "symlist = ['o', 'p', '*', 's', '+', 'x', 'D', 'v', '-', '^']\n",
    "\n",
    "rc('font', **{'family': 'sans-serif', 'sans-serif': ['Computer Modern Roman']})\n",
    "params = {'axes.labelsize': 12,\n",
    "          'font.size': 16,\n",
    "          'legend.fontsize': 16,\n",
    "          'text.usetex': False,\n",
    "          'figure.figsize': (8, 6)}\n",
    "plt.rcParams.update(params)\n",
    "\n",
    "sns.set_context(\"poster\")\n",
    "sns.set_palette(\"colorblind\")\n",
    "sns.set_style(\"white\")\n",
    "sns.axes_style()"
   ]
  },
  {
   "cell_type": "markdown",
   "metadata": {},
   "source": [
    "## Generating artificial data \n",
    "\n",
    "For our first experiment, and in order to visualize what is happening, we will work with only two features (so, with $p=2$) so that we can plot the data and the classifier. \n",
    "\n",
    "1) Take a look at the function ```rand_gauss(n, mu, sigma)```: this function returns $n$ samples following the multi-dimensional normal distribution, with mean the vector $\\mu =$ ```mu```, and with the covariance matrix $\\Sigma$ being the diagonal matrix of the vector ```sigmas``` $=[ \\sigma_1, \\sigma_2]$. Hence, the matrix $$\\Sigma = \\begin{pmatrix}\n",
    "\\sigma_1&0 \\\\\n",
    "0 &\\sigma_2\n",
    "\\end{pmatrix}$$\n",
    "Now, generate different datasets from the function ```rand_bi_gauss``` function. What does the second output correspond to ? "
   ]
  },
  {
   "cell_type": "code",
   "execution_count": null,
   "metadata": {},
   "outputs": [],
   "source": [
    "def rand_gauss(n=100, mu=[1, 1], sigmas=[0.1, 0.1]):\n",
    "    \"\"\"Sample  points from a Gaussian variable.\n",
    "    Parameters\n",
    "    ----------\n",
    "    n : number of samples\n",
    "    mu : centered\n",
    "    sigma : standard deviation\n",
    "    \"\"\"\n",
    "    d = len(mu)\n",
    "    res = np.random.randn(n, d)\n",
    "    return np.array(mu + res * sigmas)\n",
    "\n",
    "\n",
    "def rand_bi_gauss(n1=100, n2=100, mu1=[1, 1], mu2=[-1, -1], sigmas1=[0.1, 0.1],\n",
    "                  sigmas2=[0.1, 0.1]):\n",
    "    \"\"\"Sample points from two Gaussian distributions.\n",
    "    Parameters\n",
    "    ----------\n",
    "    n1 : number of sample from first distribution\n",
    "    n2 : number of sample from second distribution\n",
    "    mu1 : center for first distribution\n",
    "    mu2 : center for second distribution\n",
    "    sigma1: std deviation for first distribution\n",
    "    sigma2: std deviation for second distribution\n",
    "    \"\"\"\n",
    "    ex1 = rand_gauss(n1, mu1, sigmas1)\n",
    "    ex2 = rand_gauss(n2, mu2, sigmas2)\n",
    "    y = np.hstack([np.ones(n1), -1 * np.ones(n2)])\n",
    "    X = np.vstack([ex1, ex2])\n",
    "    ind = np.random.permutation(n1 + n2)\n",
    "    return X[ind, :], y[ind]"
   ]
  },
  {
   "cell_type": "code",
   "execution_count": null,
   "metadata": {},
   "outputs": [],
   "source": [
    "X, y = rand_bi_gauss()"
   ]
  },
  {
   "cell_type": "markdown",
   "metadata": {},
   "source": [
    "2) Keep some of these datasets to use them in the rest of the lab. For each of them, save them as a numpy array with two coloumns for $X$, and as a vector for $Y$. Use the function ```plot_2d``` allowing you to visualize the data with their associated labels."
   ]
  },
  {
   "cell_type": "code",
   "execution_count": null,
   "metadata": {},
   "outputs": [],
   "source": [
    "def plot_2d(X, y, w=None, step=50, alpha_choice=1):\n",
    "    \"\"\"2D dataset data ploting according to labels.\n",
    "    Parameters\n",
    "    ----------\n",
    "    X : data features\n",
    "    y : label vector\n",
    "    w :(optional) the separating hyperplan w\n",
    "    alpha_choice : control alpha display parameter\n",
    "    \"\"\"\n",
    "    min_tot0 = np.min(X[:, 0])\n",
    "    min_tot1 = np.min(X[:, 1])\n",
    "\n",
    "    max_tot0 = np.max(X[:, 0])\n",
    "    max_tot1 = np.max(X[:, 1])\n",
    "    delta0 = (max_tot0 - min_tot0)\n",
    "    delta1 = (max_tot1 - min_tot1)\n",
    "    labels = np.unique(y)\n",
    "    k = np.unique(y).shape[0]\n",
    "    color_blind_list = sns.color_palette(\"colorblind\", k)\n",
    "    sns.set_palette(color_blind_list)\n",
    "    for i, label in enumerate(y):\n",
    "        label_num = np.where(labels == label)[0][0]\n",
    "        plt.scatter(X[i, 0], X[i, 1],\n",
    "                    c=np.reshape(color_blind_list[label_num], (1, -1)),\n",
    "                    s=80, marker=symlist[label_num])\n",
    "    plt.xlim([min_tot0 - delta0 / 10., max_tot0 + delta0 / 10.])\n",
    "    plt.ylim([min_tot1 - delta1 / 10., max_tot1 + delta1 / 10.])\n",
    "    if w is not None:\n",
    "        plt.plot([min_tot0, max_tot0],\n",
    "                 [min_tot0 * -w[1] / w[2] - w[0] / w[2],\n",
    "                  max_tot0 * -w[1] / w[2] - w[0] / w[2]],\n",
    "                 \"k\", alpha=alpha_choice)"
   ]
  },
  {
   "cell_type": "code",
   "execution_count": 10,
   "metadata": {},
   "outputs": [
    {
     "output_type": "display_data",
     "data": {
      "text/plain": "<Figure size 576x432 with 1 Axes>",
      "image/svg+xml": "<?xml version=\"1.0\" encoding=\"utf-8\" standalone=\"no\"?>\r\n<!DOCTYPE svg PUBLIC \"-//W3C//DTD SVG 1.1//EN\"\r\n  \"http://www.w3.org/Graphics/SVG/1.1/DTD/svg11.dtd\">\r\n<!-- Created with matplotlib (https://matplotlib.org/) -->\r\n<svg height=\"380.708129pt\" version=\"1.1\" viewBox=\"0 0 519.729375 380.708129\" width=\"519.729375pt\" xmlns=\"http://www.w3.org/2000/svg\" xmlns:xlink=\"http://www.w3.org/1999/xlink\">\r\n <metadata>\r\n  <rdf:RDF xmlns:cc=\"http://creativecommons.org/ns#\" xmlns:dc=\"http://purl.org/dc/elements/1.1/\" xmlns:rdf=\"http://www.w3.org/1999/02/22-rdf-syntax-ns#\">\r\n   <cc:Work>\r\n    <dc:type rdf:resource=\"http://purl.org/dc/dcmitype/StillImage\"/>\r\n    <dc:date>2021-02-19T14:26:41.655491</dc:date>\r\n    <dc:format>image/svg+xml</dc:format>\r\n    <dc:creator>\r\n     <cc:Agent>\r\n      <dc:title>Matplotlib v3.3.4, https://matplotlib.org/</dc:title>\r\n     </cc:Agent>\r\n    </dc:creator>\r\n   </cc:Work>\r\n  </rdf:RDF>\r\n </metadata>\r\n <defs>\r\n  <style type=\"text/css\">*{stroke-linecap:butt;stroke-linejoin:round;}</style>\r\n </defs>\r\n <g id=\"figure_1\">\r\n  <g id=\"patch_1\">\r\n   <path d=\"M 0 380.708129 \r\nL 519.729375 380.708129 \r\nL 519.729375 0 \r\nL 0 0 \r\nz\r\n\" style=\"fill:#ffffff;\"/>\r\n  </g>\r\n  <g id=\"axes_1\">\r\n   <g id=\"patch_2\">\r\n    <path d=\"M 66.129375 337.888442 \r\nL 512.529375 337.888442 \r\nL 512.529375 11.728442 \r\nL 66.129375 11.728442 \r\nz\r\n\" style=\"fill:#ffffff;\"/>\r\n   </g>\r\n   <g id=\"matplotlib.axis_1\">\r\n    <g id=\"xtick_1\">\r\n     <g id=\"text_1\">\r\n      <!-- −1 -->\r\n      <g style=\"fill:#262626;\" transform=\"translate(133.443424 369.135629)scale(0.22 -0.22)\">\r\n       <defs>\r\n        <path d=\"M 52.828125 31.203125 \r\nL 5.5625 31.203125 \r\nL 5.5625 39.40625 \r\nL 52.828125 39.40625 \r\nz\r\n\" id=\"ArialMT-8722\"/>\r\n        <path d=\"M 37.25 0 \r\nL 28.46875 0 \r\nL 28.46875 56 \r\nQ 25.296875 52.984375 20.140625 49.953125 \r\nQ 14.984375 46.921875 10.890625 45.40625 \r\nL 10.890625 53.90625 \r\nQ 18.265625 57.375 23.78125 62.296875 \r\nQ 29.296875 67.234375 31.59375 71.875 \r\nL 37.25 71.875 \r\nz\r\n\" id=\"ArialMT-49\"/>\r\n       </defs>\r\n       <use xlink:href=\"#ArialMT-8722\"/>\r\n       <use x=\"58.398438\" xlink:href=\"#ArialMT-49\"/>\r\n      </g>\r\n     </g>\r\n    </g>\r\n    <g id=\"xtick_2\">\r\n     <g id=\"text_2\">\r\n      <!-- 0 -->\r\n      <g style=\"fill:#262626;\" transform=\"translate(287.803481 369.135629)scale(0.22 -0.22)\">\r\n       <defs>\r\n        <path d=\"M 4.15625 35.296875 \r\nQ 4.15625 48 6.765625 55.734375 \r\nQ 9.375 63.484375 14.515625 67.671875 \r\nQ 19.671875 71.875 27.484375 71.875 \r\nQ 33.25 71.875 37.59375 69.546875 \r\nQ 41.9375 67.234375 44.765625 62.859375 \r\nQ 47.609375 58.5 49.21875 52.21875 \r\nQ 50.828125 45.953125 50.828125 35.296875 \r\nQ 50.828125 22.703125 48.234375 14.96875 \r\nQ 45.65625 7.234375 40.5 3 \r\nQ 35.359375 -1.21875 27.484375 -1.21875 \r\nQ 17.140625 -1.21875 11.234375 6.203125 \r\nQ 4.15625 15.140625 4.15625 35.296875 \r\nz\r\nM 13.1875 35.296875 \r\nQ 13.1875 17.671875 17.3125 11.828125 \r\nQ 21.4375 6 27.484375 6 \r\nQ 33.546875 6 37.671875 11.859375 \r\nQ 41.796875 17.71875 41.796875 35.296875 \r\nQ 41.796875 52.984375 37.671875 58.78125 \r\nQ 33.546875 64.59375 27.390625 64.59375 \r\nQ 21.34375 64.59375 17.71875 59.46875 \r\nQ 13.1875 52.9375 13.1875 35.296875 \r\nz\r\n\" id=\"ArialMT-48\"/>\r\n       </defs>\r\n       <use xlink:href=\"#ArialMT-48\"/>\r\n      </g>\r\n     </g>\r\n    </g>\r\n    <g id=\"xtick_3\">\r\n     <g id=\"text_3\">\r\n      <!-- 1 -->\r\n      <g style=\"fill:#262626;\" transform=\"translate(435.73885 369.135629)scale(0.22 -0.22)\">\r\n       <use xlink:href=\"#ArialMT-49\"/>\r\n      </g>\r\n     </g>\r\n    </g>\r\n   </g>\r\n   <g id=\"matplotlib.axis_2\">\r\n    <g id=\"ytick_1\">\r\n     <g id=\"text_4\">\r\n      <!-- −1.0 -->\r\n      <g style=\"fill:#262626;\" transform=\"translate(7.2 292.105029)scale(0.22 -0.22)\">\r\n       <defs>\r\n        <path d=\"M 9.078125 0 \r\nL 9.078125 10.015625 \r\nL 19.09375 10.015625 \r\nL 19.09375 0 \r\nz\r\n\" id=\"ArialMT-46\"/>\r\n       </defs>\r\n       <use xlink:href=\"#ArialMT-8722\"/>\r\n       <use x=\"58.398438\" xlink:href=\"#ArialMT-49\"/>\r\n       <use x=\"114.013672\" xlink:href=\"#ArialMT-46\"/>\r\n       <use x=\"141.796875\" xlink:href=\"#ArialMT-48\"/>\r\n      </g>\r\n     </g>\r\n    </g>\r\n    <g id=\"ytick_2\">\r\n     <g id=\"text_5\">\r\n      <!-- −0.5 -->\r\n      <g style=\"fill:#262626;\" transform=\"translate(7.2 238.273461)scale(0.22 -0.22)\">\r\n       <defs>\r\n        <path d=\"M 4.15625 18.75 \r\nL 13.375 19.53125 \r\nQ 14.40625 12.796875 18.140625 9.390625 \r\nQ 21.875 6 27.15625 6 \r\nQ 33.5 6 37.890625 10.78125 \r\nQ 42.28125 15.578125 42.28125 23.484375 \r\nQ 42.28125 31 38.0625 35.34375 \r\nQ 33.84375 39.703125 27 39.703125 \r\nQ 22.75 39.703125 19.328125 37.765625 \r\nQ 15.921875 35.84375 13.96875 32.765625 \r\nL 5.71875 33.84375 \r\nL 12.640625 70.609375 \r\nL 48.25 70.609375 \r\nL 48.25 62.203125 \r\nL 19.671875 62.203125 \r\nL 15.828125 42.96875 \r\nQ 22.265625 47.46875 29.34375 47.46875 \r\nQ 38.71875 47.46875 45.15625 40.96875 \r\nQ 51.609375 34.46875 51.609375 24.265625 \r\nQ 51.609375 14.546875 45.953125 7.46875 \r\nQ 39.0625 -1.21875 27.15625 -1.21875 \r\nQ 17.390625 -1.21875 11.203125 4.25 \r\nQ 5.03125 9.71875 4.15625 18.75 \r\nz\r\n\" id=\"ArialMT-53\"/>\r\n       </defs>\r\n       <use xlink:href=\"#ArialMT-8722\"/>\r\n       <use x=\"58.398438\" xlink:href=\"#ArialMT-48\"/>\r\n       <use x=\"114.013672\" xlink:href=\"#ArialMT-46\"/>\r\n       <use x=\"141.796875\" xlink:href=\"#ArialMT-53\"/>\r\n      </g>\r\n     </g>\r\n    </g>\r\n    <g id=\"ytick_3\">\r\n     <g id=\"text_6\">\r\n      <!-- 0.0 -->\r\n      <g style=\"fill:#262626;\" transform=\"translate(20.049375 184.441892)scale(0.22 -0.22)\">\r\n       <use xlink:href=\"#ArialMT-48\"/>\r\n       <use x=\"55.615234\" xlink:href=\"#ArialMT-46\"/>\r\n       <use x=\"83.398438\" xlink:href=\"#ArialMT-48\"/>\r\n      </g>\r\n     </g>\r\n    </g>\r\n    <g id=\"ytick_4\">\r\n     <g id=\"text_7\">\r\n      <!-- 0.5 -->\r\n      <g style=\"fill:#262626;\" transform=\"translate(20.049375 130.610324)scale(0.22 -0.22)\">\r\n       <use xlink:href=\"#ArialMT-48\"/>\r\n       <use x=\"55.615234\" xlink:href=\"#ArialMT-46\"/>\r\n       <use x=\"83.398438\" xlink:href=\"#ArialMT-53\"/>\r\n      </g>\r\n     </g>\r\n    </g>\r\n    <g id=\"ytick_5\">\r\n     <g id=\"text_8\">\r\n      <!-- 1.0 -->\r\n      <g style=\"fill:#262626;\" transform=\"translate(20.049375 76.778756)scale(0.22 -0.22)\">\r\n       <use xlink:href=\"#ArialMT-49\"/>\r\n       <use x=\"55.615234\" xlink:href=\"#ArialMT-46\"/>\r\n       <use x=\"83.398438\" xlink:href=\"#ArialMT-48\"/>\r\n      </g>\r\n     </g>\r\n    </g>\r\n    <g id=\"ytick_6\">\r\n     <g id=\"text_9\">\r\n      <!-- 1.5 -->\r\n      <g style=\"fill:#262626;\" transform=\"translate(20.049375 22.947187)scale(0.22 -0.22)\">\r\n       <use xlink:href=\"#ArialMT-49\"/>\r\n       <use x=\"55.615234\" xlink:href=\"#ArialMT-46\"/>\r\n       <use x=\"83.398438\" xlink:href=\"#ArialMT-53\"/>\r\n      </g>\r\n     </g>\r\n    </g>\r\n   </g>\r\n   <g id=\"PathCollection_1\">\r\n    <defs>\r\n     <path d=\"M 0 -4.472136 \r\nL -4.253254 -1.381966 \r\nL -2.628656 3.618034 \r\nL 2.628656 3.618034 \r\nL 4.253254 -1.381966 \r\nz\r\n\" id=\"mfe32e36417\" style=\"stroke:#de8f05;stroke-width:2;\"/>\r\n    </defs>\r\n    <g clip-path=\"url(#pab8bfe1fa5)\">\r\n     <use style=\"fill:#de8f05;stroke:#de8f05;stroke-width:2;\" x=\"461.06698\" xlink:href=\"#mfe32e36417\" y=\"66.575943\"/>\r\n    </g>\r\n   </g>\r\n   <g id=\"PathCollection_2\">\r\n    <g clip-path=\"url(#pab8bfe1fa5)\">\r\n     <use style=\"fill:#de8f05;stroke:#de8f05;stroke-width:2;\" x=\"440.552638\" xlink:href=\"#mfe32e36417\" y=\"90.682522\"/>\r\n    </g>\r\n   </g>\r\n   <g id=\"PathCollection_3\">\r\n    <defs>\r\n     <path d=\"M 0 4.472136 \r\nC 1.186024 4.472136 2.323632 4.000923 3.162278 3.162278 \r\nC 4.000923 2.323632 4.472136 1.186024 4.472136 0 \r\nC 4.472136 -1.186024 4.000923 -2.323632 3.162278 -3.162278 \r\nC 2.323632 -4.000923 1.186024 -4.472136 0 -4.472136 \r\nC -1.186024 -4.472136 -2.323632 -4.000923 -3.162278 -3.162278 \r\nC -4.000923 -2.323632 -4.472136 -1.186024 -4.472136 0 \r\nC -4.472136 1.186024 -4.000923 2.323632 -3.162278 3.162278 \r\nC -2.323632 4.000923 -1.186024 4.472136 0 4.472136 \r\nz\r\n\" id=\"mb8b274ca85\" style=\"stroke:#0173b2;stroke-width:2;\"/>\r\n    </defs>\r\n    <g clip-path=\"url(#pab8bfe1fa5)\">\r\n     <use style=\"fill:#0173b2;stroke:#0173b2;stroke-width:2;\" x=\"135.831654\" xlink:href=\"#mb8b274ca85\" y=\"267.942737\"/>\r\n    </g>\r\n   </g>\r\n   <g id=\"PathCollection_4\">\r\n    <g clip-path=\"url(#pab8bfe1fa5)\">\r\n     <use style=\"fill:#de8f05;stroke:#de8f05;stroke-width:2;\" x=\"436.004514\" xlink:href=\"#mfe32e36417\" y=\"72.890199\"/>\r\n    </g>\r\n   </g>\r\n   <g id=\"PathCollection_5\">\r\n    <g clip-path=\"url(#pab8bfe1fa5)\">\r\n     <use style=\"fill:#de8f05;stroke:#de8f05;stroke-width:2;\" x=\"443.778219\" xlink:href=\"#mfe32e36417\" y=\"65.191202\"/>\r\n    </g>\r\n   </g>\r\n   <g id=\"PathCollection_6\">\r\n    <g clip-path=\"url(#pab8bfe1fa5)\">\r\n     <use style=\"fill:#0173b2;stroke:#0173b2;stroke-width:2;\" x=\"131.805519\" xlink:href=\"#mb8b274ca85\" y=\"293.030592\"/>\r\n    </g>\r\n   </g>\r\n   <g id=\"PathCollection_7\">\r\n    <g clip-path=\"url(#pab8bfe1fa5)\">\r\n     <use style=\"fill:#0173b2;stroke:#0173b2;stroke-width:2;\" x=\"155.145575\" xlink:href=\"#mb8b274ca85\" y=\"292.39866\"/>\r\n    </g>\r\n   </g>\r\n   <g id=\"PathCollection_8\">\r\n    <g clip-path=\"url(#pab8bfe1fa5)\">\r\n     <use style=\"fill:#0173b2;stroke:#0173b2;stroke-width:2;\" x=\"149.382889\" xlink:href=\"#mb8b274ca85\" y=\"303.69114\"/>\r\n    </g>\r\n   </g>\r\n   <g id=\"PathCollection_9\">\r\n    <g clip-path=\"url(#pab8bfe1fa5)\">\r\n     <use style=\"fill:#de8f05;stroke:#de8f05;stroke-width:2;\" x=\"417.420976\" xlink:href=\"#mfe32e36417\" y=\"71.378084\"/>\r\n    </g>\r\n   </g>\r\n   <g id=\"PathCollection_10\">\r\n    <g clip-path=\"url(#pab8bfe1fa5)\">\r\n     <use style=\"fill:#0173b2;stroke:#0173b2;stroke-width:2;\" x=\"137.583236\" xlink:href=\"#mb8b274ca85\" y=\"295.27975\"/>\r\n    </g>\r\n   </g>\r\n   <g id=\"PathCollection_11\">\r\n    <g clip-path=\"url(#pab8bfe1fa5)\">\r\n     <use style=\"fill:#0173b2;stroke:#0173b2;stroke-width:2;\" x=\"133.494238\" xlink:href=\"#mb8b274ca85\" y=\"292.240641\"/>\r\n    </g>\r\n   </g>\r\n   <g id=\"PathCollection_12\">\r\n    <g clip-path=\"url(#pab8bfe1fa5)\">\r\n     <use style=\"fill:#de8f05;stroke:#de8f05;stroke-width:2;\" x=\"442.41605\" xlink:href=\"#mfe32e36417\" y=\"55.785521\"/>\r\n    </g>\r\n   </g>\r\n   <g id=\"PathCollection_13\">\r\n    <g clip-path=\"url(#pab8bfe1fa5)\">\r\n     <use style=\"fill:#de8f05;stroke:#de8f05;stroke-width:2;\" x=\"446.591473\" xlink:href=\"#mfe32e36417\" y=\"71.074718\"/>\r\n    </g>\r\n   </g>\r\n   <g id=\"PathCollection_14\">\r\n    <g clip-path=\"url(#pab8bfe1fa5)\">\r\n     <use style=\"fill:#0173b2;stroke:#0173b2;stroke-width:2;\" x=\"132.357044\" xlink:href=\"#mb8b274ca85\" y=\"283.785658\"/>\r\n    </g>\r\n   </g>\r\n   <g id=\"PathCollection_15\">\r\n    <g clip-path=\"url(#pab8bfe1fa5)\">\r\n     <use style=\"fill:#0173b2;stroke:#0173b2;stroke-width:2;\" x=\"142.899056\" xlink:href=\"#mb8b274ca85\" y=\"292.259373\"/>\r\n    </g>\r\n   </g>\r\n   <g id=\"PathCollection_16\">\r\n    <g clip-path=\"url(#pab8bfe1fa5)\">\r\n     <use style=\"fill:#0173b2;stroke:#0173b2;stroke-width:2;\" x=\"166.147998\" xlink:href=\"#mb8b274ca85\" y=\"277.404231\"/>\r\n    </g>\r\n   </g>\r\n   <g id=\"PathCollection_17\">\r\n    <g clip-path=\"url(#pab8bfe1fa5)\">\r\n     <use style=\"fill:#de8f05;stroke:#de8f05;stroke-width:2;\" x=\"435.85398\" xlink:href=\"#mfe32e36417\" y=\"77.921044\"/>\r\n    </g>\r\n   </g>\r\n   <g id=\"PathCollection_18\">\r\n    <g clip-path=\"url(#pab8bfe1fa5)\">\r\n     <use style=\"fill:#de8f05;stroke:#de8f05;stroke-width:2;\" x=\"440.573617\" xlink:href=\"#mfe32e36417\" y=\"73.466923\"/>\r\n    </g>\r\n   </g>\r\n   <g id=\"PathCollection_19\">\r\n    <g clip-path=\"url(#pab8bfe1fa5)\">\r\n     <use style=\"fill:#de8f05;stroke:#de8f05;stroke-width:2;\" x=\"433.027743\" xlink:href=\"#mfe32e36417\" y=\"54.192425\"/>\r\n    </g>\r\n   </g>\r\n   <g id=\"PathCollection_20\">\r\n    <g clip-path=\"url(#pab8bfe1fa5)\">\r\n     <use style=\"fill:#de8f05;stroke:#de8f05;stroke-width:2;\" x=\"447.539982\" xlink:href=\"#mfe32e36417\" y=\"57.974749\"/>\r\n    </g>\r\n   </g>\r\n   <g id=\"PathCollection_21\">\r\n    <g clip-path=\"url(#pab8bfe1fa5)\">\r\n     <use style=\"fill:#0173b2;stroke:#0173b2;stroke-width:2;\" x=\"112.843137\" xlink:href=\"#mb8b274ca85\" y=\"285.250538\"/>\r\n    </g>\r\n   </g>\r\n   <g id=\"PathCollection_22\">\r\n    <g clip-path=\"url(#pab8bfe1fa5)\">\r\n     <use style=\"fill:#0173b2;stroke:#0173b2;stroke-width:2;\" x=\"136.262298\" xlink:href=\"#mb8b274ca85\" y=\"265.541307\"/>\r\n    </g>\r\n   </g>\r\n   <g id=\"PathCollection_23\">\r\n    <g clip-path=\"url(#pab8bfe1fa5)\">\r\n     <use style=\"fill:#0173b2;stroke:#0173b2;stroke-width:2;\" x=\"166.891572\" xlink:href=\"#mb8b274ca85\" y=\"281.216691\"/>\r\n    </g>\r\n   </g>\r\n   <g id=\"PathCollection_24\">\r\n    <g clip-path=\"url(#pab8bfe1fa5)\">\r\n     <use style=\"fill:#de8f05;stroke:#de8f05;stroke-width:2;\" x=\"431.305944\" xlink:href=\"#mfe32e36417\" y=\"82.184763\"/>\r\n    </g>\r\n   </g>\r\n   <g id=\"PathCollection_25\">\r\n    <g clip-path=\"url(#pab8bfe1fa5)\">\r\n     <use style=\"fill:#de8f05;stroke:#de8f05;stroke-width:2;\" x=\"432.603605\" xlink:href=\"#mfe32e36417\" y=\"58.953954\"/>\r\n    </g>\r\n   </g>\r\n   <g id=\"PathCollection_26\">\r\n    <g clip-path=\"url(#pab8bfe1fa5)\">\r\n     <use style=\"fill:#de8f05;stroke:#de8f05;stroke-width:2;\" x=\"427.102113\" xlink:href=\"#mfe32e36417\" y=\"71.384128\"/>\r\n    </g>\r\n   </g>\r\n   <g id=\"PathCollection_27\">\r\n    <g clip-path=\"url(#pab8bfe1fa5)\">\r\n     <use style=\"fill:#0173b2;stroke:#0173b2;stroke-width:2;\" x=\"154.754542\" xlink:href=\"#mb8b274ca85\" y=\"300.405971\"/>\r\n    </g>\r\n   </g>\r\n   <g id=\"PathCollection_28\">\r\n    <g clip-path=\"url(#pab8bfe1fa5)\">\r\n     <use style=\"fill:#0173b2;stroke:#0173b2;stroke-width:2;\" x=\"155.044098\" xlink:href=\"#mb8b274ca85\" y=\"297.655722\"/>\r\n    </g>\r\n   </g>\r\n   <g id=\"PathCollection_29\">\r\n    <g clip-path=\"url(#pab8bfe1fa5)\">\r\n     <use style=\"fill:#0173b2;stroke:#0173b2;stroke-width:2;\" x=\"151.627357\" xlink:href=\"#mb8b274ca85\" y=\"278.284587\"/>\r\n    </g>\r\n   </g>\r\n   <g id=\"PathCollection_30\">\r\n    <g clip-path=\"url(#pab8bfe1fa5)\">\r\n     <use style=\"fill:#de8f05;stroke:#de8f05;stroke-width:2;\" x=\"425.870956\" xlink:href=\"#mfe32e36417\" y=\"83.11124\"/>\r\n    </g>\r\n   </g>\r\n   <g id=\"PathCollection_31\">\r\n    <g clip-path=\"url(#pab8bfe1fa5)\">\r\n     <use style=\"fill:#de8f05;stroke:#de8f05;stroke-width:2;\" x=\"457.060546\" xlink:href=\"#mfe32e36417\" y=\"71.518875\"/>\r\n    </g>\r\n   </g>\r\n   <g id=\"PathCollection_32\">\r\n    <g clip-path=\"url(#pab8bfe1fa5)\">\r\n     <use style=\"fill:#0173b2;stroke:#0173b2;stroke-width:2;\" x=\"142.048607\" xlink:href=\"#mb8b274ca85\" y=\"279.678654\"/>\r\n    </g>\r\n   </g>\r\n   <g id=\"PathCollection_33\">\r\n    <g clip-path=\"url(#pab8bfe1fa5)\">\r\n     <use style=\"fill:#0173b2;stroke:#0173b2;stroke-width:2;\" x=\"115.083684\" xlink:href=\"#mb8b274ca85\" y=\"278.789856\"/>\r\n    </g>\r\n   </g>\r\n   <g id=\"PathCollection_34\">\r\n    <g clip-path=\"url(#pab8bfe1fa5)\">\r\n     <use style=\"fill:#0173b2;stroke:#0173b2;stroke-width:2;\" x=\"157.503244\" xlink:href=\"#mb8b274ca85\" y=\"263.739872\"/>\r\n    </g>\r\n   </g>\r\n   <g id=\"PathCollection_35\">\r\n    <g clip-path=\"url(#pab8bfe1fa5)\">\r\n     <use style=\"fill:#de8f05;stroke:#de8f05;stroke-width:2;\" x=\"458.348098\" xlink:href=\"#mfe32e36417\" y=\"73.627182\"/>\r\n    </g>\r\n   </g>\r\n   <g id=\"PathCollection_36\">\r\n    <g clip-path=\"url(#pab8bfe1fa5)\">\r\n     <use style=\"fill:#0173b2;stroke:#0173b2;stroke-width:2;\" x=\"152.755792\" xlink:href=\"#mb8b274ca85\" y=\"276.573218\"/>\r\n    </g>\r\n   </g>\r\n   <g id=\"PathCollection_37\">\r\n    <g clip-path=\"url(#pab8bfe1fa5)\">\r\n     <use style=\"fill:#de8f05;stroke:#de8f05;stroke-width:2;\" x=\"421.11555\" xlink:href=\"#mfe32e36417\" y=\"52.081938\"/>\r\n    </g>\r\n   </g>\r\n   <g id=\"PathCollection_38\">\r\n    <g clip-path=\"url(#pab8bfe1fa5)\">\r\n     <use style=\"fill:#0173b2;stroke:#0173b2;stroke-width:2;\" x=\"152.170592\" xlink:href=\"#mb8b274ca85\" y=\"282.439407\"/>\r\n    </g>\r\n   </g>\r\n   <g id=\"PathCollection_39\">\r\n    <g clip-path=\"url(#pab8bfe1fa5)\">\r\n     <use style=\"fill:#de8f05;stroke:#de8f05;stroke-width:2;\" x=\"427.817403\" xlink:href=\"#mfe32e36417\" y=\"73.842034\"/>\r\n    </g>\r\n   </g>\r\n   <g id=\"PathCollection_40\">\r\n    <g clip-path=\"url(#pab8bfe1fa5)\">\r\n     <use style=\"fill:#de8f05;stroke:#de8f05;stroke-width:2;\" x=\"451.229657\" xlink:href=\"#mfe32e36417\" y=\"68.759357\"/>\r\n    </g>\r\n   </g>\r\n   <g id=\"PathCollection_41\">\r\n    <g clip-path=\"url(#pab8bfe1fa5)\">\r\n     <use style=\"fill:#0173b2;stroke:#0173b2;stroke-width:2;\" x=\"136.199626\" xlink:href=\"#mb8b274ca85\" y=\"286.134038\"/>\r\n    </g>\r\n   </g>\r\n   <g id=\"PathCollection_42\">\r\n    <g clip-path=\"url(#pab8bfe1fa5)\">\r\n     <use style=\"fill:#de8f05;stroke:#de8f05;stroke-width:2;\" x=\"389.512507\" xlink:href=\"#mfe32e36417\" y=\"82.244599\"/>\r\n    </g>\r\n   </g>\r\n   <g id=\"PathCollection_43\">\r\n    <g clip-path=\"url(#pab8bfe1fa5)\">\r\n     <use style=\"fill:#de8f05;stroke:#de8f05;stroke-width:2;\" x=\"449.614012\" xlink:href=\"#mfe32e36417\" y=\"79.786998\"/>\r\n    </g>\r\n   </g>\r\n   <g id=\"PathCollection_44\">\r\n    <g clip-path=\"url(#pab8bfe1fa5)\">\r\n     <use style=\"fill:#de8f05;stroke:#de8f05;stroke-width:2;\" x=\"468.516125\" xlink:href=\"#mfe32e36417\" y=\"78.148059\"/>\r\n    </g>\r\n   </g>\r\n   <g id=\"PathCollection_45\">\r\n    <g clip-path=\"url(#pab8bfe1fa5)\">\r\n     <use style=\"fill:#0173b2;stroke:#0173b2;stroke-width:2;\" x=\"142.770404\" xlink:href=\"#mb8b274ca85\" y=\"286.748206\"/>\r\n    </g>\r\n   </g>\r\n   <g id=\"PathCollection_46\">\r\n    <g clip-path=\"url(#pab8bfe1fa5)\">\r\n     <use style=\"fill:#0173b2;stroke:#0173b2;stroke-width:2;\" x=\"142.509911\" xlink:href=\"#mb8b274ca85\" y=\"280.170649\"/>\r\n    </g>\r\n   </g>\r\n   <g id=\"PathCollection_47\">\r\n    <g clip-path=\"url(#pab8bfe1fa5)\">\r\n     <use style=\"fill:#de8f05;stroke:#de8f05;stroke-width:2;\" x=\"422.92752\" xlink:href=\"#mfe32e36417\" y=\"89.13319\"/>\r\n    </g>\r\n   </g>\r\n   <g id=\"PathCollection_48\">\r\n    <g clip-path=\"url(#pab8bfe1fa5)\">\r\n     <use style=\"fill:#de8f05;stroke:#de8f05;stroke-width:2;\" x=\"438.067051\" xlink:href=\"#mfe32e36417\" y=\"56.436006\"/>\r\n    </g>\r\n   </g>\r\n   <g id=\"PathCollection_49\">\r\n    <g clip-path=\"url(#pab8bfe1fa5)\">\r\n     <use style=\"fill:#de8f05;stroke:#de8f05;stroke-width:2;\" x=\"418.991062\" xlink:href=\"#mfe32e36417\" y=\"73.4849\"/>\r\n    </g>\r\n   </g>\r\n   <g id=\"PathCollection_50\">\r\n    <g clip-path=\"url(#pab8bfe1fa5)\">\r\n     <use style=\"fill:#de8f05;stroke:#de8f05;stroke-width:2;\" x=\"423.443476\" xlink:href=\"#mfe32e36417\" y=\"72.720452\"/>\r\n    </g>\r\n   </g>\r\n   <g id=\"PathCollection_51\">\r\n    <g clip-path=\"url(#pab8bfe1fa5)\">\r\n     <use style=\"fill:#0173b2;stroke:#0173b2;stroke-width:2;\" x=\"136.377569\" xlink:href=\"#mb8b274ca85\" y=\"297.647756\"/>\r\n    </g>\r\n   </g>\r\n   <g id=\"PathCollection_52\">\r\n    <g clip-path=\"url(#pab8bfe1fa5)\">\r\n     <use style=\"fill:#0173b2;stroke:#0173b2;stroke-width:2;\" x=\"136.727679\" xlink:href=\"#mb8b274ca85\" y=\"290.05001\"/>\r\n    </g>\r\n   </g>\r\n   <g id=\"PathCollection_53\">\r\n    <g clip-path=\"url(#pab8bfe1fa5)\">\r\n     <use style=\"fill:#0173b2;stroke:#0173b2;stroke-width:2;\" x=\"159.206234\" xlink:href=\"#mb8b274ca85\" y=\"296.930217\"/>\r\n    </g>\r\n   </g>\r\n   <g id=\"PathCollection_54\">\r\n    <g clip-path=\"url(#pab8bfe1fa5)\">\r\n     <use style=\"fill:#de8f05;stroke:#de8f05;stroke-width:2;\" x=\"430.447878\" xlink:href=\"#mfe32e36417\" y=\"79.802589\"/>\r\n    </g>\r\n   </g>\r\n   <g id=\"PathCollection_55\">\r\n    <g clip-path=\"url(#pab8bfe1fa5)\">\r\n     <use style=\"fill:#0173b2;stroke:#0173b2;stroke-width:2;\" x=\"165.370069\" xlink:href=\"#mb8b274ca85\" y=\"286.378324\"/>\r\n    </g>\r\n   </g>\r\n   <g id=\"PathCollection_56\">\r\n    <g clip-path=\"url(#pab8bfe1fa5)\">\r\n     <use style=\"fill:#de8f05;stroke:#de8f05;stroke-width:2;\" x=\"455.676631\" xlink:href=\"#mfe32e36417\" y=\"86.066608\"/>\r\n    </g>\r\n   </g>\r\n   <g id=\"PathCollection_57\">\r\n    <g clip-path=\"url(#pab8bfe1fa5)\">\r\n     <use style=\"fill:#0173b2;stroke:#0173b2;stroke-width:2;\" x=\"144.600679\" xlink:href=\"#mb8b274ca85\" y=\"292.328343\"/>\r\n    </g>\r\n   </g>\r\n   <g id=\"PathCollection_58\">\r\n    <g clip-path=\"url(#pab8bfe1fa5)\">\r\n     <use style=\"fill:#0173b2;stroke:#0173b2;stroke-width:2;\" x=\"141.516187\" xlink:href=\"#mb8b274ca85\" y=\"282.336091\"/>\r\n    </g>\r\n   </g>\r\n   <g id=\"PathCollection_59\">\r\n    <g clip-path=\"url(#pab8bfe1fa5)\">\r\n     <use style=\"fill:#de8f05;stroke:#de8f05;stroke-width:2;\" x=\"426.829099\" xlink:href=\"#mfe32e36417\" y=\"52.73477\"/>\r\n    </g>\r\n   </g>\r\n   <g id=\"PathCollection_60\">\r\n    <g clip-path=\"url(#pab8bfe1fa5)\">\r\n     <use style=\"fill:#de8f05;stroke:#de8f05;stroke-width:2;\" x=\"447.131861\" xlink:href=\"#mfe32e36417\" y=\"78.355622\"/>\r\n    </g>\r\n   </g>\r\n   <g id=\"PathCollection_61\">\r\n    <g clip-path=\"url(#pab8bfe1fa5)\">\r\n     <use style=\"fill:#de8f05;stroke:#de8f05;stroke-width:2;\" x=\"442.664284\" xlink:href=\"#mfe32e36417\" y=\"67.85684\"/>\r\n    </g>\r\n   </g>\r\n   <g id=\"PathCollection_62\">\r\n    <g clip-path=\"url(#pab8bfe1fa5)\">\r\n     <use style=\"fill:#de8f05;stroke:#de8f05;stroke-width:2;\" x=\"436.739346\" xlink:href=\"#mfe32e36417\" y=\"82.397088\"/>\r\n    </g>\r\n   </g>\r\n   <g id=\"PathCollection_63\">\r\n    <g clip-path=\"url(#pab8bfe1fa5)\">\r\n     <use style=\"fill:#0173b2;stroke:#0173b2;stroke-width:2;\" x=\"120.358273\" xlink:href=\"#mb8b274ca85\" y=\"277.953151\"/>\r\n    </g>\r\n   </g>\r\n   <g id=\"PathCollection_64\">\r\n    <g clip-path=\"url(#pab8bfe1fa5)\">\r\n     <use style=\"fill:#de8f05;stroke:#de8f05;stroke-width:2;\" x=\"431.113533\" xlink:href=\"#mfe32e36417\" y=\"61.91155\"/>\r\n    </g>\r\n   </g>\r\n   <g id=\"PathCollection_65\">\r\n    <g clip-path=\"url(#pab8bfe1fa5)\">\r\n     <use style=\"fill:#0173b2;stroke:#0173b2;stroke-width:2;\" x=\"139.737349\" xlink:href=\"#mb8b274ca85\" y=\"283.404985\"/>\r\n    </g>\r\n   </g>\r\n   <g id=\"PathCollection_66\">\r\n    <g clip-path=\"url(#pab8bfe1fa5)\">\r\n     <use style=\"fill:#0173b2;stroke:#0173b2;stroke-width:2;\" x=\"169.987818\" xlink:href=\"#mb8b274ca85\" y=\"264.262323\"/>\r\n    </g>\r\n   </g>\r\n   <g id=\"PathCollection_67\">\r\n    <g clip-path=\"url(#pab8bfe1fa5)\">\r\n     <use style=\"fill:#de8f05;stroke:#de8f05;stroke-width:2;\" x=\"432.964613\" xlink:href=\"#mfe32e36417\" y=\"49.293276\"/>\r\n    </g>\r\n   </g>\r\n   <g id=\"PathCollection_68\">\r\n    <g clip-path=\"url(#pab8bfe1fa5)\">\r\n     <use style=\"fill:#de8f05;stroke:#de8f05;stroke-width:2;\" x=\"440.573439\" xlink:href=\"#mfe32e36417\" y=\"88.847586\"/>\r\n    </g>\r\n   </g>\r\n   <g id=\"PathCollection_69\">\r\n    <g clip-path=\"url(#pab8bfe1fa5)\">\r\n     <use style=\"fill:#de8f05;stroke:#de8f05;stroke-width:2;\" x=\"438.283796\" xlink:href=\"#mfe32e36417\" y=\"74.029746\"/>\r\n    </g>\r\n   </g>\r\n   <g id=\"PathCollection_70\">\r\n    <g clip-path=\"url(#pab8bfe1fa5)\">\r\n     <use style=\"fill:#de8f05;stroke:#de8f05;stroke-width:2;\" x=\"450.403143\" xlink:href=\"#mfe32e36417\" y=\"68.581479\"/>\r\n    </g>\r\n   </g>\r\n   <g id=\"PathCollection_71\">\r\n    <g clip-path=\"url(#pab8bfe1fa5)\">\r\n     <use style=\"fill:#de8f05;stroke:#de8f05;stroke-width:2;\" x=\"434.861565\" xlink:href=\"#mfe32e36417\" y=\"69.022868\"/>\r\n    </g>\r\n   </g>\r\n   <g id=\"PathCollection_72\">\r\n    <g clip-path=\"url(#pab8bfe1fa5)\">\r\n     <use style=\"fill:#0173b2;stroke:#0173b2;stroke-width:2;\" x=\"125.750879\" xlink:href=\"#mb8b274ca85\" y=\"289.021372\"/>\r\n    </g>\r\n   </g>\r\n   <g id=\"PathCollection_73\">\r\n    <g clip-path=\"url(#pab8bfe1fa5)\">\r\n     <use style=\"fill:#de8f05;stroke:#de8f05;stroke-width:2;\" x=\"418.946601\" xlink:href=\"#mfe32e36417\" y=\"73.358952\"/>\r\n    </g>\r\n   </g>\r\n   <g id=\"PathCollection_74\">\r\n    <g clip-path=\"url(#pab8bfe1fa5)\">\r\n     <use style=\"fill:#0173b2;stroke:#0173b2;stroke-width:2;\" x=\"168.920559\" xlink:href=\"#mb8b274ca85\" y=\"289.60943\"/>\r\n    </g>\r\n   </g>\r\n   <g id=\"PathCollection_75\">\r\n    <g clip-path=\"url(#pab8bfe1fa5)\">\r\n     <use style=\"fill:#0173b2;stroke:#0173b2;stroke-width:2;\" x=\"171.552762\" xlink:href=\"#mb8b274ca85\" y=\"284.770899\"/>\r\n    </g>\r\n   </g>\r\n   <g id=\"PathCollection_76\">\r\n    <g clip-path=\"url(#pab8bfe1fa5)\">\r\n     <use style=\"fill:#de8f05;stroke:#de8f05;stroke-width:2;\" x=\"434.694894\" xlink:href=\"#mfe32e36417\" y=\"46.154531\"/>\r\n    </g>\r\n   </g>\r\n   <g id=\"PathCollection_77\">\r\n    <g clip-path=\"url(#pab8bfe1fa5)\">\r\n     <use style=\"fill:#de8f05;stroke:#de8f05;stroke-width:2;\" x=\"471.4214\" xlink:href=\"#mfe32e36417\" y=\"82.363866\"/>\r\n    </g>\r\n   </g>\r\n   <g id=\"PathCollection_78\">\r\n    <g clip-path=\"url(#pab8bfe1fa5)\">\r\n     <use style=\"fill:#de8f05;stroke:#de8f05;stroke-width:2;\" x=\"433.252052\" xlink:href=\"#mfe32e36417\" y=\"76.282675\"/>\r\n    </g>\r\n   </g>\r\n   <g id=\"PathCollection_79\">\r\n    <g clip-path=\"url(#pab8bfe1fa5)\">\r\n     <use style=\"fill:#0173b2;stroke:#0173b2;stroke-width:2;\" x=\"108.610109\" xlink:href=\"#mb8b274ca85\" y=\"281.636769\"/>\r\n    </g>\r\n   </g>\r\n   <g id=\"PathCollection_80\">\r\n    <g clip-path=\"url(#pab8bfe1fa5)\">\r\n     <use style=\"fill:#0173b2;stroke:#0173b2;stroke-width:2;\" x=\"161.726649\" xlink:href=\"#mb8b274ca85\" y=\"297.764929\"/>\r\n    </g>\r\n   </g>\r\n   <g id=\"PathCollection_81\">\r\n    <g clip-path=\"url(#pab8bfe1fa5)\">\r\n     <use style=\"fill:#0173b2;stroke:#0173b2;stroke-width:2;\" x=\"158.027518\" xlink:href=\"#mb8b274ca85\" y=\"271.288581\"/>\r\n    </g>\r\n   </g>\r\n   <g id=\"PathCollection_82\">\r\n    <g clip-path=\"url(#pab8bfe1fa5)\">\r\n     <use style=\"fill:#de8f05;stroke:#de8f05;stroke-width:2;\" x=\"441.752864\" xlink:href=\"#mfe32e36417\" y=\"67.172742\"/>\r\n    </g>\r\n   </g>\r\n   <g id=\"PathCollection_83\">\r\n    <g clip-path=\"url(#pab8bfe1fa5)\">\r\n     <use style=\"fill:#de8f05;stroke:#de8f05;stroke-width:2;\" x=\"475.329375\" xlink:href=\"#mfe32e36417\" y=\"77.97217\"/>\r\n    </g>\r\n   </g>\r\n   <g id=\"PathCollection_84\">\r\n    <g clip-path=\"url(#pab8bfe1fa5)\">\r\n     <use style=\"fill:#de8f05;stroke:#de8f05;stroke-width:2;\" x=\"440.09459\" xlink:href=\"#mfe32e36417\" y=\"60.809492\"/>\r\n    </g>\r\n   </g>\r\n   <g id=\"PathCollection_85\">\r\n    <g clip-path=\"url(#pab8bfe1fa5)\">\r\n     <use style=\"fill:#de8f05;stroke:#de8f05;stroke-width:2;\" x=\"416.149789\" xlink:href=\"#mfe32e36417\" y=\"70.056472\"/>\r\n    </g>\r\n   </g>\r\n   <g id=\"PathCollection_86\">\r\n    <g clip-path=\"url(#pab8bfe1fa5)\">\r\n     <use style=\"fill:#de8f05;stroke:#de8f05;stroke-width:2;\" x=\"450.232236\" xlink:href=\"#mfe32e36417\" y=\"67.553195\"/>\r\n    </g>\r\n   </g>\r\n   <g id=\"PathCollection_87\">\r\n    <g clip-path=\"url(#pab8bfe1fa5)\">\r\n     <use style=\"fill:#de8f05;stroke:#de8f05;stroke-width:2;\" x=\"424.501191\" xlink:href=\"#mfe32e36417\" y=\"74.475128\"/>\r\n    </g>\r\n   </g>\r\n   <g id=\"PathCollection_88\">\r\n    <g clip-path=\"url(#pab8bfe1fa5)\">\r\n     <use style=\"fill:#0173b2;stroke:#0173b2;stroke-width:2;\" x=\"147.232365\" xlink:href=\"#mb8b274ca85\" y=\"271.363062\"/>\r\n    </g>\r\n   </g>\r\n   <g id=\"PathCollection_89\">\r\n    <g clip-path=\"url(#pab8bfe1fa5)\">\r\n     <use style=\"fill:#de8f05;stroke:#de8f05;stroke-width:2;\" x=\"444.580494\" xlink:href=\"#mfe32e36417\" y=\"69.13075\"/>\r\n    </g>\r\n   </g>\r\n   <g id=\"PathCollection_90\">\r\n    <g clip-path=\"url(#pab8bfe1fa5)\">\r\n     <use style=\"fill:#0173b2;stroke:#0173b2;stroke-width:2;\" x=\"127.021497\" xlink:href=\"#mb8b274ca85\" y=\"300.826047\"/>\r\n    </g>\r\n   </g>\r\n   <g id=\"PathCollection_91\">\r\n    <g clip-path=\"url(#pab8bfe1fa5)\">\r\n     <use style=\"fill:#0173b2;stroke:#0173b2;stroke-width:2;\" x=\"160.361421\" xlink:href=\"#mb8b274ca85\" y=\"282.697188\"/>\r\n    </g>\r\n   </g>\r\n   <g id=\"PathCollection_92\">\r\n    <g clip-path=\"url(#pab8bfe1fa5)\">\r\n     <use style=\"fill:#0173b2;stroke:#0173b2;stroke-width:2;\" x=\"103.329375\" xlink:href=\"#mb8b274ca85\" y=\"299.69214\"/>\r\n    </g>\r\n   </g>\r\n   <g id=\"PathCollection_93\">\r\n    <g clip-path=\"url(#pab8bfe1fa5)\">\r\n     <use style=\"fill:#de8f05;stroke:#de8f05;stroke-width:2;\" x=\"436.80318\" xlink:href=\"#mfe32e36417\" y=\"77.219296\"/>\r\n    </g>\r\n   </g>\r\n   <g id=\"PathCollection_94\">\r\n    <g clip-path=\"url(#pab8bfe1fa5)\">\r\n     <use style=\"fill:#0173b2;stroke:#0173b2;stroke-width:2;\" x=\"142.982743\" xlink:href=\"#mb8b274ca85\" y=\"281.363191\"/>\r\n    </g>\r\n   </g>\r\n   <g id=\"PathCollection_95\">\r\n    <g clip-path=\"url(#pab8bfe1fa5)\">\r\n     <use style=\"fill:#0173b2;stroke:#0173b2;stroke-width:2;\" x=\"178.441244\" xlink:href=\"#mb8b274ca85\" y=\"280.02423\"/>\r\n    </g>\r\n   </g>\r\n   <g id=\"PathCollection_96\">\r\n    <g clip-path=\"url(#pab8bfe1fa5)\">\r\n     <use style=\"fill:#de8f05;stroke:#de8f05;stroke-width:2;\" x=\"459.960072\" xlink:href=\"#mfe32e36417\" y=\"70.561291\"/>\r\n    </g>\r\n   </g>\r\n   <g id=\"PathCollection_97\">\r\n    <g clip-path=\"url(#pab8bfe1fa5)\">\r\n     <use style=\"fill:#de8f05;stroke:#de8f05;stroke-width:2;\" x=\"451.723352\" xlink:href=\"#mfe32e36417\" y=\"60.262974\"/>\r\n    </g>\r\n   </g>\r\n   <g id=\"PathCollection_98\">\r\n    <g clip-path=\"url(#pab8bfe1fa5)\">\r\n     <use style=\"fill:#0173b2;stroke:#0173b2;stroke-width:2;\" x=\"152.729526\" xlink:href=\"#mb8b274ca85\" y=\"298.479914\"/>\r\n    </g>\r\n   </g>\r\n   <g id=\"PathCollection_99\">\r\n    <g clip-path=\"url(#pab8bfe1fa5)\">\r\n     <use style=\"fill:#0173b2;stroke:#0173b2;stroke-width:2;\" x=\"169.84146\" xlink:href=\"#mb8b274ca85\" y=\"285.427978\"/>\r\n    </g>\r\n   </g>\r\n   <g id=\"PathCollection_100\">\r\n    <g clip-path=\"url(#pab8bfe1fa5)\">\r\n     <use style=\"fill:#0173b2;stroke:#0173b2;stroke-width:2;\" x=\"126.185982\" xlink:href=\"#mb8b274ca85\" y=\"279.122668\"/>\r\n    </g>\r\n   </g>\r\n   <g id=\"PathCollection_101\">\r\n    <g clip-path=\"url(#pab8bfe1fa5)\">\r\n     <use style=\"fill:#de8f05;stroke:#de8f05;stroke-width:2;\" x=\"450.615204\" xlink:href=\"#mfe32e36417\" y=\"81.292065\"/>\r\n    </g>\r\n   </g>\r\n   <g id=\"PathCollection_102\">\r\n    <g clip-path=\"url(#pab8bfe1fa5)\">\r\n     <use style=\"fill:#0173b2;stroke:#0173b2;stroke-width:2;\" x=\"150.959879\" xlink:href=\"#mb8b274ca85\" y=\"271.346453\"/>\r\n    </g>\r\n   </g>\r\n   <g id=\"PathCollection_103\">\r\n    <g clip-path=\"url(#pab8bfe1fa5)\">\r\n     <use style=\"fill:#de8f05;stroke:#de8f05;stroke-width:2;\" x=\"451.520568\" xlink:href=\"#mfe32e36417\" y=\"78.530994\"/>\r\n    </g>\r\n   </g>\r\n   <g id=\"PathCollection_104\">\r\n    <g clip-path=\"url(#pab8bfe1fa5)\">\r\n     <use style=\"fill:#de8f05;stroke:#de8f05;stroke-width:2;\" x=\"471.303885\" xlink:href=\"#mfe32e36417\" y=\"70.188089\"/>\r\n    </g>\r\n   </g>\r\n   <g id=\"PathCollection_105\">\r\n    <g clip-path=\"url(#pab8bfe1fa5)\">\r\n     <use style=\"fill:#de8f05;stroke:#de8f05;stroke-width:2;\" x=\"450.357459\" xlink:href=\"#mfe32e36417\" y=\"66.836583\"/>\r\n    </g>\r\n   </g>\r\n   <g id=\"PathCollection_106\">\r\n    <g clip-path=\"url(#pab8bfe1fa5)\">\r\n     <use style=\"fill:#de8f05;stroke:#de8f05;stroke-width:2;\" x=\"420.052104\" xlink:href=\"#mfe32e36417\" y=\"66.267259\"/>\r\n    </g>\r\n   </g>\r\n   <g id=\"PathCollection_107\">\r\n    <g clip-path=\"url(#pab8bfe1fa5)\">\r\n     <use style=\"fill:#0173b2;stroke:#0173b2;stroke-width:2;\" x=\"147.120908\" xlink:href=\"#mb8b274ca85\" y=\"273.668767\"/>\r\n    </g>\r\n   </g>\r\n   <g id=\"PathCollection_108\">\r\n    <g clip-path=\"url(#pab8bfe1fa5)\">\r\n     <use style=\"fill:#de8f05;stroke:#de8f05;stroke-width:2;\" x=\"456.912428\" xlink:href=\"#mfe32e36417\" y=\"64.370911\"/>\r\n    </g>\r\n   </g>\r\n   <g id=\"PathCollection_109\">\r\n    <g clip-path=\"url(#pab8bfe1fa5)\">\r\n     <use style=\"fill:#de8f05;stroke:#de8f05;stroke-width:2;\" x=\"428.431072\" xlink:href=\"#mfe32e36417\" y=\"65.462282\"/>\r\n    </g>\r\n   </g>\r\n   <g id=\"PathCollection_110\">\r\n    <g clip-path=\"url(#pab8bfe1fa5)\">\r\n     <use style=\"fill:#de8f05;stroke:#de8f05;stroke-width:2;\" x=\"466.266973\" xlink:href=\"#mfe32e36417\" y=\"55.640287\"/>\r\n    </g>\r\n   </g>\r\n   <g id=\"PathCollection_111\">\r\n    <g clip-path=\"url(#pab8bfe1fa5)\">\r\n     <use style=\"fill:#0173b2;stroke:#0173b2;stroke-width:2;\" x=\"147.075545\" xlink:href=\"#mb8b274ca85\" y=\"288.462251\"/>\r\n    </g>\r\n   </g>\r\n   <g id=\"PathCollection_112\">\r\n    <g clip-path=\"url(#pab8bfe1fa5)\">\r\n     <use style=\"fill:#de8f05;stroke:#de8f05;stroke-width:2;\" x=\"435.92935\" xlink:href=\"#mfe32e36417\" y=\"80.346082\"/>\r\n    </g>\r\n   </g>\r\n   <g id=\"PathCollection_113\">\r\n    <g clip-path=\"url(#pab8bfe1fa5)\">\r\n     <use style=\"fill:#de8f05;stroke:#de8f05;stroke-width:2;\" x=\"454.157497\" xlink:href=\"#mfe32e36417\" y=\"38.908442\"/>\r\n    </g>\r\n   </g>\r\n   <g id=\"PathCollection_114\">\r\n    <g clip-path=\"url(#pab8bfe1fa5)\">\r\n     <use style=\"fill:#0173b2;stroke:#0173b2;stroke-width:2;\" x=\"143.640234\" xlink:href=\"#mb8b274ca85\" y=\"270.534086\"/>\r\n    </g>\r\n   </g>\r\n   <g id=\"PathCollection_115\">\r\n    <g clip-path=\"url(#pab8bfe1fa5)\">\r\n     <use style=\"fill:#0173b2;stroke:#0173b2;stroke-width:2;\" x=\"138.802862\" xlink:href=\"#mb8b274ca85\" y=\"298.227424\"/>\r\n    </g>\r\n   </g>\r\n   <g id=\"PathCollection_116\">\r\n    <g clip-path=\"url(#pab8bfe1fa5)\">\r\n     <use style=\"fill:#0173b2;stroke:#0173b2;stroke-width:2;\" x=\"138.213783\" xlink:href=\"#mb8b274ca85\" y=\"275.912734\"/>\r\n    </g>\r\n   </g>\r\n   <g id=\"PathCollection_117\">\r\n    <g clip-path=\"url(#pab8bfe1fa5)\">\r\n     <use style=\"fill:#0173b2;stroke:#0173b2;stroke-width:2;\" x=\"135.183411\" xlink:href=\"#mb8b274ca85\" y=\"271.310457\"/>\r\n    </g>\r\n   </g>\r\n   <g id=\"PathCollection_118\">\r\n    <g clip-path=\"url(#pab8bfe1fa5)\">\r\n     <use style=\"fill:#0173b2;stroke:#0173b2;stroke-width:2;\" x=\"138.874974\" xlink:href=\"#mb8b274ca85\" y=\"283.513519\"/>\r\n    </g>\r\n   </g>\r\n   <g id=\"PathCollection_119\">\r\n    <g clip-path=\"url(#pab8bfe1fa5)\">\r\n     <use style=\"fill:#0173b2;stroke:#0173b2;stroke-width:2;\" x=\"168.377829\" xlink:href=\"#mb8b274ca85\" y=\"288.495312\"/>\r\n    </g>\r\n   </g>\r\n   <g id=\"PathCollection_120\">\r\n    <g clip-path=\"url(#pab8bfe1fa5)\">\r\n     <use style=\"fill:#0173b2;stroke:#0173b2;stroke-width:2;\" x=\"163.454228\" xlink:href=\"#mb8b274ca85\" y=\"310.708442\"/>\r\n    </g>\r\n   </g>\r\n   <g id=\"PathCollection_121\">\r\n    <g clip-path=\"url(#pab8bfe1fa5)\">\r\n     <use style=\"fill:#0173b2;stroke:#0173b2;stroke-width:2;\" x=\"138.44059\" xlink:href=\"#mb8b274ca85\" y=\"278.085269\"/>\r\n    </g>\r\n   </g>\r\n   <g id=\"PathCollection_122\">\r\n    <g clip-path=\"url(#pab8bfe1fa5)\">\r\n     <use style=\"fill:#de8f05;stroke:#de8f05;stroke-width:2;\" x=\"462.981704\" xlink:href=\"#mfe32e36417\" y=\"58.764472\"/>\r\n    </g>\r\n   </g>\r\n   <g id=\"PathCollection_123\">\r\n    <g clip-path=\"url(#pab8bfe1fa5)\">\r\n     <use style=\"fill:#0173b2;stroke:#0173b2;stroke-width:2;\" x=\"155.215841\" xlink:href=\"#mb8b274ca85\" y=\"296.755265\"/>\r\n    </g>\r\n   </g>\r\n   <g id=\"PathCollection_124\">\r\n    <g clip-path=\"url(#pab8bfe1fa5)\">\r\n     <use style=\"fill:#0173b2;stroke:#0173b2;stroke-width:2;\" x=\"161.810646\" xlink:href=\"#mb8b274ca85\" y=\"288.734669\"/>\r\n    </g>\r\n   </g>\r\n   <g id=\"PathCollection_125\">\r\n    <g clip-path=\"url(#pab8bfe1fa5)\">\r\n     <use style=\"fill:#de8f05;stroke:#de8f05;stroke-width:2;\" x=\"434.371337\" xlink:href=\"#mfe32e36417\" y=\"61.00635\"/>\r\n    </g>\r\n   </g>\r\n   <g id=\"PathCollection_126\">\r\n    <g clip-path=\"url(#pab8bfe1fa5)\">\r\n     <use style=\"fill:#de8f05;stroke:#de8f05;stroke-width:2;\" x=\"409.861778\" xlink:href=\"#mfe32e36417\" y=\"96.054376\"/>\r\n    </g>\r\n   </g>\r\n   <g id=\"PathCollection_127\">\r\n    <g clip-path=\"url(#pab8bfe1fa5)\">\r\n     <use style=\"fill:#0173b2;stroke:#0173b2;stroke-width:2;\" x=\"135.632147\" xlink:href=\"#mb8b274ca85\" y=\"277.363322\"/>\r\n    </g>\r\n   </g>\r\n   <g id=\"PathCollection_128\">\r\n    <g clip-path=\"url(#pab8bfe1fa5)\">\r\n     <use style=\"fill:#0173b2;stroke:#0173b2;stroke-width:2;\" x=\"146.433578\" xlink:href=\"#mb8b274ca85\" y=\"283.76704\"/>\r\n    </g>\r\n   </g>\r\n   <g id=\"PathCollection_129\">\r\n    <g clip-path=\"url(#pab8bfe1fa5)\">\r\n     <use style=\"fill:#0173b2;stroke:#0173b2;stroke-width:2;\" x=\"137.349624\" xlink:href=\"#mb8b274ca85\" y=\"284.246157\"/>\r\n    </g>\r\n   </g>\r\n   <g id=\"PathCollection_130\">\r\n    <g clip-path=\"url(#pab8bfe1fa5)\">\r\n     <use style=\"fill:#0173b2;stroke:#0173b2;stroke-width:2;\" x=\"167.618689\" xlink:href=\"#mb8b274ca85\" y=\"273.420666\"/>\r\n    </g>\r\n   </g>\r\n   <g id=\"PathCollection_131\">\r\n    <g clip-path=\"url(#pab8bfe1fa5)\">\r\n     <use style=\"fill:#de8f05;stroke:#de8f05;stroke-width:2;\" x=\"451.775566\" xlink:href=\"#mfe32e36417\" y=\"68.180525\"/>\r\n    </g>\r\n   </g>\r\n   <g id=\"PathCollection_132\">\r\n    <g clip-path=\"url(#pab8bfe1fa5)\">\r\n     <use style=\"fill:#de8f05;stroke:#de8f05;stroke-width:2;\" x=\"445.4461\" xlink:href=\"#mfe32e36417\" y=\"64.958448\"/>\r\n    </g>\r\n   </g>\r\n   <g id=\"PathCollection_133\">\r\n    <g clip-path=\"url(#pab8bfe1fa5)\">\r\n     <use style=\"fill:#0173b2;stroke:#0173b2;stroke-width:2;\" x=\"148.116622\" xlink:href=\"#mb8b274ca85\" y=\"272.306681\"/>\r\n    </g>\r\n   </g>\r\n   <g id=\"PathCollection_134\">\r\n    <g clip-path=\"url(#pab8bfe1fa5)\">\r\n     <use style=\"fill:#de8f05;stroke:#de8f05;stroke-width:2;\" x=\"440.978481\" xlink:href=\"#mfe32e36417\" y=\"65.434725\"/>\r\n    </g>\r\n   </g>\r\n   <g id=\"PathCollection_135\">\r\n    <g clip-path=\"url(#pab8bfe1fa5)\">\r\n     <use style=\"fill:#de8f05;stroke:#de8f05;stroke-width:2;\" x=\"437.358253\" xlink:href=\"#mfe32e36417\" y=\"60.75713\"/>\r\n    </g>\r\n   </g>\r\n   <g id=\"PathCollection_136\">\r\n    <g clip-path=\"url(#pab8bfe1fa5)\">\r\n     <use style=\"fill:#0173b2;stroke:#0173b2;stroke-width:2;\" x=\"133.351877\" xlink:href=\"#mb8b274ca85\" y=\"271.233976\"/>\r\n    </g>\r\n   </g>\r\n   <g id=\"PathCollection_137\">\r\n    <g clip-path=\"url(#pab8bfe1fa5)\">\r\n     <use style=\"fill:#0173b2;stroke:#0173b2;stroke-width:2;\" x=\"135.012381\" xlink:href=\"#mb8b274ca85\" y=\"292.239506\"/>\r\n    </g>\r\n   </g>\r\n   <g id=\"PathCollection_138\">\r\n    <g clip-path=\"url(#pab8bfe1fa5)\">\r\n     <use style=\"fill:#0173b2;stroke:#0173b2;stroke-width:2;\" x=\"144.582275\" xlink:href=\"#mb8b274ca85\" y=\"293.18459\"/>\r\n    </g>\r\n   </g>\r\n   <g id=\"PathCollection_139\">\r\n    <g clip-path=\"url(#pab8bfe1fa5)\">\r\n     <use style=\"fill:#de8f05;stroke:#de8f05;stroke-width:2;\" x=\"447.980948\" xlink:href=\"#mfe32e36417\" y=\"72.523917\"/>\r\n    </g>\r\n   </g>\r\n   <g id=\"PathCollection_140\">\r\n    <g clip-path=\"url(#pab8bfe1fa5)\">\r\n     <use style=\"fill:#de8f05;stroke:#de8f05;stroke-width:2;\" x=\"437.748799\" xlink:href=\"#mfe32e36417\" y=\"87.433588\"/>\r\n    </g>\r\n   </g>\r\n   <g id=\"PathCollection_141\">\r\n    <g clip-path=\"url(#pab8bfe1fa5)\">\r\n     <use style=\"fill:#0173b2;stroke:#0173b2;stroke-width:2;\" x=\"137.869385\" xlink:href=\"#mb8b274ca85\" y=\"290.473243\"/>\r\n    </g>\r\n   </g>\r\n   <g id=\"PathCollection_142\">\r\n    <g clip-path=\"url(#pab8bfe1fa5)\">\r\n     <use style=\"fill:#0173b2;stroke:#0173b2;stroke-width:2;\" x=\"140.094995\" xlink:href=\"#mb8b274ca85\" y=\"276.861149\"/>\r\n    </g>\r\n   </g>\r\n   <g id=\"PathCollection_143\">\r\n    <g clip-path=\"url(#pab8bfe1fa5)\">\r\n     <use style=\"fill:#0173b2;stroke:#0173b2;stroke-width:2;\" x=\"133.935861\" xlink:href=\"#mb8b274ca85\" y=\"281.197343\"/>\r\n    </g>\r\n   </g>\r\n   <g id=\"PathCollection_144\">\r\n    <g clip-path=\"url(#pab8bfe1fa5)\">\r\n     <use style=\"fill:#de8f05;stroke:#de8f05;stroke-width:2;\" x=\"435.902477\" xlink:href=\"#mfe32e36417\" y=\"73.679648\"/>\r\n    </g>\r\n   </g>\r\n   <g id=\"PathCollection_145\">\r\n    <g clip-path=\"url(#pab8bfe1fa5)\">\r\n     <use style=\"fill:#0173b2;stroke:#0173b2;stroke-width:2;\" x=\"146.614586\" xlink:href=\"#mb8b274ca85\" y=\"295.315166\"/>\r\n    </g>\r\n   </g>\r\n   <g id=\"PathCollection_146\">\r\n    <g clip-path=\"url(#pab8bfe1fa5)\">\r\n     <use style=\"fill:#0173b2;stroke:#0173b2;stroke-width:2;\" x=\"167.336913\" xlink:href=\"#mb8b274ca85\" y=\"278.724932\"/>\r\n    </g>\r\n   </g>\r\n   <g id=\"PathCollection_147\">\r\n    <g clip-path=\"url(#pab8bfe1fa5)\">\r\n     <use style=\"fill:#0173b2;stroke:#0173b2;stroke-width:2;\" x=\"136.455161\" xlink:href=\"#mb8b274ca85\" y=\"296.054787\"/>\r\n    </g>\r\n   </g>\r\n   <g id=\"PathCollection_148\">\r\n    <g clip-path=\"url(#pab8bfe1fa5)\">\r\n     <use style=\"fill:#0173b2;stroke:#0173b2;stroke-width:2;\" x=\"136.061523\" xlink:href=\"#mb8b274ca85\" y=\"286.164314\"/>\r\n    </g>\r\n   </g>\r\n   <g id=\"PathCollection_149\">\r\n    <g clip-path=\"url(#pab8bfe1fa5)\">\r\n     <use style=\"fill:#de8f05;stroke:#de8f05;stroke-width:2;\" x=\"462.229767\" xlink:href=\"#mfe32e36417\" y=\"62.22424\"/>\r\n    </g>\r\n   </g>\r\n   <g id=\"PathCollection_150\">\r\n    <g clip-path=\"url(#pab8bfe1fa5)\">\r\n     <use style=\"fill:#0173b2;stroke:#0173b2;stroke-width:2;\" x=\"151.276055\" xlink:href=\"#mb8b274ca85\" y=\"283.061602\"/>\r\n    </g>\r\n   </g>\r\n   <g id=\"PathCollection_151\">\r\n    <g clip-path=\"url(#pab8bfe1fa5)\">\r\n     <use style=\"fill:#0173b2;stroke:#0173b2;stroke-width:2;\" x=\"140.565289\" xlink:href=\"#mb8b274ca85\" y=\"276.586853\"/>\r\n    </g>\r\n   </g>\r\n   <g id=\"PathCollection_152\">\r\n    <g clip-path=\"url(#pab8bfe1fa5)\">\r\n     <use style=\"fill:#de8f05;stroke:#de8f05;stroke-width:2;\" x=\"432.984379\" xlink:href=\"#mfe32e36417\" y=\"74.011759\"/>\r\n    </g>\r\n   </g>\r\n   <g id=\"PathCollection_153\">\r\n    <g clip-path=\"url(#pab8bfe1fa5)\">\r\n     <use style=\"fill:#de8f05;stroke:#de8f05;stroke-width:2;\" x=\"437.799826\" xlink:href=\"#mfe32e36417\" y=\"70.971862\"/>\r\n    </g>\r\n   </g>\r\n   <g id=\"PathCollection_154\">\r\n    <g clip-path=\"url(#pab8bfe1fa5)\">\r\n     <use style=\"fill:#de8f05;stroke:#de8f05;stroke-width:2;\" x=\"448.469882\" xlink:href=\"#mfe32e36417\" y=\"67.991097\"/>\r\n    </g>\r\n   </g>\r\n   <g id=\"PathCollection_155\">\r\n    <g clip-path=\"url(#pab8bfe1fa5)\">\r\n     <use style=\"fill:#0173b2;stroke:#0173b2;stroke-width:2;\" x=\"174.170172\" xlink:href=\"#mb8b274ca85\" y=\"267.389114\"/>\r\n    </g>\r\n   </g>\r\n   <g id=\"PathCollection_156\">\r\n    <g clip-path=\"url(#pab8bfe1fa5)\">\r\n     <use style=\"fill:#de8f05;stroke:#de8f05;stroke-width:2;\" x=\"454.131669\" xlink:href=\"#mfe32e36417\" y=\"62.874015\"/>\r\n    </g>\r\n   </g>\r\n   <g id=\"PathCollection_157\">\r\n    <g clip-path=\"url(#pab8bfe1fa5)\">\r\n     <use style=\"fill:#de8f05;stroke:#de8f05;stroke-width:2;\" x=\"445.293566\" xlink:href=\"#mfe32e36417\" y=\"79.906631\"/>\r\n    </g>\r\n   </g>\r\n   <g id=\"PathCollection_158\">\r\n    <g clip-path=\"url(#pab8bfe1fa5)\">\r\n     <use style=\"fill:#de8f05;stroke:#de8f05;stroke-width:2;\" x=\"437.600916\" xlink:href=\"#mfe32e36417\" y=\"87.495285\"/>\r\n    </g>\r\n   </g>\r\n   <g id=\"PathCollection_159\">\r\n    <g clip-path=\"url(#pab8bfe1fa5)\">\r\n     <use style=\"fill:#de8f05;stroke:#de8f05;stroke-width:2;\" x=\"439.031247\" xlink:href=\"#mfe32e36417\" y=\"90.573243\"/>\r\n    </g>\r\n   </g>\r\n   <g id=\"PathCollection_160\">\r\n    <g clip-path=\"url(#pab8bfe1fa5)\">\r\n     <use style=\"fill:#0173b2;stroke:#0173b2;stroke-width:2;\" x=\"151.821248\" xlink:href=\"#mb8b274ca85\" y=\"284.962464\"/>\r\n    </g>\r\n   </g>\r\n   <g id=\"PathCollection_161\">\r\n    <g clip-path=\"url(#pab8bfe1fa5)\">\r\n     <use style=\"fill:#de8f05;stroke:#de8f05;stroke-width:2;\" x=\"442.412782\" xlink:href=\"#mfe32e36417\" y=\"81.509015\"/>\r\n    </g>\r\n   </g>\r\n   <g id=\"PathCollection_162\">\r\n    <g clip-path=\"url(#pab8bfe1fa5)\">\r\n     <use style=\"fill:#0173b2;stroke:#0173b2;stroke-width:2;\" x=\"140.839186\" xlink:href=\"#mb8b274ca85\" y=\"284.570088\"/>\r\n    </g>\r\n   </g>\r\n   <g id=\"PathCollection_163\">\r\n    <g clip-path=\"url(#pab8bfe1fa5)\">\r\n     <use style=\"fill:#0173b2;stroke:#0173b2;stroke-width:2;\" x=\"143.410817\" xlink:href=\"#mb8b274ca85\" y=\"286.631941\"/>\r\n    </g>\r\n   </g>\r\n   <g id=\"PathCollection_164\">\r\n    <g clip-path=\"url(#pab8bfe1fa5)\">\r\n     <use style=\"fill:#0173b2;stroke:#0173b2;stroke-width:2;\" x=\"146.502437\" xlink:href=\"#mb8b274ca85\" y=\"284.655548\"/>\r\n    </g>\r\n   </g>\r\n   <g id=\"PathCollection_165\">\r\n    <g clip-path=\"url(#pab8bfe1fa5)\">\r\n     <use style=\"fill:#de8f05;stroke:#de8f05;stroke-width:2;\" x=\"470.454965\" xlink:href=\"#mfe32e36417\" y=\"73.170621\"/>\r\n    </g>\r\n   </g>\r\n   <g id=\"PathCollection_166\">\r\n    <g clip-path=\"url(#pab8bfe1fa5)\">\r\n     <use style=\"fill:#de8f05;stroke:#de8f05;stroke-width:2;\" x=\"430.55188\" xlink:href=\"#mfe32e36417\" y=\"79.016016\"/>\r\n    </g>\r\n   </g>\r\n   <g id=\"PathCollection_167\">\r\n    <g clip-path=\"url(#pab8bfe1fa5)\">\r\n     <use style=\"fill:#0173b2;stroke:#0173b2;stroke-width:2;\" x=\"149.474877\" xlink:href=\"#mb8b274ca85\" y=\"292.457568\"/>\r\n    </g>\r\n   </g>\r\n   <g id=\"PathCollection_168\">\r\n    <g clip-path=\"url(#pab8bfe1fa5)\">\r\n     <use style=\"fill:#0173b2;stroke:#0173b2;stroke-width:2;\" x=\"160.818459\" xlink:href=\"#mb8b274ca85\" y=\"292.634272\"/>\r\n    </g>\r\n   </g>\r\n   <g id=\"PathCollection_169\">\r\n    <g clip-path=\"url(#pab8bfe1fa5)\">\r\n     <use style=\"fill:#0173b2;stroke:#0173b2;stroke-width:2;\" x=\"126.26675\" xlink:href=\"#mb8b274ca85\" y=\"295.344963\"/>\r\n    </g>\r\n   </g>\r\n   <g id=\"PathCollection_170\">\r\n    <g clip-path=\"url(#pab8bfe1fa5)\">\r\n     <use style=\"fill:#0173b2;stroke:#0173b2;stroke-width:2;\" x=\"164.411798\" xlink:href=\"#mb8b274ca85\" y=\"287.644641\"/>\r\n    </g>\r\n   </g>\r\n   <g id=\"PathCollection_171\">\r\n    <g clip-path=\"url(#pab8bfe1fa5)\">\r\n     <use style=\"fill:#0173b2;stroke:#0173b2;stroke-width:2;\" x=\"139.424427\" xlink:href=\"#mb8b274ca85\" y=\"282.867317\"/>\r\n    </g>\r\n   </g>\r\n   <g id=\"PathCollection_172\">\r\n    <g clip-path=\"url(#pab8bfe1fa5)\">\r\n     <use style=\"fill:#de8f05;stroke:#de8f05;stroke-width:2;\" x=\"454.671383\" xlink:href=\"#mfe32e36417\" y=\"84.543614\"/>\r\n    </g>\r\n   </g>\r\n   <g id=\"PathCollection_173\">\r\n    <g clip-path=\"url(#pab8bfe1fa5)\">\r\n     <use style=\"fill:#de8f05;stroke:#de8f05;stroke-width:2;\" x=\"425.210103\" xlink:href=\"#mfe32e36417\" y=\"69.852655\"/>\r\n    </g>\r\n   </g>\r\n   <g id=\"PathCollection_174\">\r\n    <g clip-path=\"url(#pab8bfe1fa5)\">\r\n     <use style=\"fill:#0173b2;stroke:#0173b2;stroke-width:2;\" x=\"155.413776\" xlink:href=\"#mb8b274ca85\" y=\"276.715519\"/>\r\n    </g>\r\n   </g>\r\n   <g id=\"PathCollection_175\">\r\n    <g clip-path=\"url(#pab8bfe1fa5)\">\r\n     <use style=\"fill:#de8f05;stroke:#de8f05;stroke-width:2;\" x=\"444.703434\" xlink:href=\"#mfe32e36417\" y=\"47.758173\"/>\r\n    </g>\r\n   </g>\r\n   <g id=\"PathCollection_176\">\r\n    <g clip-path=\"url(#pab8bfe1fa5)\">\r\n     <use style=\"fill:#de8f05;stroke:#de8f05;stroke-width:2;\" x=\"443.918873\" xlink:href=\"#mfe32e36417\" y=\"89.469699\"/>\r\n    </g>\r\n   </g>\r\n   <g id=\"PathCollection_177\">\r\n    <g clip-path=\"url(#pab8bfe1fa5)\">\r\n     <use style=\"fill:#0173b2;stroke:#0173b2;stroke-width:2;\" x=\"135.627691\" xlink:href=\"#mb8b274ca85\" y=\"272.514068\"/>\r\n    </g>\r\n   </g>\r\n   <g id=\"PathCollection_178\">\r\n    <g clip-path=\"url(#pab8bfe1fa5)\">\r\n     <use style=\"fill:#0173b2;stroke:#0173b2;stroke-width:2;\" x=\"151.863404\" xlink:href=\"#mb8b274ca85\" y=\"282.360728\"/>\r\n    </g>\r\n   </g>\r\n   <g id=\"PathCollection_179\">\r\n    <g clip-path=\"url(#pab8bfe1fa5)\">\r\n     <use style=\"fill:#de8f05;stroke:#de8f05;stroke-width:2;\" x=\"458.080152\" xlink:href=\"#mfe32e36417\" y=\"78.411289\"/>\r\n    </g>\r\n   </g>\r\n   <g id=\"PathCollection_180\">\r\n    <g clip-path=\"url(#pab8bfe1fa5)\">\r\n     <use style=\"fill:#0173b2;stroke:#0173b2;stroke-width:2;\" x=\"135.018973\" xlink:href=\"#mb8b274ca85\" y=\"286.197861\"/>\r\n    </g>\r\n   </g>\r\n   <g id=\"PathCollection_181\">\r\n    <g clip-path=\"url(#pab8bfe1fa5)\">\r\n     <use style=\"fill:#de8f05;stroke:#de8f05;stroke-width:2;\" x=\"425.690631\" xlink:href=\"#mfe32e36417\" y=\"58.454996\"/>\r\n    </g>\r\n   </g>\r\n   <g id=\"PathCollection_182\">\r\n    <g clip-path=\"url(#pab8bfe1fa5)\">\r\n     <use style=\"fill:#de8f05;stroke:#de8f05;stroke-width:2;\" x=\"442.921307\" xlink:href=\"#mfe32e36417\" y=\"64.475886\"/>\r\n    </g>\r\n   </g>\r\n   <g id=\"PathCollection_183\">\r\n    <g clip-path=\"url(#pab8bfe1fa5)\">\r\n     <use style=\"fill:#0173b2;stroke:#0173b2;stroke-width:2;\" x=\"156.303408\" xlink:href=\"#mb8b274ca85\" y=\"275.962195\"/>\r\n    </g>\r\n   </g>\r\n   <g id=\"PathCollection_184\">\r\n    <g clip-path=\"url(#pab8bfe1fa5)\">\r\n     <use style=\"fill:#de8f05;stroke:#de8f05;stroke-width:2;\" x=\"457.979391\" xlink:href=\"#mfe32e36417\" y=\"79.604981\"/>\r\n    </g>\r\n   </g>\r\n   <g id=\"PathCollection_185\">\r\n    <g clip-path=\"url(#pab8bfe1fa5)\">\r\n     <use style=\"fill:#de8f05;stroke:#de8f05;stroke-width:2;\" x=\"439.889686\" xlink:href=\"#mfe32e36417\" y=\"69.47594\"/>\r\n    </g>\r\n   </g>\r\n   <g id=\"PathCollection_186\">\r\n    <g clip-path=\"url(#pab8bfe1fa5)\">\r\n     <use style=\"fill:#0173b2;stroke:#0173b2;stroke-width:2;\" x=\"172.05974\" xlink:href=\"#mb8b274ca85\" y=\"291.073495\"/>\r\n    </g>\r\n   </g>\r\n   <g id=\"PathCollection_187\">\r\n    <g clip-path=\"url(#pab8bfe1fa5)\">\r\n     <use style=\"fill:#de8f05;stroke:#de8f05;stroke-width:2;\" x=\"441.086152\" xlink:href=\"#mfe32e36417\" y=\"59.763256\"/>\r\n    </g>\r\n   </g>\r\n   <g id=\"PathCollection_188\">\r\n    <g clip-path=\"url(#pab8bfe1fa5)\">\r\n     <use style=\"fill:#de8f05;stroke:#de8f05;stroke-width:2;\" x=\"441.356516\" xlink:href=\"#mfe32e36417\" y=\"60.109679\"/>\r\n    </g>\r\n   </g>\r\n   <g id=\"PathCollection_189\">\r\n    <g clip-path=\"url(#pab8bfe1fa5)\">\r\n     <use style=\"fill:#0173b2;stroke:#0173b2;stroke-width:2;\" x=\"149.710084\" xlink:href=\"#mb8b274ca85\" y=\"290.606647\"/>\r\n    </g>\r\n   </g>\r\n   <g id=\"PathCollection_190\">\r\n    <g clip-path=\"url(#pab8bfe1fa5)\">\r\n     <use style=\"fill:#0173b2;stroke:#0173b2;stroke-width:2;\" x=\"129.072997\" xlink:href=\"#mb8b274ca85\" y=\"279.289506\"/>\r\n    </g>\r\n   </g>\r\n   <g id=\"PathCollection_191\">\r\n    <g clip-path=\"url(#pab8bfe1fa5)\">\r\n     <use style=\"fill:#0173b2;stroke:#0173b2;stroke-width:2;\" x=\"163.363856\" xlink:href=\"#mb8b274ca85\" y=\"267.874074\"/>\r\n    </g>\r\n   </g>\r\n   <g id=\"PathCollection_192\">\r\n    <g clip-path=\"url(#pab8bfe1fa5)\">\r\n     <use style=\"fill:#de8f05;stroke:#de8f05;stroke-width:2;\" x=\"448.046191\" xlink:href=\"#mfe32e36417\" y=\"50.795129\"/>\r\n    </g>\r\n   </g>\r\n   <g id=\"PathCollection_193\">\r\n    <g clip-path=\"url(#pab8bfe1fa5)\">\r\n     <use style=\"fill:#0173b2;stroke:#0173b2;stroke-width:2;\" x=\"139.959848\" xlink:href=\"#mb8b274ca85\" y=\"278.441258\"/>\r\n    </g>\r\n   </g>\r\n   <g id=\"PathCollection_194\">\r\n    <g clip-path=\"url(#pab8bfe1fa5)\">\r\n     <use style=\"fill:#0173b2;stroke:#0173b2;stroke-width:2;\" x=\"136.212201\" xlink:href=\"#mb8b274ca85\" y=\"280.079844\"/>\r\n    </g>\r\n   </g>\r\n   <g id=\"PathCollection_195\">\r\n    <g clip-path=\"url(#pab8bfe1fa5)\">\r\n     <use style=\"fill:#de8f05;stroke:#de8f05;stroke-width:2;\" x=\"449.343242\" xlink:href=\"#mfe32e36417\" y=\"65.817831\"/>\r\n    </g>\r\n   </g>\r\n   <g id=\"PathCollection_196\">\r\n    <g clip-path=\"url(#pab8bfe1fa5)\">\r\n     <use style=\"fill:#0173b2;stroke:#0173b2;stroke-width:2;\" x=\"149.056245\" xlink:href=\"#mb8b274ca85\" y=\"280.949994\"/>\r\n    </g>\r\n   </g>\r\n   <g id=\"PathCollection_197\">\r\n    <g clip-path=\"url(#pab8bfe1fa5)\">\r\n     <use style=\"fill:#de8f05;stroke:#de8f05;stroke-width:2;\" x=\"458.711805\" xlink:href=\"#mfe32e36417\" y=\"64.189172\"/>\r\n    </g>\r\n   </g>\r\n   <g id=\"PathCollection_198\">\r\n    <g clip-path=\"url(#pab8bfe1fa5)\">\r\n     <use style=\"fill:#de8f05;stroke:#de8f05;stroke-width:2;\" x=\"473.290731\" xlink:href=\"#mfe32e36417\" y=\"79.633768\"/>\r\n    </g>\r\n   </g>\r\n   <g id=\"PathCollection_199\">\r\n    <g clip-path=\"url(#pab8bfe1fa5)\">\r\n     <use style=\"fill:#de8f05;stroke:#de8f05;stroke-width:2;\" x=\"434.250643\" xlink:href=\"#mfe32e36417\" y=\"80.58825\"/>\r\n    </g>\r\n   </g>\r\n   <g id=\"PathCollection_200\">\r\n    <g clip-path=\"url(#pab8bfe1fa5)\">\r\n     <use style=\"fill:#0173b2;stroke:#0173b2;stroke-width:2;\" x=\"161.094384\" xlink:href=\"#mb8b274ca85\" y=\"279.725358\"/>\r\n    </g>\r\n   </g>\r\n   <g id=\"patch_3\">\r\n    <path d=\"M 66.129375 337.888442 \r\nL 66.129375 11.728442 \r\n\" style=\"fill:none;stroke:#262626;stroke-linecap:square;stroke-linejoin:miter;stroke-width:2.5;\"/>\r\n   </g>\r\n   <g id=\"patch_4\">\r\n    <path d=\"M 512.529375 337.888442 \r\nL 512.529375 11.728442 \r\n\" style=\"fill:none;stroke:#262626;stroke-linecap:square;stroke-linejoin:miter;stroke-width:2.5;\"/>\r\n   </g>\r\n   <g id=\"patch_5\">\r\n    <path d=\"M 66.129375 337.888442 \r\nL 512.529375 337.888442 \r\n\" style=\"fill:none;stroke:#262626;stroke-linecap:square;stroke-linejoin:miter;stroke-width:2.5;\"/>\r\n   </g>\r\n   <g id=\"patch_6\">\r\n    <path d=\"M 66.129375 11.728442 \r\nL 512.529375 11.728442 \r\n\" style=\"fill:none;stroke:#262626;stroke-linecap:square;stroke-linejoin:miter;stroke-width:2.5;\"/>\r\n   </g>\r\n  </g>\r\n </g>\r\n <defs>\r\n  <clipPath id=\"pab8bfe1fa5\">\r\n   <rect height=\"326.16\" width=\"446.4\" x=\"66.129375\" y=\"11.728442\"/>\r\n  </clipPath>\r\n </defs>\r\n</svg>\r\n",
      "image/png": "[encoded data removed]"
     },
     "metadata": {}
    }
   ],
   "source": [
    "plot_2d(X,y)"
   ]
  },
  {
   "cell_type": "markdown",
   "metadata": {},
   "source": [
    "## The perceptron\n",
    "\n",
    "#### Linear classifiers (affine)\n",
    "\n",
    "A **linear classifier** is a classifier associating to each observation $x$ a label in $\\mathcal{Y}$ given its position related to an **affine hyperplane**. Each linear classifier is therefore linked to an affine hyperplan of $\\mathbb{R}^p$, which we define by its **directing vector** (or normal vector) $\\mathbf{w} = (w_0, w_1, ..., w_p) \\in \\mathbb{R}^p$. Note the supplementary dimension: it is used for what we call the *intercept* $w_0$ of the classifier (in French, *ordonnée à l'origine*). Geometrically, this allows the hyperplane to not go through the origin, and be shifted anywhere in the space. \n",
    "The hyperplane is then given by:\n",
    "$$ H_{\\mathbf{w}}=\\left\\{ \\mathbf{x} \\in \\mathbb{R}^{p} : \\hat{f}_{\\mathbf{w}}(\\mathbf{x}):=\n",
    "w_0 +\\sum_{j=1}^p w_j x_j=0 \\right\\}. $$\n",
    "\n",
    "In order to classify an observation $\\mathbf{x}$ (i.e, affect a label $1$ or $-1$, we use the function $sign(f(\\mathbf{x}))$, where the $sign$ function is defined as:\n",
    "$$ sign(x)=\n",
    "\\begin{cases}\n",
    " 1,& \\text{ si } x\\geq0,\\\\\n",
    "-1,& \\text{ si } x<0\n",
    "\\end{cases}\n",
    "\\enspace . $$\n",
    "\n",
    "Hence, the function  $\\mathbf{x} \\mapsto sign ( \\hat{f}_{\\mathbf{w}}(\\mathbf{x}))$ is the binary classifier of linear separation defined by $\\mathbf{w}$. The objective of the perceptron is to find an hyperplane which separates in the best possible way the data, into two groups. We would like to have, on each side of the hyperplane, labels separated into homogenous groups. The vector $\\mathbf{w}$ is called a **weight vectors**. "
   ]
  },
  {
   "cell_type": "markdown",
   "metadata": {},
   "source": [
    "For the next questions, you should reuse the datasets you obtained previously.\n",
    "\n",
    "3) What does the linear separation given by the perceptron in dimension $p=2$ ? See if you can find (visually) a good separation for your datasets. When is $\\hat{f}_{\\mathbf{w}}(\\mathbf{x})$ large ? Negative ? Positive ? How can that function be interpreted geometrically ? What does $w_0$ corresponds to on the linear separation you found on your data ?\n",
    "\n",
    "4) Check that the function ```predict(x,w)``` takes, as input, a vector $\\mathbf{x} \\in \\mathbb{R}^p$ and a weight vector $\\mathbf{w} \\in \\mathbb{R}^{p+1}$ and outputs the prediction $\\hat{f}_{\\mathbf{w}}(\\mathbf{x})$. Then, check that ```predict_class(x,w)``` outputs the predicted label $sign\\left(\\hat{f}_\\mathbf{w}(\\mathbf{x})\\right)$."
   ]
  },
  {
   "cell_type": "code",
   "execution_count": null,
   "metadata": {},
   "outputs": [],
   "source": [
    "def predict(x, w):\n",
    "    \"\"\"Prediction from a normal vector.\"\"\"\n",
    "    return np.dot(x, w[1:]) + w[0]\n",
    "\n",
    "\n",
    "def predict_class(x, w):\n",
    "    \"\"\"Predict a class from at point x thanks to a normal vector.\"\"\"\n",
    "    return np.sign(predict(x, w))"
   ]
  },
  {
   "cell_type": "markdown",
   "metadata": {},
   "source": [
    "### Perceptron learning rule\n",
    "\n",
    "The **perceptron algorithm** consists in detecting when there is a mistake, meaning that there is a point that is misclassified, and moving $\\mathbf{w}$ towards having this point on the 'right side' of the hyperplane. The change in $\\mathbf{w}$ for a case when the point is misclassified is described by the following learning rule (Rosenblatt's):\n",
    "$$\\mathbf{w}\\leftarrow\\mathbf{w}+\\epsilon \\begin{pmatrix}1 \\\\ \\mathbf x_i \\end{pmatrix}\\cdot y_i$$\n",
    "where $\\epsilon$ is a *learning step*, which indicates how much we correct $\\mathbf{w}$. The method is iterative: we will go through all examples we have in our data and update the points accordingly. \n",
    "Then, the algorithm is as follows:\n",
    "\n",
    "- **Data**: \n",
    "    - The observations and their labels $\\mathcal{D}_n=\\{(\\mathbf{x}_i,y_i): 1\\leq i \\leq n\\}$\n",
    "    - The gradient step: $\\epsilon$\n",
    "    - The maximal number of iterations: $n_{iter}$\n",
    "\n",
    "- **Result**: \n",
    "    - $\\mathbf{w}$ \n",
    "- Randomly initialize $\\mathbf{w}$; initialize $j=0$\n",
    "- While ${j\\leq n_{\\rm iter}}$ \n",
    "    - $\\mathbf{w}\\leftarrow\\mathbf{w}$\n",
    "    - For $i=1$ to $n$:\n",
    "        - if $\\hat{f}_{\\mathbf{w}}(\\mathbf{x}) \\cdot y_i \\leq 0$\n",
    "            - $\\mathbf{w}\\leftarrow\\mathbf{w}+\\epsilon \\begin{pmatrix}1 \\\\ \\mathbf x_i \\end{pmatrix}\\cdot y_i$\n",
    "        - $j\\leftarrow j+1$\n",
    "        \n",
    "The code for this procedure is given in the ```perceptron``` function:"
   ]
  },
  {
   "cell_type": "code",
   "execution_count": null,
   "metadata": {},
   "outputs": [],
   "source": [
    "def perceptron(x, y, eps, niter, w_ini):\n",
    "    \"\"\" algorithme du perceptron:\n",
    "        - x : donnees\n",
    "        - y : label\n",
    "        - eps : facteur multiplicatif de descente\n",
    "        - niter : nombre d'iterations\n",
    "        - w_ini\n",
    "        \"\"\"\n",
    "    w = np.zeros((niter, w_ini.size))\n",
    "    w[0] = w_ini\n",
    "    for j in range(0, niter-1):\n",
    "        for i in range(x.shape[0]):\n",
    "            if y[i] * predict(x[i, :], w[j, :]) < 0:\n",
    "                w[j, :] += eps * y[i] * np.hstack((np.ones((1,)), x[i, :]))\n",
    "        w[j+1, :] = w[j, :] \n",
    "    return w"
   ]
  },
  {
   "cell_type": "markdown",
   "metadata": {},
   "source": [
    "5) Test the perceptron algorithm on the following parameters and look at how $\\mathbf{w}$ evolves during the iterations. "
   ]
  },
  {
   "cell_type": "code",
   "execution_count": null,
   "metadata": {},
   "outputs": [],
   "source": [
    "# Choose an epsilon\n",
    "epsilon = 0.2\n",
    "# A number of iterations\n",
    "niter = 10\n",
    "# Initialize w_ini\n",
    "std_ini = 1.\n",
    "w_ini = std_ini * np.random.randn(X1.shape[1] + 1)"
   ]
  },
  {
   "cell_type": "markdown",
   "metadata": {},
   "source": [
    "6) Display on the same figure the evolution of the boundaries according to the iterations. We can use the ```plot_2d``` function and its ```alpha_choice``` argument for that purpose."
   ]
  },
  {
   "cell_type": "markdown",
   "metadata": {},
   "source": [
    "### General case: cost function\n",
    "\n",
    "While the perceptron algorithm we saw works geometrically, in general, in order to measure the error associated to an entire dataset $\\mathcal{D}_n$ it is necessary to set a loss function $\\ell:\\mathbb{R}\\times\\mathcal{Y} \\mapsto \\mathbb{R}^+$ which measures the cost $h$ of an error $i$ when predicting an example.\n",
    "The cost that we want to minimize (as a function of $\\mathbf{w}$) is $\\mathbb{E} \\left[ \\ell(\\hat{f}_{\\mathbf{w}}(\\mathbf{x}),y)\\right]$, the expectation of the loss function on all the data. Three loss functions are commonly used and defined below :\n",
    "- the error percentage: $ZeroOneLoss(\\hat{f}_{\\mathbf{w}}(\\mathbf{x}), y) = |y-sign(\\hat{f}_{\\mathbf{w}}(\\mathbf{x}))|/2$,\n",
    "- the quadratic error: $MSELoss(\\hat{f}_{\\mathbf{w}}(\\mathbf{x}), y) = (y-\\hat{f}_{\\mathbf{w}}(\\mathbf{x}))^2$,\n",
    "- the hinge error (*charnière* in French): $HingeLoss(\\hat{f}_{\\mathbf{w}}(\\mathbf{x}), y) = \\max(0,1-y \\cdot \\hat{f}_{\\mathbf{w}}(\\mathbf{x}))$.\n",
    "The purpose here is to study these different loss functions. These three functions are already implemented, as well as their associated gradient:"
   ]
  },
  {
   "cell_type": "code",
   "execution_count": null,
   "metadata": {},
   "outputs": [],
   "source": [
    "def zero_one_loss(x, y, w):\n",
    "    \"\"\"0-1 loss function.\"\"\"\n",
    "    return abs(y - np.sign(predict(x, w))) / 2.\n",
    "\n",
    "def hinge_loss(x, y, w):\n",
    "    \"\"\"Hinge loss function.\"\"\"\n",
    "    return np.maximum(0., 1. - y * predict(x, w))\n",
    "\n",
    "def mse_loss(x, y, w):\n",
    "    \"\"\"Mean square error loss.\"\"\"\n",
    "    return (y - predict(x, w)) ** 2\n",
    "\n",
    "def gr_hinge_loss(x, y, w):\n",
    "    \"\"\"Sub-gradient of the loss function hingeloss.\"\"\"\n",
    "    return np.dot(-y * (hinge_loss(x, y, w) > 0.),\n",
    "                  np.hstack((np.ones((x.shape[0], 1)), x)))\n",
    "\n",
    "\n",
    "def gr_mse_loss(x, y, w):\n",
    "    \"\"\"Gradient of the least squares lost function.\"\"\"\n",
    "    return -2. * np.dot(y - predict(x, w),\n",
    "                        np.hstack((np.ones((x.shape[0], 1)), x)))"
   ]
  },
  {
   "cell_type": "markdown",
   "metadata": {},
   "source": [
    "7) Suppose that $\\mathbf{x} \\in \\mathbb{R}^p$ and $y \\in \\mathbb{R}$ are fixed. What is the nature of the functions $\\mathbf{w} \\mapsto \\ell(\\hat{f}_{\\mathbf{w}}(\\mathbf{x}),y)$ for the three losses studied: constant, linear, qua{dratic, piecewise constant, linear, by pieces, quadratic by pieces, etc. ?"
   ]
  },
  {
   "cell_type": "markdown",
   "metadata": {},
   "source": [
    "## Stochastic gradient descent algorithm\n",
    "\n",
    "In the general case, it is of course impossible to do an exhaustive search of the space $\\mathbb{R}^{p+1}$ where evolves $\\mathbf{w}$ to minimize the gradient of $\\mathbf{w} \\mapsto \\ell(\\hat{f}_{\\mathbf{w}}(\\mathbf{x}),y)$ in order to find the minimum cost. Moreover, we cannot observe $\\mathbb{E} \\left[ \\ell(\\hat{f}_{\\mathbf{w}}(\\mathbf{x}),y)\\right]$, so we can only try to **minimize its empirical counterpart**: $$\\sum_{i=1}^n \\ell(\\hat{f}_{\\mathbf{w}}(\\mathbf{x}_i),y_i)$$\n",
    "\n",
    "\n",
    "The **perceptron algorithm** actually consists in using a variant of the gradient descent algorithm, which is the usual method of optimizing a differentiable function. Here, at each step, the current weight is corrected in the same direction as the gradient, but in the opposite sense. The algorithm converges in the general case to a local minimum as long as $\\epsilon$, which we now call the **gradient step** is well chosen. Moreover, the minimum reached is global for convex functions.\n",
    "\n",
    "The stochastic gradient method is a variant which proposes not to directly use the gradient, which requires calculating a sum on the $n$ observations, but rather to draw (randomly ... or not) a pair $(\\mathbf{x}_i , y_i )$ on which a gradient is calculated. We can also show that this algorithm converges under certain conditions.\n",
    "\n",
    "The **perceptron algorithm** is now described as follows:\n",
    "\n",
    "- **Data**: \n",
    "    - The observations and their labels $\\mathcal{D}_n=\\{(\\mathbf{x}_i,y_i): 1\\leq i \\leq n\\}$\n",
    "    - The gradient step: $\\epsilon$\n",
    "    - The maximal number of iterations: $n_{iter}$\n",
    "\n",
    "- **Result**: \n",
    "    - $\\mathbf{w}$ \n",
    "- Randomly initialize $\\mathbf{w}$; initialize $j=0$\n",
    "- While ${j\\leq n_{\\rm iter}}$ \n",
    "    - $\\mathbf{w}\\leftarrow\\mathbf{w}$\n",
    "    - For $i=1$ to $n$:\n",
    "        - $\\mathbf{w}\\leftarrow\\mathbf{w}-\\epsilon\\nabla_\\mathbf{w}\\ell( \\hat{f}_{\\mathbf{w}}(\\mathbf{x}_i, y_i))$\n",
    "        - $j\\leftarrow j+1$\n",
    "\n",
    "The code for this procedure is given in the ```gradient``` function:\n",
    "\n",
    "*Note: The stochastic gradient method is also available in ```sklearn``` under the name ```SGDClassify``` (SGD is the abbreviation for Stochastic Gradient Descent). A description is given on the page: http://scikit-learn.org/stable/modules/sgd.html.*"
   ]
  },
  {
   "cell_type": "code",
   "execution_count": null,
   "metadata": {},
   "outputs": [],
   "source": [
    "def gradient(x, y, eps, niter, w_ini, loss_fun, gr_loss_fun, stochastic=True):\n",
    "    \"\"\" algorithme de descente du gradient:\n",
    "        - x : donnees\n",
    "        - y : label\n",
    "        - eps : facteur multiplicatif de descente\n",
    "        - niter : nombre d'iterations\n",
    "        - w_ini\n",
    "        - loss_fun : fonction de cout\n",
    "        - gr_loss_fun : gradient de la fonction de cout\n",
    "        - stoch : True : gradient stochastique\n",
    "        \"\"\"\n",
    "    w = np.zeros((niter, w_ini.size))\n",
    "    w[0] = w_ini\n",
    "    loss = np.zeros(niter)\n",
    "    loss[0] = loss_fun(x, y, w[0]).mean()\n",
    "    for i in range(1, niter):\n",
    "        if stochastic:  # this is for Stochastic Gradient Descent\n",
    "            idx = [np.random.randint(x.shape[0])]\n",
    "        else:           # this is for pure Gradient Descent\n",
    "            idx = np.arange(x.shape[0])\n",
    "        w[i, :] = w[i - 1, :] - eps * gr_loss_fun(x[idx, :],\n",
    "                                                  y[idx], w[i - 1, :])\n",
    "        loss[i] = loss_fun(x, y, w[i, :]).mean()\n",
    "    return w, loss"
   ]
  },
  {
   "cell_type": "markdown",
   "metadata": {},
   "source": [
    "7) The perceptron algorithm we first saw is equivalent to this more general one, with a specific loss function. Which one ? In this case, interpret the following condition: $\\hat{f}_{\\mathbf{w}}(\\mathbf{x}_i)\\cdot y_i \\leq $0"
   ]
  },
  {
   "cell_type": "markdown",
   "metadata": {},
   "source": [
    "8) Describe a pseudo-algorithm \"Random perceptron\", a modification that visits observations by making a uniform random draw (do the case with discount and without discount). It is this version which is generally called the Stochastic Gradient Descent. We do not ask you to implement this function here; indeed, this random version is the default one proposed in the ```gradient``` function."
   ]
  },
  {
   "cell_type": "markdown",
   "metadata": {},
   "source": [
    "9) We will graphically observe, with the function ```plot_gradient```, the evolution of $\\frac{1}{n} \\sum_{i=1}^n \\ell(\\hat{f}_{\\mathbf{w}}(\\mathbf{x}_i),y_i)$ according to $\\mathbf{w}$ following the steps of the algorithm. Simple gradient descent is also called **batch**, and consists in calculating the true gradient $\\frac{1}{n} \\sum_{i=1}^n \\nabla_{\\mathbf{w}}\\ell(\\hat{f}_{\\mathbf{w}}(\\mathbf{x}_i),y_i)$. Launch the example with and without the stochastic option. Why should the number of iterations be ```niter * len(y)``` instead of ```niter``` in the stochastic case ? "
   ]
  },
  {
   "cell_type": "code",
   "execution_count": null,
   "metadata": {},
   "outputs": [],
   "source": [
    "def plot_gradient(X, y, wh, cost_hist, loss_fun):\n",
    "    \"\"\" display 4 figures on how  (stochastic) gradient descent behaves\n",
    "    wh : solution history\n",
    "    cost_hist : cost history\n",
    "    loss_fun : loss function\n",
    "    \"\"\"\n",
    "    best = np.argmin(cost_hist)\n",
    "    plt.subplot(221)\n",
    "    plt.title('Data and hyperplane estimated')\n",
    "    plot_2d(X, y, wh[best, :])\n",
    "    plt.subplot(222)\n",
    "    plt.title('Projection of level line and algorithm path')\n",
    "    plot_cout(X, y, loss_fun, wh)\n",
    "    plt.subplot(223)\n",
    "    plt.title('Objective function vs iterations')\n",
    "    plt.plot(range(cost_hist.shape[0]), cost_hist)\n",
    "    plt.subplot(224, projection='3d')\n",
    "    plt.title('Level line and algorithm path')\n",
    "    plot_cout3d(X, y, loss_fun, wh)"
   ]
  },
  {
   "cell_type": "code",
   "execution_count": null,
   "metadata": {},
   "outputs": [],
   "source": [
    "#############################################################################\n",
    "#            Displaying tools for plot_gradient - no understanding needed ! #\n",
    "#############################################################################\n",
    "\n",
    "def frontiere(f, X, step=50, cmap_choice=cm.coolwarm):\n",
    "    \"\"\"Frontiere plotting for a decision function f.\"\"\"\n",
    "    min_tot0 = np.min(X[:, 0])\n",
    "    max_tot0 = np.max(X[:, 0])\n",
    "    min_tot1 = np.min(X[:, 1])\n",
    "    max_tot1 = np.max(X[:, 1])\n",
    "    delta0 = (max_tot0 - min_tot0)\n",
    "    delta1 = (max_tot1 - min_tot1)\n",
    "    xx, yy = np.meshgrid(np.arange(min_tot0, max_tot0, delta0 / step),\n",
    "                         np.arange(min_tot1, max_tot1, delta1 / step))\n",
    "    z = np.array([f(vec) for vec in np.c_[xx.ravel(), yy.ravel()]])\n",
    "    z = z.reshape(xx.shape)\n",
    "    plt.imshow(z, origin='lower', interpolation=\"nearest\", cmap=cmap_choice,\n",
    "               extent=[min_tot0, max_tot0, min_tot1, max_tot1])\n",
    "    plt.colorbar()\n",
    "\n",
    "def frontiere_new(clf, X, y, w=None, step=50, alpha_choice=1, colorbar=True,\n",
    "                  samples=True, n_labels=3, n_neighbors=3):\n",
    "    \"\"\"Trace la frontiere pour la fonction de decision de clf.\"\"\"\n",
    "    min_tot0 = np.min(X[:, 0])\n",
    "    min_tot1 = np.min(X[:, 1])\n",
    "\n",
    "    max_tot0 = np.max(X[:, 0])\n",
    "    max_tot1 = np.max(X[:, 1])\n",
    "    delta0 = (max_tot0 - min_tot0)\n",
    "    delta1 = (max_tot1 - min_tot1)\n",
    "    xx, yy = np.meshgrid(np.arange(min_tot0, max_tot0, delta0 / step),\n",
    "                         np.arange(min_tot1, max_tot1, delta1 / step))\n",
    "    XX = np.c_[xx.ravel(), yy.ravel()]\n",
    "    print(XX.shape)\n",
    "    z = clf.predict(XX)\n",
    "    z = z.reshape(xx.shape)\n",
    "    labels = np.unique(z)\n",
    "    color_blind_list = sns.color_palette(\"colorblind\", labels.shape[0])\n",
    "    my_cmap = ListedColormap(color_blind_list)\n",
    "    plt.imshow(z, origin='lower', interpolation=\"mitchell\", alpha=0.80,\n",
    "               cmap=my_cmap, extent=[min_tot0, max_tot0, min_tot1, max_tot1])\n",
    "    if colorbar is True:\n",
    "        ax = plt.gca()\n",
    "        cbar = plt.colorbar(ticks=labels)\n",
    "        cbar.ax.set_yticklabels(labels)\n",
    "\n",
    "    # color_blind_list = sns.color_palette(\"colorblind\", labels.shape[0])\n",
    "    # sns.set_palette(color_blind_list)\n",
    "    ax = plt.gca()\n",
    "    if samples is True:\n",
    "        for i, label in enumerate(y):\n",
    "            label_num = np.where(labels == label)[0][0]\n",
    "            plt.scatter(X[i, 0], X[i, 1], c=[color_blind_list[label_num]],\n",
    "                        s=80, marker=symlist[label_num])\n",
    "    plt.xlim([min_tot0, max_tot0])\n",
    "    plt.ylim([min_tot1, max_tot1])\n",
    "    ax.get_yaxis().set_ticks([])\n",
    "    ax.get_xaxis().set_ticks([])\n",
    "    if w is not None:\n",
    "        plt.plot([min_tot0, max_tot0],\n",
    "                 [min_tot0 * -w[1] / w[2] - w[0] / w[2],\n",
    "                  max_tot0 * -w[1] / w[2] - w[0] / w[2]],\n",
    "                 \"k\", alpha=alpha_choice)\n",
    "    plt.title(\"L=\" + str(n_labels) + \",k=\" +\n",
    "              str(n_neighbors))\n",
    "\n",
    "def frontiere_3d(f, data, step=20):\n",
    "    \"\"\"Plot the 3d frontiere for the decision function f.\"\"\"\n",
    "    ax = plt.gca(projection='3d')\n",
    "    xmin, xmax = data[:, 0].min() - 1., data[:, 0].max() + 1.\n",
    "    ymin, ymax = data[:, 1].min() - 1., data[:, 1].max() + 1.\n",
    "    xx, yy = np.meshgrid(np.arange(xmin, xmax, (xmax - xmin) * 1. / step),\n",
    "                         np.arange(ymin, ymax, (ymax - ymin) * 1. / step))\n",
    "    z = np.array([f(vec) for vec in np.c_[xx.ravel(), yy.ravel()]])\n",
    "    z = z.reshape(xx.shape)\n",
    "    ax.plot_surface(xx, yy, z, rstride=1, cstride=1,\n",
    "                    linewidth=0., antialiased=False,\n",
    "                    cmap=plt.cm.coolwarm)\n",
    "\n",
    "def plot_cout(X, y, loss_fun, w=None):\n",
    "    \"\"\"Plot the cost function encoded by loss_fun,\n",
    "\n",
    "    Parameters\n",
    "    ----------\n",
    "    X : data features\n",
    "    y :  labels\n",
    "    loss_fun : loss function\n",
    "    w : (optionnal) can be used to give a historic path of the weights \"\"\"\n",
    "    def _inter(wn):\n",
    "        ww = np.zeros(3)\n",
    "        ww[1:] = wn\n",
    "        return loss_fun(X, y, ww).mean()\n",
    "    datarange = np.array([[np.min(X[:, 0]), np.min(X[:, 1])],\n",
    "                          [np.max(X[:, 0]), np.max(X[:, 1])]])\n",
    "    frontiere(_inter, np.array(datarange))\n",
    "    if w is not None:\n",
    "        plt.plot(w[:, 1], w[:, 2], 'k')\n",
    "    plt.xlim([np.min(X[:, 0]), np.max(X[:, 0])])\n",
    "    plt.ylim([np.min(X[:, 1]), np.max(X[:, 1])])\n",
    "\n",
    "def plot_cout3d(x, y, loss_fun, w):\n",
    "    \"\"\" trace le cout de la fonction cout loss_fun passee en parametre, en x,y,\n",
    "        en faisant varier les coordonnees du poids w.\n",
    "        W peut etre utilise pour passer un historique de poids\"\"\"\n",
    "    def _inter(wn):\n",
    "        ww = np.zeros(3)\n",
    "        ww[1:] = wn\n",
    "        return loss_fun(x, y, ww).mean()\n",
    "\n",
    "    datarange = np.array([[w[:, 1].min(), w[:, 2].min()],\n",
    "                         [w[:, 1].max(), w[:, 2].max()]])\n",
    "    frontiere_3d(_inter, np.array(datarange))\n",
    "    plt.plot(w[:, 1], w[:, 2], np.array([_inter(w[i, 1:]) for i in\n",
    "             range(w.shape[0])]), 'k-', linewidth=3)"
   ]
  },
  {
   "cell_type": "markdown",
   "metadata": {},
   "source": [
    "10) Experiment on different datasets: use either the cost functions provided here with ```gradient```,  either the ```sklearn``` function. Study performance according to the following points: the number of iterations, the cost function, the difficulty of the problem (whether the classes are easily separable or not, which you can act on by choosing different gaussian to generate from). Do you at any point observe strange behaviour ? If so, what is the reason?"
   ]
  },
  {
   "cell_type": "markdown",
   "metadata": {},
   "source": [
    "11) Study as before the behavior of the gradient descent algorithm, but with the option ```stoch=True``` disabled."
   ]
  },
  {
   "cell_type": "markdown",
   "metadata": {},
   "source": [
    "12) Propose/code alternative stopping conditions for the algorithm."
   ]
  }
 ],
 "metadata": {
  "kernelspec": {
   "display_name": "Python 3.8.5  ('venv': venv)",
   "language": "python",
   "name": "python385venvvenv93723f0c905f4ddda032d6d26f40716f"
  },
  "language_info": {
   "codemirror_mode": {
    "name": "ipython",
    "version": 3
   },
   "file_extension": ".py",
   "mimetype": "text/x-python",
   "name": "python",
   "nbconvert_exporter": "python",
   "pygments_lexer": "ipython3",
   "version": "3.8.5"
  }
 },
 "nbformat": 4,
 "nbformat_minor": 2
}